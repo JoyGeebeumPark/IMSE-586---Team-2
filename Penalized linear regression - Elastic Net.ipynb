{
 "cells": [
  {
   "cell_type": "markdown",
   "id": "8625b94a",
   "metadata": {},
   "source": [
    "## Model Training"
   ]
  },
  {
   "cell_type": "code",
   "execution_count": 1,
   "id": "6aa1a573",
   "metadata": {},
   "outputs": [
    {
     "name": "stderr",
     "output_type": "stream",
     "text": [
      "C:\\Users\\Joy\\anaconda3\\lib\\site-packages\\pandas\\core\\computation\\expressions.py:20: UserWarning: Pandas requires version '2.7.3' or newer of 'numexpr' (version '2.7.1' currently installed).\n",
      "  from pandas.core.computation.check import NUMEXPR_INSTALLED\n"
     ]
    }
   ],
   "source": [
    "import numpy as np\n",
    "import pandas as pd\n",
    "import matplotlib.pyplot as plt\n",
    "import seaborn as sns\n",
    "import statsmodels.formula.api as smf"
   ]
  },
  {
   "cell_type": "code",
   "execution_count": 2,
   "id": "46ecf505",
   "metadata": {},
   "outputs": [],
   "source": [
    "insurance = pd.read_csv('./expenses.csv')"
   ]
  },
  {
   "cell_type": "code",
   "execution_count": 3,
   "id": "d3b14188",
   "metadata": {},
   "outputs": [
    {
     "data": {
      "text/html": [
       "<div>\n",
       "<style scoped>\n",
       "    .dataframe tbody tr th:only-of-type {\n",
       "        vertical-align: middle;\n",
       "    }\n",
       "\n",
       "    .dataframe tbody tr th {\n",
       "        vertical-align: top;\n",
       "    }\n",
       "\n",
       "    .dataframe thead th {\n",
       "        text-align: right;\n",
       "    }\n",
       "</style>\n",
       "<table border=\"1\" class=\"dataframe\">\n",
       "  <thead>\n",
       "    <tr style=\"text-align: right;\">\n",
       "      <th></th>\n",
       "      <th>age</th>\n",
       "      <th>sex</th>\n",
       "      <th>bmi</th>\n",
       "      <th>children</th>\n",
       "      <th>smoker</th>\n",
       "      <th>region</th>\n",
       "      <th>charges</th>\n",
       "    </tr>\n",
       "  </thead>\n",
       "  <tbody>\n",
       "    <tr>\n",
       "      <th>0</th>\n",
       "      <td>19</td>\n",
       "      <td>female</td>\n",
       "      <td>27.900</td>\n",
       "      <td>0</td>\n",
       "      <td>yes</td>\n",
       "      <td>southwest</td>\n",
       "      <td>16884.92400</td>\n",
       "    </tr>\n",
       "    <tr>\n",
       "      <th>1</th>\n",
       "      <td>18</td>\n",
       "      <td>male</td>\n",
       "      <td>33.770</td>\n",
       "      <td>1</td>\n",
       "      <td>no</td>\n",
       "      <td>southeast</td>\n",
       "      <td>1725.55230</td>\n",
       "    </tr>\n",
       "    <tr>\n",
       "      <th>2</th>\n",
       "      <td>28</td>\n",
       "      <td>male</td>\n",
       "      <td>33.000</td>\n",
       "      <td>3</td>\n",
       "      <td>no</td>\n",
       "      <td>southeast</td>\n",
       "      <td>4449.46200</td>\n",
       "    </tr>\n",
       "    <tr>\n",
       "      <th>3</th>\n",
       "      <td>33</td>\n",
       "      <td>male</td>\n",
       "      <td>22.705</td>\n",
       "      <td>0</td>\n",
       "      <td>no</td>\n",
       "      <td>northwest</td>\n",
       "      <td>21984.47061</td>\n",
       "    </tr>\n",
       "    <tr>\n",
       "      <th>4</th>\n",
       "      <td>32</td>\n",
       "      <td>male</td>\n",
       "      <td>28.880</td>\n",
       "      <td>0</td>\n",
       "      <td>no</td>\n",
       "      <td>northwest</td>\n",
       "      <td>3866.85520</td>\n",
       "    </tr>\n",
       "  </tbody>\n",
       "</table>\n",
       "</div>"
      ],
      "text/plain": [
       "   age     sex     bmi  children smoker     region      charges\n",
       "0   19  female  27.900         0    yes  southwest  16884.92400\n",
       "1   18    male  33.770         1     no  southeast   1725.55230\n",
       "2   28    male  33.000         3     no  southeast   4449.46200\n",
       "3   33    male  22.705         0     no  northwest  21984.47061\n",
       "4   32    male  28.880         0     no  northwest   3866.85520"
      ]
     },
     "execution_count": 3,
     "metadata": {},
     "output_type": "execute_result"
    }
   ],
   "source": [
    "insurance.head()"
   ]
  },
  {
   "cell_type": "code",
   "execution_count": 4,
   "id": "a485a20e",
   "metadata": {},
   "outputs": [],
   "source": [
    "features = ['age', 'sex', 'bmi', 'children', 'smoker', 'region']\n",
    "\n",
    "X = insurance[features]"
   ]
  },
  {
   "cell_type": "code",
   "execution_count": 5,
   "id": "61cdd356",
   "metadata": {},
   "outputs": [
    {
     "data": {
      "text/plain": [
       "0       16884.92400\n",
       "1        1725.55230\n",
       "2        4449.46200\n",
       "3       21984.47061\n",
       "4        3866.85520\n",
       "           ...     \n",
       "1333    10600.54830\n",
       "1334     2205.98080\n",
       "1335     1629.83350\n",
       "1336     2007.94500\n",
       "1337    29141.36030\n",
       "Name: charges, Length: 1338, dtype: float64"
      ]
     },
     "execution_count": 5,
     "metadata": {},
     "output_type": "execute_result"
    }
   ],
   "source": [
    "y = insurance['charges']\n",
    "\n",
    "y"
   ]
  },
  {
   "cell_type": "code",
   "execution_count": 6,
   "id": "79f19c8c",
   "metadata": {},
   "outputs": [
    {
     "data": {
      "text/plain": [
       "4500314.176879"
      ]
     },
     "execution_count": 6,
     "metadata": {},
     "output_type": "execute_result"
    }
   ],
   "source": [
    "#split data 75/25, random state = 0 \n",
    "from sklearn.model_selection import train_test_split\n",
    "\n",
    "X_train, X_test, y_train, y_test = train_test_split(X, y, \n",
    "                                                    test_size=.25,\n",
    "                                                    random_state = 0\n",
    "                                                   )\n",
    "np.sum(y_test)"
   ]
  },
  {
   "cell_type": "code",
   "execution_count": null,
   "id": "8084eb71",
   "metadata": {},
   "outputs": [],
   "source": []
  },
  {
   "cell_type": "code",
   "execution_count": 7,
   "id": "118b1b26",
   "metadata": {},
   "outputs": [],
   "source": [
    "from sklearn.pipeline import make_pipeline\n",
    "from sklearn.compose import make_column_transformer \n",
    "from sklearn.impute import SimpleImputer\n",
    "from sklearn.preprocessing import OneHotEncoder\n",
    "from sklearn.preprocessing import StandardScaler"
   ]
  },
  {
   "cell_type": "code",
   "execution_count": 8,
   "id": "5c8c327e",
   "metadata": {},
   "outputs": [],
   "source": [
    "#Machine learning pipeline\n",
    "\n",
    "#Age, BMI, Childern - std \n",
    "#sex, smoker region - onehot encoding & dummy variable"
   ]
  },
  {
   "cell_type": "code",
   "execution_count": 9,
   "id": "13bc4ca0",
   "metadata": {},
   "outputs": [],
   "source": [
    "#sex, smoker region\n",
    "imp_ohe = make_pipeline(SimpleImputer(strategy='most_frequent'), \n",
    "                       OneHotEncoder(sparse=False))\n",
    "#Age, BMI, Childern\n",
    "imp_std = make_pipeline(SimpleImputer(), \n",
    "                       StandardScaler())"
   ]
  },
  {
   "cell_type": "code",
   "execution_count": 10,
   "id": "24dc11ab",
   "metadata": {},
   "outputs": [],
   "source": [
    "preprocessor = make_column_transformer((imp_ohe, ['sex', 'smoker', 'region']), \n",
    "                       (imp_std, ['age', 'bmi', 'children']), \n",
    "                       remainder = 'passthrough')"
   ]
  },
  {
   "cell_type": "code",
   "execution_count": 11,
   "id": "2207f600",
   "metadata": {},
   "outputs": [
    {
     "data": {
      "text/plain": [
       "array([[ 1.   ,  0.   ,  1.   ,  0.   ,  0.   ,  0.   ,  1.   ,  0.   ,\n",
       "        -0.515, -0.181, -0.064],\n",
       "       [ 1.   ,  0.   ,  1.   ,  0.   ,  1.   ,  0.   ,  0.   ,  0.   ,\n",
       "         1.549, -1.393, -0.892],\n",
       "       [ 0.   ,  1.   ,  1.   ,  0.   ,  0.   ,  0.   ,  0.   ,  1.   ,\n",
       "        -1.44 , -0.982, -0.064],\n",
       "       [ 1.   ,  0.   ,  0.   ,  1.   ,  0.   ,  0.   ,  1.   ,  0.   ,\n",
       "        -1.369, -1.011, -0.892],\n",
       "       [ 1.   ,  0.   ,  1.   ,  0.   ,  0.   ,  1.   ,  0.   ,  0.   ,\n",
       "        -0.942, -1.363, -0.892],\n",
       "       [ 0.   ,  1.   ,  0.   ,  1.   ,  0.   ,  0.   ,  0.   ,  1.   ,\n",
       "         1.051, -0.902,  1.593],\n",
       "       ...,\n",
       "       [ 0.   ,  1.   ,  0.   ,  1.   ,  1.   ,  0.   ,  0.   ,  0.   ,\n",
       "        -1.511, -1.469, -0.892],\n",
       "       [ 0.   ,  1.   ,  1.   ,  0.   ,  1.   ,  0.   ,  0.   ,  0.   ,\n",
       "        -0.871, -0.753, -0.892],\n",
       "       [ 0.   ,  1.   ,  1.   ,  0.   ,  0.   ,  0.   ,  1.   ,  0.   ,\n",
       "         0.197,  0.843,  0.765],\n",
       "       [ 0.   ,  1.   ,  1.   ,  0.   ,  0.   ,  0.   ,  1.   ,  0.   ,\n",
       "         0.054, -0.905, -0.892],\n",
       "       [ 0.   ,  1.   ,  1.   ,  0.   ,  0.   ,  1.   ,  0.   ,  0.   ,\n",
       "        -1.44 ,  0.772, -0.892],\n",
       "       [ 1.   ,  0.   ,  1.   ,  0.   ,  0.   ,  0.   ,  0.   ,  1.   ,\n",
       "        -0.444, -1.961, -0.064]])"
      ]
     },
     "execution_count": 11,
     "metadata": {},
     "output_type": "execute_result"
    }
   ],
   "source": [
    "np.set_printoptions(edgeitems = 6, suppress = True) \n",
    "# onehot encoding ('sex', 'smoker', 'region') /standardization (age', 'bmi', 'children') \n",
    "\n",
    "preprocessor.fit_transform(X_train).round(3)"
   ]
  },
  {
   "cell_type": "code",
   "execution_count": 12,
   "id": "7911e2e0",
   "metadata": {},
   "outputs": [
    {
     "data": {
      "text/plain": [
       "array([[ 1.   ,  0.   ,  1.   ,  0.   ,  0.   ,  0.   ,  1.   ,  0.   ,\n",
       "        -0.515, -0.181, -0.064],\n",
       "       [ 1.   ,  0.   ,  1.   ,  0.   ,  1.   ,  0.   ,  0.   ,  0.   ,\n",
       "         1.549, -1.393, -0.892],\n",
       "       [ 0.   ,  1.   ,  1.   ,  0.   ,  0.   ,  0.   ,  0.   ,  1.   ,\n",
       "        -1.44 , -0.982, -0.064],\n",
       "       [ 1.   ,  0.   ,  0.   ,  1.   ,  0.   ,  0.   ,  1.   ,  0.   ,\n",
       "        -1.369, -1.011, -0.892],\n",
       "       [ 1.   ,  0.   ,  1.   ,  0.   ,  0.   ,  1.   ,  0.   ,  0.   ,\n",
       "        -0.942, -1.363, -0.892],\n",
       "       [ 0.   ,  1.   ,  0.   ,  1.   ,  0.   ,  0.   ,  0.   ,  1.   ,\n",
       "         1.051, -0.902,  1.593],\n",
       "       ...,\n",
       "       [ 0.   ,  1.   ,  0.   ,  1.   ,  1.   ,  0.   ,  0.   ,  0.   ,\n",
       "        -1.511, -1.469, -0.892],\n",
       "       [ 0.   ,  1.   ,  1.   ,  0.   ,  1.   ,  0.   ,  0.   ,  0.   ,\n",
       "        -0.871, -0.753, -0.892],\n",
       "       [ 0.   ,  1.   ,  1.   ,  0.   ,  0.   ,  0.   ,  1.   ,  0.   ,\n",
       "         0.197,  0.843,  0.765],\n",
       "       [ 0.   ,  1.   ,  1.   ,  0.   ,  0.   ,  0.   ,  1.   ,  0.   ,\n",
       "         0.054, -0.905, -0.892],\n",
       "       [ 0.   ,  1.   ,  1.   ,  0.   ,  0.   ,  1.   ,  0.   ,  0.   ,\n",
       "        -1.44 ,  0.772, -0.892],\n",
       "       [ 1.   ,  0.   ,  1.   ,  0.   ,  0.   ,  0.   ,  0.   ,  1.   ,\n",
       "        -0.444, -1.961, -0.064]])"
      ]
     },
     "execution_count": 12,
     "metadata": {},
     "output_type": "execute_result"
    }
   ],
   "source": [
    "preprocessor.fit_transform(X_train).round(3)"
   ]
  },
  {
   "cell_type": "code",
   "execution_count": null,
   "id": "01567a0e",
   "metadata": {},
   "outputs": [],
   "source": []
  },
  {
   "cell_type": "code",
   "execution_count": 13,
   "id": "42175287",
   "metadata": {},
   "outputs": [],
   "source": [
    "from sklearn.linear_model import ElasticNet\n",
    "Elsnet = ElasticNet(alpha = 0.1, random_state = 0)"
   ]
  },
  {
   "cell_type": "code",
   "execution_count": 14,
   "id": "754bfd5b",
   "metadata": {},
   "outputs": [
    {
     "data": {
      "text/plain": [
       "Pipeline(steps=[('columntransformer',\n",
       "                 ColumnTransformer(remainder='passthrough',\n",
       "                                   transformers=[('pipeline-1',\n",
       "                                                  Pipeline(steps=[('simpleimputer',\n",
       "                                                                   SimpleImputer(strategy='most_frequent')),\n",
       "                                                                  ('onehotencoder',\n",
       "                                                                   OneHotEncoder(sparse=False))]),\n",
       "                                                  ['sex', 'smoker', 'region']),\n",
       "                                                 ('pipeline-2',\n",
       "                                                  Pipeline(steps=[('simpleimputer',\n",
       "                                                                   SimpleImputer()),\n",
       "                                                                  ('standardscaler',\n",
       "                                                                   StandardScaler())]),\n",
       "                                                  ['age', 'bmi',\n",
       "                                                   'children'])])),\n",
       "                ('elasticnet', ElasticNet(alpha=0.1, random_state=0))])"
      ]
     },
     "execution_count": 14,
     "metadata": {},
     "output_type": "execute_result"
    }
   ],
   "source": [
    "pipe = make_pipeline(preprocessor, Elsnet) \n",
    "pipe.fit(X_train, y_train)"
   ]
  },
  {
   "cell_type": "code",
   "execution_count": 15,
   "id": "47e1a21d",
   "metadata": {},
   "outputs": [],
   "source": [
    "y_pred = pipe.predict(X_test)"
   ]
  },
  {
   "cell_type": "code",
   "execution_count": 16,
   "id": "9a944579",
   "metadata": {},
   "outputs": [
    {
     "name": "stderr",
     "output_type": "stream",
     "text": [
      "C:\\Users\\Joy\\anaconda3\\lib\\site-packages\\sklearn\\compose\\_column_transformer.py:611: FutureWarning: Support for multi-dimensional indexing (e.g. `obj[:, None]`) is deprecated and will be removed in a future version.  Convert to a numpy array before indexing instead.\n",
      "  self._df_columns[remainder_columns].tolist()\n"
     ]
    },
    {
     "data": {
      "text/html": [
       "<style>div.sk-top-container {color: black;background-color: white;}div.sk-toggleable {background-color: white;}label.sk-toggleable__label {cursor: pointer;display: block;width: 100%;margin-bottom: 0;padding: 0.2em 0.3em;box-sizing: border-box;text-align: center;}div.sk-toggleable__content {max-height: 0;max-width: 0;overflow: hidden;text-align: left;background-color: #f0f8ff;}div.sk-toggleable__content pre {margin: 0.2em;color: black;border-radius: 0.25em;background-color: #f0f8ff;}input.sk-toggleable__control:checked~div.sk-toggleable__content {max-height: 200px;max-width: 100%;overflow: auto;}div.sk-estimator input.sk-toggleable__control:checked~label.sk-toggleable__label {background-color: #d4ebff;}div.sk-label input.sk-toggleable__control:checked~label.sk-toggleable__label {background-color: #d4ebff;}input.sk-hidden--visually {border: 0;clip: rect(1px 1px 1px 1px);clip: rect(1px, 1px, 1px, 1px);height: 1px;margin: -1px;overflow: hidden;padding: 0;position: absolute;width: 1px;}div.sk-estimator {font-family: monospace;background-color: #f0f8ff;margin: 0.25em 0.25em;border: 1px dotted black;border-radius: 0.25em;box-sizing: border-box;}div.sk-estimator:hover {background-color: #d4ebff;}div.sk-parallel-item::after {content: \"\";width: 100%;border-bottom: 1px solid gray;flex-grow: 1;}div.sk-label:hover label.sk-toggleable__label {background-color: #d4ebff;}div.sk-serial::before {content: \"\";position: absolute;border-left: 1px solid gray;box-sizing: border-box;top: 2em;bottom: 0;left: 50%;}div.sk-serial {display: flex;flex-direction: column;align-items: center;background-color: white;}div.sk-item {z-index: 1;}div.sk-parallel {display: flex;align-items: stretch;justify-content: center;background-color: white;}div.sk-parallel-item {display: flex;flex-direction: column;position: relative;background-color: white;}div.sk-parallel-item:first-child::after {align-self: flex-end;width: 50%;}div.sk-parallel-item:last-child::after {align-self: flex-start;width: 50%;}div.sk-parallel-item:only-child::after {width: 0;}div.sk-dashed-wrapped {border: 1px dashed gray;margin: 0.2em;box-sizing: border-box;padding-bottom: 0.1em;background-color: white;position: relative;}div.sk-label label {font-family: monospace;font-weight: bold;background-color: white;display: inline-block;line-height: 1.2em;}div.sk-label-container {position: relative;z-index: 2;text-align: center;}div.sk-container {display: inline-block;position: relative;}</style><div class=\"sk-top-container\"><div class=\"sk-container\"><div class=\"sk-item sk-dashed-wrapped\"><div class=\"sk-label-container\"><div class=\"sk-label sk-toggleable\"><input class=\"sk-toggleable__control sk-hidden--visually\" id=\"d6cbd658-62f5-4c3f-bae9-494769ba71a6\" type=\"checkbox\" ><label class=\"sk-toggleable__label\" for=\"d6cbd658-62f5-4c3f-bae9-494769ba71a6\">Pipeline</label><div class=\"sk-toggleable__content\"><pre>Pipeline(steps=[('columntransformer',\n",
       "                 ColumnTransformer(remainder='passthrough',\n",
       "                                   transformers=[('pipeline-1',\n",
       "                                                  Pipeline(steps=[('simpleimputer',\n",
       "                                                                   SimpleImputer(strategy='most_frequent')),\n",
       "                                                                  ('onehotencoder',\n",
       "                                                                   OneHotEncoder(sparse=False))]),\n",
       "                                                  ['sex', 'smoker', 'region']),\n",
       "                                                 ('pipeline-2',\n",
       "                                                  Pipeline(steps=[('simpleimputer',\n",
       "                                                                   SimpleImputer()),\n",
       "                                                                  ('standardscaler',\n",
       "                                                                   StandardScaler())]),\n",
       "                                                  ['age', 'bmi',\n",
       "                                                   'children'])])),\n",
       "                ('elasticnet', ElasticNet(alpha=0.1, random_state=0))])</pre></div></div></div><div class=\"sk-serial\"><div class=\"sk-item sk-dashed-wrapped\"><div class=\"sk-label-container\"><div class=\"sk-label sk-toggleable\"><input class=\"sk-toggleable__control sk-hidden--visually\" id=\"2f63fcae-fda4-4f13-a0b1-b3e96a0834f6\" type=\"checkbox\" ><label class=\"sk-toggleable__label\" for=\"2f63fcae-fda4-4f13-a0b1-b3e96a0834f6\">columntransformer: ColumnTransformer</label><div class=\"sk-toggleable__content\"><pre>ColumnTransformer(remainder='passthrough',\n",
       "                  transformers=[('pipeline-1',\n",
       "                                 Pipeline(steps=[('simpleimputer',\n",
       "                                                  SimpleImputer(strategy='most_frequent')),\n",
       "                                                 ('onehotencoder',\n",
       "                                                  OneHotEncoder(sparse=False))]),\n",
       "                                 ['sex', 'smoker', 'region']),\n",
       "                                ('pipeline-2',\n",
       "                                 Pipeline(steps=[('simpleimputer',\n",
       "                                                  SimpleImputer()),\n",
       "                                                 ('standardscaler',\n",
       "                                                  StandardScaler())]),\n",
       "                                 ['age', 'bmi', 'children'])])</pre></div></div></div><div class=\"sk-parallel\"><div class=\"sk-parallel-item\"><div class=\"sk-item\"><div class=\"sk-label-container\"><div class=\"sk-label sk-toggleable\"><input class=\"sk-toggleable__control sk-hidden--visually\" id=\"e6074fed-06b9-4fb3-be83-af29f2d10055\" type=\"checkbox\" ><label class=\"sk-toggleable__label\" for=\"e6074fed-06b9-4fb3-be83-af29f2d10055\">pipeline-1</label><div class=\"sk-toggleable__content\"><pre>['sex', 'smoker', 'region']</pre></div></div></div><div class=\"sk-serial\"><div class=\"sk-item\"><div class=\"sk-serial\"><div class=\"sk-item\"><div class=\"sk-estimator sk-toggleable\"><input class=\"sk-toggleable__control sk-hidden--visually\" id=\"5573b8ed-56b7-4b73-9b9c-bb61b7f04731\" type=\"checkbox\" ><label class=\"sk-toggleable__label\" for=\"5573b8ed-56b7-4b73-9b9c-bb61b7f04731\">SimpleImputer</label><div class=\"sk-toggleable__content\"><pre>SimpleImputer(strategy='most_frequent')</pre></div></div></div><div class=\"sk-item\"><div class=\"sk-estimator sk-toggleable\"><input class=\"sk-toggleable__control sk-hidden--visually\" id=\"dab4a65a-bca3-46a1-a92b-4d794f3dcf9f\" type=\"checkbox\" ><label class=\"sk-toggleable__label\" for=\"dab4a65a-bca3-46a1-a92b-4d794f3dcf9f\">OneHotEncoder</label><div class=\"sk-toggleable__content\"><pre>OneHotEncoder(sparse=False)</pre></div></div></div></div></div></div></div></div><div class=\"sk-parallel-item\"><div class=\"sk-item\"><div class=\"sk-label-container\"><div class=\"sk-label sk-toggleable\"><input class=\"sk-toggleable__control sk-hidden--visually\" id=\"a1de33cc-d9b7-45a0-a10c-738b4c29338b\" type=\"checkbox\" ><label class=\"sk-toggleable__label\" for=\"a1de33cc-d9b7-45a0-a10c-738b4c29338b\">pipeline-2</label><div class=\"sk-toggleable__content\"><pre>['age', 'bmi', 'children']</pre></div></div></div><div class=\"sk-serial\"><div class=\"sk-item\"><div class=\"sk-serial\"><div class=\"sk-item\"><div class=\"sk-estimator sk-toggleable\"><input class=\"sk-toggleable__control sk-hidden--visually\" id=\"a9ffc863-aa22-4370-b003-15f131416fec\" type=\"checkbox\" ><label class=\"sk-toggleable__label\" for=\"a9ffc863-aa22-4370-b003-15f131416fec\">SimpleImputer</label><div class=\"sk-toggleable__content\"><pre>SimpleImputer()</pre></div></div></div><div class=\"sk-item\"><div class=\"sk-estimator sk-toggleable\"><input class=\"sk-toggleable__control sk-hidden--visually\" id=\"69d75130-7c3f-496f-8b82-0ce246bc0154\" type=\"checkbox\" ><label class=\"sk-toggleable__label\" for=\"69d75130-7c3f-496f-8b82-0ce246bc0154\">StandardScaler</label><div class=\"sk-toggleable__content\"><pre>StandardScaler()</pre></div></div></div></div></div></div></div></div><div class=\"sk-parallel-item\"><div class=\"sk-item\"><div class=\"sk-label-container\"><div class=\"sk-label sk-toggleable\"><input class=\"sk-toggleable__control sk-hidden--visually\" id=\"0bf76e00-bfdd-47b9-82bb-1b46cdfa323f\" type=\"checkbox\" ><label class=\"sk-toggleable__label\" for=\"0bf76e00-bfdd-47b9-82bb-1b46cdfa323f\">remainder</label><div class=\"sk-toggleable__content\"><pre>[['age', 'sex', 'bmi', 'children', 'smoker', 'region']]</pre></div></div></div><div class=\"sk-serial\"><div class=\"sk-item\"><div class=\"sk-estimator sk-toggleable\"><input class=\"sk-toggleable__control sk-hidden--visually\" id=\"4d3d9fc2-2cb4-46ca-bddc-d4a38fc97b9f\" type=\"checkbox\" ><label class=\"sk-toggleable__label\" for=\"4d3d9fc2-2cb4-46ca-bddc-d4a38fc97b9f\">passthrough</label><div class=\"sk-toggleable__content\"><pre>passthrough</pre></div></div></div></div></div></div></div></div><div class=\"sk-item\"><div class=\"sk-estimator sk-toggleable\"><input class=\"sk-toggleable__control sk-hidden--visually\" id=\"5bdcf140-3f62-4a00-8cdf-0b9678024e6e\" type=\"checkbox\" ><label class=\"sk-toggleable__label\" for=\"5bdcf140-3f62-4a00-8cdf-0b9678024e6e\">ElasticNet</label><div class=\"sk-toggleable__content\"><pre>ElasticNet(alpha=0.1, random_state=0)</pre></div></div></div></div></div></div></div>"
      ],
      "text/plain": [
       "Pipeline(steps=[('columntransformer',\n",
       "                 ColumnTransformer(remainder='passthrough',\n",
       "                                   transformers=[('pipeline-1',\n",
       "                                                  Pipeline(steps=[('simpleimputer',\n",
       "                                                                   SimpleImputer(strategy='most_frequent')),\n",
       "                                                                  ('onehotencoder',\n",
       "                                                                   OneHotEncoder(sparse=False))]),\n",
       "                                                  ['sex', 'smoker', 'region']),\n",
       "                                                 ('pipeline-2',\n",
       "                                                  Pipeline(steps=[('simpleimputer',\n",
       "                                                                   SimpleImputer()),\n",
       "                                                                  ('standardscaler',\n",
       "                                                                   StandardScaler())]),\n",
       "                                                  ['age', 'bmi',\n",
       "                                                   'children'])])),\n",
       "                ('elasticnet', ElasticNet(alpha=0.1, random_state=0))])"
      ]
     },
     "execution_count": 16,
     "metadata": {},
     "output_type": "execute_result"
    }
   ],
   "source": [
    "from sklearn import set_config\n",
    "set_config(display='diagram')\n",
    "\n",
    "pipe"
   ]
  },
  {
   "cell_type": "code",
   "execution_count": null,
   "id": "40aed1d1",
   "metadata": {},
   "outputs": [],
   "source": []
  },
  {
   "cell_type": "markdown",
   "id": "d67b7322",
   "metadata": {},
   "source": [
    "## Performance when alpha = 0.1 without Cross-Validation"
   ]
  },
  {
   "cell_type": "code",
   "execution_count": 17,
   "id": "18139a79",
   "metadata": {},
   "outputs": [
    {
     "data": {
      "text/plain": [
       "0.778"
      ]
     },
     "execution_count": 17,
     "metadata": {},
     "output_type": "execute_result"
    }
   ],
   "source": [
    "#R-square\n",
    "from sklearn.metrics import r2_score\n",
    "r2_score(y_test, y_pred).round(3)"
   ]
  },
  {
   "cell_type": "code",
   "execution_count": 18,
   "id": "c2f3d95a",
   "metadata": {},
   "outputs": [
    {
     "data": {
      "text/plain": [
       "34976507.497"
      ]
     },
     "execution_count": 18,
     "metadata": {},
     "output_type": "execute_result"
    }
   ],
   "source": [
    "#RMSE\n",
    "from sklearn.metrics import mean_squared_error\n",
    "mean_squared_error(y_test, y_pred).round(3)"
   ]
  },
  {
   "cell_type": "code",
   "execution_count": 19,
   "id": "55e3031d",
   "metadata": {},
   "outputs": [
    {
     "data": {
      "text/plain": [
       "48.574"
      ]
     },
     "execution_count": 19,
     "metadata": {},
     "output_type": "execute_result"
    }
   ],
   "source": [
    "#MAPE \n",
    "(np.mean(np.abs((y_test - y_pred)/y_test))*100).round(3)"
   ]
  },
  {
   "cell_type": "code",
   "execution_count": 20,
   "id": "f3218bba",
   "metadata": {},
   "outputs": [
    {
     "data": {
      "text/plain": [
       "0.9988838507351012"
      ]
     },
     "execution_count": 20,
     "metadata": {},
     "output_type": "execute_result"
    }
   ],
   "source": [
    "#PR \n",
    "sum(y_pred)/sum(y_test)"
   ]
  },
  {
   "cell_type": "code",
   "execution_count": null,
   "id": "a1a203c3",
   "metadata": {},
   "outputs": [],
   "source": []
  },
  {
   "cell_type": "markdown",
   "id": "b0c2c7a3",
   "metadata": {},
   "source": [
    "## Performance when alpha changes, without Cross-Validation"
   ]
  },
  {
   "cell_type": "code",
   "execution_count": 21,
   "id": "e0193c4d",
   "metadata": {},
   "outputs": [],
   "source": [
    "#Change alpha from 0 to 1 (0, 0.1, 0.2, 0.3, ... 1.0)\n",
    "from sklearn.model_selection import cross_val_score"
   ]
  },
  {
   "cell_type": "code",
   "execution_count": 22,
   "id": "e5d7da7b",
   "metadata": {},
   "outputs": [
    {
     "name": "stdout",
     "output_type": "stream",
     "text": [
      "alpha = 0.0 ; R-square: 0.778 ; RMSE: 34976507.497 ; MAPE: 48.574 ; Prediction ratio: 0.999\n",
      "alpha = 0.1 ; R-square: 0.778 ; RMSE: 34976507.497 ; MAPE: 48.574 ; Prediction ratio: 0.999\n",
      "alpha = 0.2 ; R-square: 0.778 ; RMSE: 34976507.497 ; MAPE: 48.574 ; Prediction ratio: 0.999\n",
      "alpha = 0.3 ; R-square: 0.778 ; RMSE: 34976507.497 ; MAPE: 48.574 ; Prediction ratio: 0.999\n",
      "alpha = 0.4 ; R-square: 0.778 ; RMSE: 34976507.497 ; MAPE: 48.574 ; Prediction ratio: 0.999\n",
      "alpha = 0.5 ; R-square: 0.778 ; RMSE: 34976507.497 ; MAPE: 48.574 ; Prediction ratio: 0.999\n",
      "alpha = 0.6 ; R-square: 0.778 ; RMSE: 34976507.497 ; MAPE: 48.574 ; Prediction ratio: 0.999\n",
      "alpha = 0.7 ; R-square: 0.778 ; RMSE: 34976507.497 ; MAPE: 48.574 ; Prediction ratio: 0.999\n",
      "alpha = 0.8 ; R-square: 0.778 ; RMSE: 34976507.497 ; MAPE: 48.574 ; Prediction ratio: 0.999\n",
      "alpha = 0.9 ; R-square: 0.778 ; RMSE: 34976507.497 ; MAPE: 48.574 ; Prediction ratio: 0.999\n",
      "alpha = 1.0 ; R-square: 0.778 ; RMSE: 34976507.497 ; MAPE: 48.574 ; Prediction ratio: 0.999\n"
     ]
    }
   ],
   "source": [
    "for k in np.arange(0, 1.01, 0.1): \n",
    "    Elsnet = ElasticNet(alpha = k, random_state = 0)\n",
    "    y_pred = pipe.predict(X_test)\n",
    "    rsquare = r2_score(y_test, y_pred).round(3)\n",
    "    rmse = mean_squared_error(y_test, y_pred).round(3)\n",
    "    mape = (np.mean(np.abs((y_test - y_pred)/y_test))*100).round(3)\n",
    "    pr = (sum(y_pred)/sum(y_test)).round(3)\n",
    "    \n",
    "    \n",
    "    print('alpha =',k.round(2) , '; R-square:', rsquare, '; RMSE:', rmse, '; MAPE:', mape, '; Prediction ratio:', pr)"
   ]
  },
  {
   "cell_type": "code",
   "execution_count": null,
   "id": "cbbb2d3c",
   "metadata": {},
   "outputs": [],
   "source": []
  },
  {
   "cell_type": "markdown",
   "id": "f08d6814",
   "metadata": {},
   "source": [
    "## Performance when alpha changes and Cross-Validation = 10"
   ]
  },
  {
   "cell_type": "code",
   "execution_count": 23,
   "id": "21e8aca1",
   "metadata": {},
   "outputs": [],
   "source": [
    "from sklearn.model_selection import KFold\n",
    "\n",
    "cv = KFold(n_splits=10, shuffle=True, random_state = 0)\n"
   ]
  },
  {
   "cell_type": "code",
   "execution_count": 24,
   "id": "4bcbb132",
   "metadata": {},
   "outputs": [
    {
     "name": "stdout",
     "output_type": "stream",
     "text": [
      "k= 0.1 ;mean R-squared: 0.727\n",
      "k= 0.2 ;mean R-squared: 0.704\n",
      "k= 0.3 ;mean R-squared: 0.676\n",
      "k= 0.4 ;mean R-squared: 0.647\n",
      "k= 0.5 ;mean R-squared: 0.618\n",
      "k= 0.6 ;mean R-squared: 0.59\n",
      "k= 0.7 ;mean R-squared: 0.565\n",
      "k= 0.8 ;mean R-squared: 0.541\n",
      "k= 0.9 ;mean R-squared: 0.518\n",
      "k= 1.0 ;mean R-squared: 0.498\n"
     ]
    }
   ],
   "source": [
    "for k in np.arange(0.1, 1.01, 0.1): \n",
    "    Elsnet = ElasticNet(alpha = k, random_state = 0)\n",
    "    pipe = make_pipeline(preprocessor, Elsnet) \n",
    "    score = cross_val_score(pipe, X, y, cv=cv, scoring='r2').mean().round(3)\n",
    "    \n",
    "    print('k=',k.round(3), ';mean R-squared:', score.mean().round(3))"
   ]
  },
  {
   "cell_type": "code",
   "execution_count": 25,
   "id": "cdefa9cd",
   "metadata": {},
   "outputs": [
    {
     "name": "stdout",
     "output_type": "stream",
     "text": [
      "k= 0.1 ;mean RMSE: -38881165.144\n",
      "k= 0.2 ;mean RMSE: -42492224.196\n",
      "k= 0.3 ;mean RMSE: -46770879.186\n",
      "k= 0.4 ;mean RMSE: -51165917.953\n",
      "k= 0.5 ;mean RMSE: -55435369.962\n",
      "k= 0.6 ;mean RMSE: -59477380.156\n",
      "k= 0.7 ;mean RMSE: -63256857.119\n",
      "k= 0.8 ;mean RMSE: -66769707.744\n",
      "k= 0.9 ;mean RMSE: -70026921.686\n",
      "k= 1.0 ;mean RMSE: -73045656.196\n"
     ]
    }
   ],
   "source": [
    "for k in np.arange(0.1, 1.01, 0.1): \n",
    "    Elsnet = ElasticNet(alpha = k, random_state = 0)\n",
    "    pipe = make_pipeline(preprocessor, Elsnet) \n",
    "    score = cross_val_score(pipe, X, y, cv=cv, scoring='neg_mean_squared_error').mean().round(3)\n",
    "    \n",
    "    print('k=',k.round(3), ';mean RMSE:', score.mean().round(3))"
   ]
  },
  {
   "cell_type": "code",
   "execution_count": 26,
   "id": "9ff12ed1",
   "metadata": {},
   "outputs": [],
   "source": [
    "#MAPE"
   ]
  },
  {
   "cell_type": "code",
   "execution_count": 27,
   "id": "97fc1a16",
   "metadata": {},
   "outputs": [],
   "source": [
    "#PR "
   ]
  },
  {
   "cell_type": "code",
   "execution_count": null,
   "id": "629daf6a",
   "metadata": {},
   "outputs": [],
   "source": []
  },
  {
   "cell_type": "code",
   "execution_count": null,
   "id": "c0dc7123",
   "metadata": {},
   "outputs": [],
   "source": []
  },
  {
   "cell_type": "code",
   "execution_count": null,
   "id": "33376644",
   "metadata": {},
   "outputs": [],
   "source": []
  }
 ],
 "metadata": {
  "kernelspec": {
   "display_name": "Python 3",
   "language": "python",
   "name": "python3"
  },
  "language_info": {
   "codemirror_mode": {
    "name": "ipython",
    "version": 3
   },
   "file_extension": ".py",
   "mimetype": "text/x-python",
   "name": "python",
   "nbconvert_exporter": "python",
   "pygments_lexer": "ipython3",
   "version": "3.8.5"
  }
 },
 "nbformat": 4,
 "nbformat_minor": 5
}
