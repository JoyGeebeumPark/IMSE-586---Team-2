{
 "cells": [
  {
   "cell_type": "code",
   "execution_count": 43,
   "id": "66d93b99",
   "metadata": {},
   "outputs": [],
   "source": [
    "import numpy as np\n",
    "import pandas as pd\n",
    "import matplotlib.pyplot as plt\n",
    "import seaborn as sns\n",
    "import statsmodels.formula.api as smf\n",
    "\n",
    "import math"
   ]
  },
  {
   "cell_type": "code",
   "execution_count": 3,
   "id": "c9db3888",
   "metadata": {},
   "outputs": [
    {
     "data": {
      "text/html": [
       "<div>\n",
       "<style scoped>\n",
       "    .dataframe tbody tr th:only-of-type {\n",
       "        vertical-align: middle;\n",
       "    }\n",
       "\n",
       "    .dataframe tbody tr th {\n",
       "        vertical-align: top;\n",
       "    }\n",
       "\n",
       "    .dataframe thead th {\n",
       "        text-align: right;\n",
       "    }\n",
       "</style>\n",
       "<table border=\"1\" class=\"dataframe\">\n",
       "  <thead>\n",
       "    <tr style=\"text-align: right;\">\n",
       "      <th></th>\n",
       "      <th>age</th>\n",
       "      <th>sex</th>\n",
       "      <th>bmi</th>\n",
       "      <th>children</th>\n",
       "      <th>smoker</th>\n",
       "      <th>region</th>\n",
       "      <th>charges</th>\n",
       "    </tr>\n",
       "  </thead>\n",
       "  <tbody>\n",
       "    <tr>\n",
       "      <th>0</th>\n",
       "      <td>19</td>\n",
       "      <td>female</td>\n",
       "      <td>27.900</td>\n",
       "      <td>0</td>\n",
       "      <td>yes</td>\n",
       "      <td>southwest</td>\n",
       "      <td>16884.92400</td>\n",
       "    </tr>\n",
       "    <tr>\n",
       "      <th>1</th>\n",
       "      <td>18</td>\n",
       "      <td>male</td>\n",
       "      <td>33.770</td>\n",
       "      <td>1</td>\n",
       "      <td>no</td>\n",
       "      <td>southeast</td>\n",
       "      <td>1725.55230</td>\n",
       "    </tr>\n",
       "    <tr>\n",
       "      <th>2</th>\n",
       "      <td>28</td>\n",
       "      <td>male</td>\n",
       "      <td>33.000</td>\n",
       "      <td>3</td>\n",
       "      <td>no</td>\n",
       "      <td>southeast</td>\n",
       "      <td>4449.46200</td>\n",
       "    </tr>\n",
       "    <tr>\n",
       "      <th>3</th>\n",
       "      <td>33</td>\n",
       "      <td>male</td>\n",
       "      <td>22.705</td>\n",
       "      <td>0</td>\n",
       "      <td>no</td>\n",
       "      <td>northwest</td>\n",
       "      <td>21984.47061</td>\n",
       "    </tr>\n",
       "    <tr>\n",
       "      <th>4</th>\n",
       "      <td>32</td>\n",
       "      <td>male</td>\n",
       "      <td>28.880</td>\n",
       "      <td>0</td>\n",
       "      <td>no</td>\n",
       "      <td>northwest</td>\n",
       "      <td>3866.85520</td>\n",
       "    </tr>\n",
       "  </tbody>\n",
       "</table>\n",
       "</div>"
      ],
      "text/plain": [
       "   age     sex     bmi  children smoker     region      charges\n",
       "0   19  female  27.900         0    yes  southwest  16884.92400\n",
       "1   18    male  33.770         1     no  southeast   1725.55230\n",
       "2   28    male  33.000         3     no  southeast   4449.46200\n",
       "3   33    male  22.705         0     no  northwest  21984.47061\n",
       "4   32    male  28.880         0     no  northwest   3866.85520"
      ]
     },
     "execution_count": 3,
     "metadata": {},
     "output_type": "execute_result"
    }
   ],
   "source": [
    "insurance = pd.read_csv('./data/expenses.csv')\n",
    "insurance.head()"
   ]
  },
  {
   "cell_type": "code",
   "execution_count": 4,
   "id": "6fd752d8",
   "metadata": {},
   "outputs": [
    {
     "data": {
      "text/html": [
       "<div>\n",
       "<style scoped>\n",
       "    .dataframe tbody tr th:only-of-type {\n",
       "        vertical-align: middle;\n",
       "    }\n",
       "\n",
       "    .dataframe tbody tr th {\n",
       "        vertical-align: top;\n",
       "    }\n",
       "\n",
       "    .dataframe thead th {\n",
       "        text-align: right;\n",
       "    }\n",
       "</style>\n",
       "<table border=\"1\" class=\"dataframe\">\n",
       "  <thead>\n",
       "    <tr style=\"text-align: right;\">\n",
       "      <th></th>\n",
       "      <th>age</th>\n",
       "      <th>sex</th>\n",
       "      <th>bmi</th>\n",
       "      <th>children</th>\n",
       "      <th>smoker</th>\n",
       "      <th>region</th>\n",
       "      <th>charges</th>\n",
       "    </tr>\n",
       "  </thead>\n",
       "  <tbody>\n",
       "    <tr>\n",
       "      <th>1333</th>\n",
       "      <td>50</td>\n",
       "      <td>male</td>\n",
       "      <td>30.97</td>\n",
       "      <td>3</td>\n",
       "      <td>no</td>\n",
       "      <td>northwest</td>\n",
       "      <td>10600.5483</td>\n",
       "    </tr>\n",
       "    <tr>\n",
       "      <th>1334</th>\n",
       "      <td>18</td>\n",
       "      <td>female</td>\n",
       "      <td>31.92</td>\n",
       "      <td>0</td>\n",
       "      <td>no</td>\n",
       "      <td>northeast</td>\n",
       "      <td>2205.9808</td>\n",
       "    </tr>\n",
       "    <tr>\n",
       "      <th>1335</th>\n",
       "      <td>18</td>\n",
       "      <td>female</td>\n",
       "      <td>36.85</td>\n",
       "      <td>0</td>\n",
       "      <td>no</td>\n",
       "      <td>southeast</td>\n",
       "      <td>1629.8335</td>\n",
       "    </tr>\n",
       "    <tr>\n",
       "      <th>1336</th>\n",
       "      <td>21</td>\n",
       "      <td>female</td>\n",
       "      <td>25.80</td>\n",
       "      <td>0</td>\n",
       "      <td>no</td>\n",
       "      <td>southwest</td>\n",
       "      <td>2007.9450</td>\n",
       "    </tr>\n",
       "    <tr>\n",
       "      <th>1337</th>\n",
       "      <td>61</td>\n",
       "      <td>female</td>\n",
       "      <td>29.07</td>\n",
       "      <td>0</td>\n",
       "      <td>yes</td>\n",
       "      <td>northwest</td>\n",
       "      <td>29141.3603</td>\n",
       "    </tr>\n",
       "  </tbody>\n",
       "</table>\n",
       "</div>"
      ],
      "text/plain": [
       "      age     sex    bmi  children smoker     region     charges\n",
       "1333   50    male  30.97         3     no  northwest  10600.5483\n",
       "1334   18  female  31.92         0     no  northeast   2205.9808\n",
       "1335   18  female  36.85         0     no  southeast   1629.8335\n",
       "1336   21  female  25.80         0     no  southwest   2007.9450\n",
       "1337   61  female  29.07         0    yes  northwest  29141.3603"
      ]
     },
     "execution_count": 4,
     "metadata": {},
     "output_type": "execute_result"
    }
   ],
   "source": [
    "insurance.tail()"
   ]
  },
  {
   "cell_type": "code",
   "execution_count": 5,
   "id": "2925741d",
   "metadata": {},
   "outputs": [
    {
     "data": {
      "text/plain": [
       "(1338, 7)"
      ]
     },
     "execution_count": 5,
     "metadata": {},
     "output_type": "execute_result"
    }
   ],
   "source": [
    "insurance.shape"
   ]
  },
  {
   "cell_type": "code",
   "execution_count": 6,
   "id": "543f9445",
   "metadata": {
    "scrolled": true
   },
   "outputs": [
    {
     "name": "stdout",
     "output_type": "stream",
     "text": [
      "<class 'pandas.core.frame.DataFrame'>\n",
      "RangeIndex: 1338 entries, 0 to 1337\n",
      "Data columns (total 7 columns):\n",
      " #   Column    Non-Null Count  Dtype  \n",
      "---  ------    --------------  -----  \n",
      " 0   age       1338 non-null   int64  \n",
      " 1   sex       1338 non-null   object \n",
      " 2   bmi       1338 non-null   float64\n",
      " 3   children  1338 non-null   int64  \n",
      " 4   smoker    1338 non-null   object \n",
      " 5   region    1338 non-null   object \n",
      " 6   charges   1338 non-null   float64\n",
      "dtypes: float64(2), int64(2), object(3)\n",
      "memory usage: 73.3+ KB\n"
     ]
    }
   ],
   "source": [
    "insurance.info()"
   ]
  },
  {
   "cell_type": "code",
   "execution_count": 7,
   "id": "8ac193a4",
   "metadata": {},
   "outputs": [
    {
     "data": {
      "text/html": [
       "<div>\n",
       "<style scoped>\n",
       "    .dataframe tbody tr th:only-of-type {\n",
       "        vertical-align: middle;\n",
       "    }\n",
       "\n",
       "    .dataframe tbody tr th {\n",
       "        vertical-align: top;\n",
       "    }\n",
       "\n",
       "    .dataframe thead th {\n",
       "        text-align: right;\n",
       "    }\n",
       "</style>\n",
       "<table border=\"1\" class=\"dataframe\">\n",
       "  <thead>\n",
       "    <tr style=\"text-align: right;\">\n",
       "      <th></th>\n",
       "      <th>age</th>\n",
       "      <th>bmi</th>\n",
       "      <th>children</th>\n",
       "      <th>charges</th>\n",
       "    </tr>\n",
       "  </thead>\n",
       "  <tbody>\n",
       "    <tr>\n",
       "      <th>count</th>\n",
       "      <td>1338.000000</td>\n",
       "      <td>1338.000000</td>\n",
       "      <td>1338.000000</td>\n",
       "      <td>1338.000000</td>\n",
       "    </tr>\n",
       "    <tr>\n",
       "      <th>mean</th>\n",
       "      <td>39.207025</td>\n",
       "      <td>30.663397</td>\n",
       "      <td>1.094918</td>\n",
       "      <td>13270.422265</td>\n",
       "    </tr>\n",
       "    <tr>\n",
       "      <th>std</th>\n",
       "      <td>14.049960</td>\n",
       "      <td>6.098187</td>\n",
       "      <td>1.205493</td>\n",
       "      <td>12110.011237</td>\n",
       "    </tr>\n",
       "    <tr>\n",
       "      <th>min</th>\n",
       "      <td>18.000000</td>\n",
       "      <td>15.960000</td>\n",
       "      <td>0.000000</td>\n",
       "      <td>1121.873900</td>\n",
       "    </tr>\n",
       "    <tr>\n",
       "      <th>25%</th>\n",
       "      <td>27.000000</td>\n",
       "      <td>26.296250</td>\n",
       "      <td>0.000000</td>\n",
       "      <td>4740.287150</td>\n",
       "    </tr>\n",
       "    <tr>\n",
       "      <th>50%</th>\n",
       "      <td>39.000000</td>\n",
       "      <td>30.400000</td>\n",
       "      <td>1.000000</td>\n",
       "      <td>9382.033000</td>\n",
       "    </tr>\n",
       "    <tr>\n",
       "      <th>75%</th>\n",
       "      <td>51.000000</td>\n",
       "      <td>34.693750</td>\n",
       "      <td>2.000000</td>\n",
       "      <td>16639.912515</td>\n",
       "    </tr>\n",
       "    <tr>\n",
       "      <th>max</th>\n",
       "      <td>64.000000</td>\n",
       "      <td>53.130000</td>\n",
       "      <td>5.000000</td>\n",
       "      <td>63770.428010</td>\n",
       "    </tr>\n",
       "  </tbody>\n",
       "</table>\n",
       "</div>"
      ],
      "text/plain": [
       "               age          bmi     children       charges\n",
       "count  1338.000000  1338.000000  1338.000000   1338.000000\n",
       "mean     39.207025    30.663397     1.094918  13270.422265\n",
       "std      14.049960     6.098187     1.205493  12110.011237\n",
       "min      18.000000    15.960000     0.000000   1121.873900\n",
       "25%      27.000000    26.296250     0.000000   4740.287150\n",
       "50%      39.000000    30.400000     1.000000   9382.033000\n",
       "75%      51.000000    34.693750     2.000000  16639.912515\n",
       "max      64.000000    53.130000     5.000000  63770.428010"
      ]
     },
     "execution_count": 7,
     "metadata": {},
     "output_type": "execute_result"
    }
   ],
   "source": [
    "insurance.describe()"
   ]
  },
  {
   "cell_type": "code",
   "execution_count": 8,
   "id": "ebc111b6",
   "metadata": {},
   "outputs": [
    {
     "name": "stdout",
     "output_type": "stream",
     "text": [
      "91010239079.4524\n",
      "262347308458475.62\n",
      "0.00034690746253208656\n"
     ]
    }
   ],
   "source": [
    "n = len(insurance)\n",
    "numerator = n * sum(insurance[\"charges\"]*insurance['age']) - sum(insurance[\"charges\"]) * sum(insurance[\"age\"])\n",
    "denominator = n * sum(insurance[\"charges\"]**2) - sum(insurance[\"charges\"]) ** 2\n",
    "\n",
    "print(numerator)\n",
    "print(denominator)\n",
    "b1_ = numerator / denominator\n",
    "print(b1_) #intercept"
   ]
  },
  {
   "cell_type": "code",
   "execution_count": 9,
   "id": "2f3ec816",
   "metadata": {},
   "outputs": [
    {
     "name": "stdout",
     "output_type": "stream",
     "text": [
      "34.60341689633183\n"
     ]
    }
   ],
   "source": [
    "# sample mean\n",
    "\n",
    "b0_ = np.mean(insurance['age']) - b1_ *  np.mean(insurance['charges'])\n",
    "\n",
    "print(b0_) #slope"
   ]
  },
  {
   "cell_type": "code",
   "execution_count": 10,
   "id": "da9dd56f",
   "metadata": {},
   "outputs": [
    {
     "name": "stdout",
     "output_type": "stream",
     "text": [
      "New regression model\n",
      "age=  34.60341689633183 + 0.00034690746253208656 * charges\n"
     ]
    }
   ],
   "source": [
    "print('New regression model')\n",
    "\n",
    "print(\"age= \", b0_ ,\"+\",b1_,\"* charges\")"
   ]
  },
  {
   "cell_type": "code",
   "execution_count": 11,
   "id": "ae2535ba",
   "metadata": {},
   "outputs": [
    {
     "name": "stdout",
     "output_type": "stream",
     "text": [
      "                            OLS Regression Results                            \n",
      "==============================================================================\n",
      "Dep. Variable:                charges   R-squared:                       0.089\n",
      "Model:                            OLS   Adj. R-squared:                  0.089\n",
      "Method:                 Least Squares   F-statistic:                     131.2\n",
      "Date:                Sat, 03 Dec 2022   Prob (F-statistic):           4.89e-29\n",
      "Time:                        12:29:25   Log-Likelihood:                -14415.\n",
      "No. Observations:                1338   AIC:                         2.883e+04\n",
      "Df Residuals:                    1336   BIC:                         2.884e+04\n",
      "Df Model:                           1                                         \n",
      "Covariance Type:            nonrobust                                         \n",
      "==============================================================================\n",
      "                 coef    std err          t      P>|t|      [0.025      0.975]\n",
      "------------------------------------------------------------------------------\n",
      "Intercept   3165.8850    937.149      3.378      0.001    1327.440    5004.330\n",
      "age          257.7226     22.502     11.453      0.000     213.579     301.866\n",
      "==============================================================================\n",
      "Omnibus:                      399.600   Durbin-Watson:                   2.033\n",
      "Prob(Omnibus):                  0.000   Jarque-Bera (JB):              864.239\n",
      "Skew:                           1.733   Prob(JB):                    2.15e-188\n",
      "Kurtosis:                       4.869   Cond. No.                         124.\n",
      "==============================================================================\n",
      "\n",
      "Notes:\n",
      "[1] Standard Errors assume that the covariance matrix of the errors is correctly specified.\n"
     ]
    }
   ],
   "source": [
    "result = smf.ols(formula=\"charges ~ age\", data=insurance).fit()\n",
    "\n",
    "print(result.summary())"
   ]
  },
  {
   "cell_type": "code",
   "execution_count": 12,
   "id": "99882c13",
   "metadata": {},
   "outputs": [
    {
     "data": {
      "text/plain": [
       "Intercept    3165.885006\n",
       "age           257.722619\n",
       "dtype: float64"
      ]
     },
     "execution_count": 12,
     "metadata": {},
     "output_type": "execute_result"
    }
   ],
   "source": [
    "result.params"
   ]
  },
  {
   "cell_type": "code",
   "execution_count": 13,
   "id": "ab7837cf",
   "metadata": {},
   "outputs": [],
   "source": [
    "from sklearn.linear_model import LinearRegression"
   ]
  },
  {
   "cell_type": "code",
   "execution_count": 14,
   "id": "e90642be",
   "metadata": {},
   "outputs": [],
   "source": [
    "X=insurance.drop(['charges', 'region', 'smoker', 'sex'], axis=1)\n",
    "y=insurance['charges']"
   ]
  },
  {
   "cell_type": "code",
   "execution_count": 15,
   "id": "0bd858ca",
   "metadata": {
    "scrolled": true
   },
   "outputs": [
    {
     "data": {
      "text/html": [
       "<div>\n",
       "<style scoped>\n",
       "    .dataframe tbody tr th:only-of-type {\n",
       "        vertical-align: middle;\n",
       "    }\n",
       "\n",
       "    .dataframe tbody tr th {\n",
       "        vertical-align: top;\n",
       "    }\n",
       "\n",
       "    .dataframe thead th {\n",
       "        text-align: right;\n",
       "    }\n",
       "</style>\n",
       "<table border=\"1\" class=\"dataframe\">\n",
       "  <thead>\n",
       "    <tr style=\"text-align: right;\">\n",
       "      <th></th>\n",
       "      <th>age</th>\n",
       "      <th>bmi</th>\n",
       "      <th>children</th>\n",
       "    </tr>\n",
       "  </thead>\n",
       "  <tbody>\n",
       "    <tr>\n",
       "      <th>0</th>\n",
       "      <td>19</td>\n",
       "      <td>27.900</td>\n",
       "      <td>0</td>\n",
       "    </tr>\n",
       "    <tr>\n",
       "      <th>1</th>\n",
       "      <td>18</td>\n",
       "      <td>33.770</td>\n",
       "      <td>1</td>\n",
       "    </tr>\n",
       "    <tr>\n",
       "      <th>2</th>\n",
       "      <td>28</td>\n",
       "      <td>33.000</td>\n",
       "      <td>3</td>\n",
       "    </tr>\n",
       "    <tr>\n",
       "      <th>3</th>\n",
       "      <td>33</td>\n",
       "      <td>22.705</td>\n",
       "      <td>0</td>\n",
       "    </tr>\n",
       "    <tr>\n",
       "      <th>4</th>\n",
       "      <td>32</td>\n",
       "      <td>28.880</td>\n",
       "      <td>0</td>\n",
       "    </tr>\n",
       "    <tr>\n",
       "      <th>...</th>\n",
       "      <td>...</td>\n",
       "      <td>...</td>\n",
       "      <td>...</td>\n",
       "    </tr>\n",
       "    <tr>\n",
       "      <th>1333</th>\n",
       "      <td>50</td>\n",
       "      <td>30.970</td>\n",
       "      <td>3</td>\n",
       "    </tr>\n",
       "    <tr>\n",
       "      <th>1334</th>\n",
       "      <td>18</td>\n",
       "      <td>31.920</td>\n",
       "      <td>0</td>\n",
       "    </tr>\n",
       "    <tr>\n",
       "      <th>1335</th>\n",
       "      <td>18</td>\n",
       "      <td>36.850</td>\n",
       "      <td>0</td>\n",
       "    </tr>\n",
       "    <tr>\n",
       "      <th>1336</th>\n",
       "      <td>21</td>\n",
       "      <td>25.800</td>\n",
       "      <td>0</td>\n",
       "    </tr>\n",
       "    <tr>\n",
       "      <th>1337</th>\n",
       "      <td>61</td>\n",
       "      <td>29.070</td>\n",
       "      <td>0</td>\n",
       "    </tr>\n",
       "  </tbody>\n",
       "</table>\n",
       "<p>1338 rows × 3 columns</p>\n",
       "</div>"
      ],
      "text/plain": [
       "      age     bmi  children\n",
       "0      19  27.900         0\n",
       "1      18  33.770         1\n",
       "2      28  33.000         3\n",
       "3      33  22.705         0\n",
       "4      32  28.880         0\n",
       "...   ...     ...       ...\n",
       "1333   50  30.970         3\n",
       "1334   18  31.920         0\n",
       "1335   18  36.850         0\n",
       "1336   21  25.800         0\n",
       "1337   61  29.070         0\n",
       "\n",
       "[1338 rows x 3 columns]"
      ]
     },
     "execution_count": 15,
     "metadata": {},
     "output_type": "execute_result"
    }
   ],
   "source": [
    "X"
   ]
  },
  {
   "cell_type": "code",
   "execution_count": 16,
   "id": "ae8216ea",
   "metadata": {},
   "outputs": [
    {
     "data": {
      "text/plain": [
       "0       16884.92400\n",
       "1        1725.55230\n",
       "2        4449.46200\n",
       "3       21984.47061\n",
       "4        3866.85520\n",
       "           ...     \n",
       "1333    10600.54830\n",
       "1334     2205.98080\n",
       "1335     1629.83350\n",
       "1336     2007.94500\n",
       "1337    29141.36030\n",
       "Name: charges, Length: 1338, dtype: float64"
      ]
     },
     "execution_count": 16,
     "metadata": {},
     "output_type": "execute_result"
    }
   ],
   "source": [
    "y"
   ]
  },
  {
   "cell_type": "code",
   "execution_count": 18,
   "id": "0aa417bf",
   "metadata": {},
   "outputs": [
    {
     "name": "stdout",
     "output_type": "stream",
     "text": [
      "X_train shape: (1003, 3)\n",
      "X_test shape: (335, 3)\n",
      "y_train shape: (1003,)\n",
      "y_test shape: (335,)\n"
     ]
    }
   ],
   "source": [
    "#split data 75/25, random state = 0 \n",
    "# Split data to train set and step set\n",
    "\n",
    "from sklearn.model_selection import train_test_split\n",
    "\n",
    "#data = insurance[['age', 'sex', 'bmi', 'children', 'smoker', 'region', 'charges']]\n",
    "X_train, X_test, y_train, y_test= train_test_split(X, y, test_size=.25, random_state=0)\n",
    "\n",
    "print('X_train shape:', X_train.shape)\n",
    "print('X_test shape:', X_test.shape)\n",
    "print('y_train shape:', y_train.shape)\n",
    "print('y_test shape:', y_test.shape)\n"
   ]
  },
  {
   "cell_type": "code",
   "execution_count": 19,
   "id": "a006b42c",
   "metadata": {},
   "outputs": [
    {
     "data": {
      "text/plain": [
       "LinearRegression()"
      ]
     },
     "execution_count": 19,
     "metadata": {},
     "output_type": "execute_result"
    }
   ],
   "source": [
    "reg = LinearRegression()\n",
    "reg.fit(X_train, y_train)"
   ]
  },
  {
   "cell_type": "code",
   "execution_count": 20,
   "id": "0664672c",
   "metadata": {
    "scrolled": false
   },
   "outputs": [
    {
     "data": {
      "text/plain": [
       "array([15756.09703444, 14430.22566727, 18669.18537412, 19502.82816064,\n",
       "       11229.58889778,  8572.47462436,  6616.82538334, 18709.14997634,\n",
       "       14052.37442945, 12803.4688431 ,  9816.29959658, 14780.32103673,\n",
       "       13729.03938526,  9241.0047288 ,  9211.45244635, 16017.42827263,\n",
       "       15054.20060562, 10850.61820512, 13113.35404751,  8363.00697692,\n",
       "       14566.44865903, 18359.81676167, 15306.36062994, 13313.55756428,\n",
       "        9722.27785603, 13600.58940215,  6051.33777986, 15322.82144805,\n",
       "        9241.19056239, 14991.55410331, 14025.08979096, 20556.45155244,\n",
       "       19422.94431829, 17886.49030212,  6163.11564499,  9685.40278179,\n",
       "       17517.67199927, 12458.29479586, 14602.0969945 ,  9150.37780831,\n",
       "        8545.18998586,  9473.22172683, 11164.46237623, 19734.14253239,\n",
       "        9788.89104632, 10484.84406816, 15918.06598798, 12434.41162329,\n",
       "        8536.30969693, 14959.2286841 , 10267.17201565,  9277.2227396 ,\n",
       "       14232.91367033, 18909.3800348 , 19920.12740872, 11514.75794643,\n",
       "       11079.85741239, 13531.57474229, 15022.14064507, 15707.17804691,\n",
       "        7550.13574658, 19417.21328658, 19659.78287515, 16610.99585695,\n",
       "       18487.71696527, 18341.11484129,  8016.8373866 , 13804.61913541,\n",
       "        7235.99845794, 15335.96599576, 16437.65222811, 16151.5760999 ,\n",
       "        7343.79081468, 19472.53254382, 14968.38772342, 16026.74660386,\n",
       "       11433.29451854, 14835.07614732, 11129.61710438, 19529.5221108 ,\n",
       "       15537.8342936 , 17983.95661   ,  9222.45545446, 14249.7528015 ,\n",
       "       15252.59441656, 11060.2384986 , 13834.49772294,  9768.57635285,\n",
       "       16449.47712025, 11904.49380563, 14849.33569659, 15658.36634331,\n",
       "       12642.64807868, 14189.1283803 , 12577.07579357, 11855.72746413,\n",
       "       15894.72814164, 14687.53820951, 12665.368695  , 19004.97583221,\n",
       "        9573.14151226, 13402.99865482, 12087.53960743, 12933.69089122,\n",
       "       14341.05668125,  7094.73468548, 13524.99528486, 11314.52788797,\n",
       "       17798.89318037, 17607.51022328, 14863.85190784, 15896.24135207,\n",
       "       14497.87976273,  8247.27014509, 20424.15433983, 13030.18047645,\n",
       "        6400.94974493, 13588.78333042, 19340.01631006, 14429.50887458,\n",
       "       16862.65810973, 11530.59381325, 20545.85339907, 14504.76451223,\n",
       "       13221.59662109,  8459.21781176, 13453.16320155, 12703.21057804,\n",
       "       19745.30483241, 10437.47812448, 14570.11005492,  9514.48716421,\n",
       "       12890.94650637, 12545.3864248 , 12890.97969392, 11410.32169352,\n",
       "       11277.09531295, 13973.37884625, 13767.25293549,  8660.41022574,\n",
       "        8734.86279978, 14979.39073153, 17964.5235298 , 16308.83057781,\n",
       "       10398.22812234, 19422.75848469, 19165.37956734,  8054.79872813,\n",
       "        5459.01130146, 14759.27737603, 11859.68643084, 13315.41590021,\n",
       "       16173.21044894,  8388.38127151, 11489.59602712, 13056.36448052,\n",
       "        9646.59854322,  8189.65670222, 16005.38435934, 17104.67019752,\n",
       "       12400.36941505, 20184.72183393, 15511.86931067, 18401.33440775,\n",
       "        7884.65191121, 12722.41799122,  5442.45092068, 12631.84307871,\n",
       "       10238.92502163, 10683.15160817, 11919.01773815, 10274.93065715,\n",
       "       14618.37862488, 10781.95639204, 11712.3608683 , 12946.64295947,\n",
       "        8930.52883606, 10444.43370236, 18456.98995202,  6559.61679521,\n",
       "       16869.75415911, 14037.41245464, 17326.2625005 , 10765.11726087,\n",
       "       10193.07674166, 16199.69202382,  9108.0382782 ,  7940.9722402 ,\n",
       "       18517.95949872, 16710.45105839, 15162.01950404, 10729.77421748,\n",
       "       11018.30382323, 12502.00598951, 10926.39043473,  7752.91219938,\n",
       "       13069.78777863, 14807.08908328, 13594.44134115, 10753.80231482,\n",
       "       16818.78654877, 18793.46401525, 17829.97749366, 11248.29853942,\n",
       "       11920.33739372, 16616.19592956,  9028.66438194, 16277.40113901,\n",
       "       14455.02364067, 11643.65369311, 15527.6343491 , 17715.71960931,\n",
       "       10727.67803998,  9826.06369137, 12967.44770321,  7030.27740193,\n",
       "       12821.07012906,  9239.0943849 , 17854.79428748,  9294.02096194,\n",
       "       15537.15840974, 12179.45299593, 13850.92427809,  7265.04079431,\n",
       "       17267.45550641, 20005.38279014, 19470.86776275, 14888.78263146,\n",
       "       11315.39513411,  7950.03836272,  7768.52459178, 17242.57233748,\n",
       "       18114.95298746, 10744.76273398,  9480.06556751, 14644.15777422,\n",
       "       14040.21105768,  9338.19228629, 12088.52078336, 14682.18549086,\n",
       "       11307.57676336, 11809.36259221, 16119.53715235, 11624.77039242,\n",
       "       15099.73030178, 16260.3429867 ,  8396.73060135, 15138.17724029,\n",
       "        6533.65181228, 11504.11223837, 10473.8742476 , 19378.38250633,\n",
       "       12018.4729396 , 13538.00927495,  7474.95420531,  5615.67509103,\n",
       "       15303.59521445,  9788.89104632, 10849.4965577 ,  8271.62235492,\n",
       "       12589.8940362 , 14542.85860398, 17801.5324915 , 18649.81866903,\n",
       "       12848.51405946, 19214.14590884, 14992.54300051, 14143.46593393,\n",
       "       15661.430405  ,  9060.23429222, 12116.60848548, 13610.72297154,\n",
       "       17708.15897595,  9572.14596919, 13818.51366336, 12800.98882387,\n",
       "       15664.57413354, 15088.19633457,  9530.86171139, 17025.98655226,\n",
       "       15481.94536104, 12920.32732236, 16656.0410733 ,  7760.99714597,\n",
       "       14805.92871962, 11574.22753265, 16811.03343595, 12334.95642184,\n",
       "       15078.03177022,  6359.38673674,  6421.71465524, 19555.11542654,\n",
       "       13797.73438591, 11983.78695964, 18058.81184619, 17062.58287611,\n",
       "        9223.86802683, 12330.71870475, 12188.1618184 , 16479.32252023,\n",
       "        8119.21064958,  9802.95039486,  6898.30430182,  8082.33557533,\n",
       "       17170.7325329 ,  8094.56532222, 10557.14073546, 14742.74353694,\n",
       "       16021.46798158,  5215.21497411, 12784.90520163, 15592.95442551,\n",
       "        5874.43339319,  8090.60635551, 15980.42928662, 12437.06530157,\n",
       "       12256.70417301,  6557.30159656, 11910.81333308, 16016.18935931,\n",
       "       11272.12198275, 11037.20594434,  5687.84565398, 15184.78767505,\n",
       "       11758.55427378, 14157.11489904, 19422.35362995,  9503.93437294,\n",
       "       15456.78344172, 16838.97513789, 18718.03026527, 12034.75456998,\n",
       "       15489.71836968, 12899.05799464, 16699.60734219])"
      ]
     },
     "execution_count": 20,
     "metadata": {},
     "output_type": "execute_result"
    }
   ],
   "source": [
    "y_pred = reg.predict(X_test)\n",
    "y_pred"
   ]
  },
  {
   "cell_type": "code",
   "execution_count": 33,
   "id": "b7e9c97a",
   "metadata": {},
   "outputs": [
    {
     "name": "stdout",
     "output_type": "stream",
     "text": [
      "(array([ 1,  2,  3,  4,  5,  7,  8,  9, 11, 12, 13, 14]), array([ 0,  6, 10]))\n",
      "(array([ 0,  1,  2,  3,  4,  5,  6,  8,  9, 10, 11, 12]), array([ 7, 13, 14]))\n",
      "(array([ 0,  1,  3,  6,  7,  8,  9, 10, 11, 12, 13, 14]), array([2, 4, 5]))\n",
      "(array([ 0,  1,  2,  3,  4,  5,  6,  7,  9, 10, 13, 14]), array([ 8, 11, 12]))\n",
      "(array([ 0,  2,  4,  5,  6,  7,  8, 10, 11, 12, 13, 14]), array([1, 3, 9]))\n"
     ]
    }
   ],
   "source": [
    "from sklearn.model_selection import KFold\n",
    "\n",
    "cv = KFold(n_splits=5, shuffle=True, random_state=99)\n",
    "\n",
    "for k in cv.split(X[:15]):\n",
    "    print(k)"
   ]
  },
  {
   "cell_type": "code",
   "execution_count": 34,
   "id": "dd899c15",
   "metadata": {},
   "outputs": [],
   "source": [
    "from sklearn.model_selection import StratifiedKFold\n",
    "\n",
    "cv = StratifiedKFold(n_splits=5, shuffle=True, random_state=99)"
   ]
  },
  {
   "cell_type": "code",
   "execution_count": 37,
   "id": "d9befdaa",
   "metadata": {},
   "outputs": [],
   "source": [
    "from sklearn.model_selection import cross_val_score\n"
   ]
  },
  {
   "cell_type": "code",
   "execution_count": 21,
   "id": "65db16c0",
   "metadata": {},
   "outputs": [],
   "source": [
    "from sklearn.pipeline import make_pipeline\n",
    "from sklearn.compose import make_column_transformer \n",
    "from sklearn.impute import SimpleImputer\n",
    "from sklearn.preprocessing import OneHotEncoder\n",
    "from sklearn.preprocessing import StandardScaler"
   ]
  },
  {
   "cell_type": "code",
   "execution_count": 22,
   "id": "4f638978",
   "metadata": {},
   "outputs": [],
   "source": [
    "#sex, smoker region\n",
    "imp_ohe = make_pipeline(SimpleImputer(strategy='most_frequent'), \n",
    "                       OneHotEncoder(sparse=False))\n",
    "#Age, BMI, Childern\n",
    "imp_std = make_pipeline(SimpleImputer(), \n",
    "                       StandardScaler())"
   ]
  },
  {
   "cell_type": "code",
   "execution_count": 23,
   "id": "35ec8d0f",
   "metadata": {},
   "outputs": [],
   "source": [
    "preprocessor = make_column_transformer((imp_ohe, ['sex', 'smoker', 'region']), \n",
    "                       (imp_std, ['age', 'bmi', 'children']), \n",
    "                       remainder = 'passthrough')"
   ]
  },
  {
   "cell_type": "code",
   "execution_count": 26,
   "id": "0b169f0c",
   "metadata": {},
   "outputs": [
    {
     "data": {
      "text/plain": [
       "ColumnTransformer(remainder='passthrough',\n",
       "                  transformers=[('pipeline-1',\n",
       "                                 Pipeline(steps=[('simpleimputer',\n",
       "                                                  SimpleImputer(strategy='most_frequent')),\n",
       "                                                 ('onehotencoder',\n",
       "                                                  OneHotEncoder(sparse=False))]),\n",
       "                                 ['sex', 'smoker', 'region']),\n",
       "                                ('pipeline-2',\n",
       "                                 Pipeline(steps=[('simpleimputer',\n",
       "                                                  SimpleImputer()),\n",
       "                                                 ('standardscaler',\n",
       "                                                  StandardScaler())]),\n",
       "                                 ['age', 'bmi', 'children'])])"
      ]
     },
     "execution_count": 26,
     "metadata": {},
     "output_type": "execute_result"
    }
   ],
   "source": [
    "preprocessor"
   ]
  },
  {
   "cell_type": "code",
   "execution_count": 74,
   "id": "162ac07f",
   "metadata": {},
   "outputs": [],
   "source": [
    "from sklearn.linear_model import ElasticNet\n",
    "Elsnet = ElasticNet(alpha = 0.1, random_state = 0)"
   ]
  },
  {
   "cell_type": "code",
   "execution_count": 72,
   "id": "dc889c47",
   "metadata": {},
   "outputs": [
    {
     "data": {
      "text/html": [
       "<style>#sk-e0fe1ddb-b9a3-4451-8caa-c210ed491840 {color: black;background-color: white;}#sk-e0fe1ddb-b9a3-4451-8caa-c210ed491840 pre{padding: 0;}#sk-e0fe1ddb-b9a3-4451-8caa-c210ed491840 div.sk-toggleable {background-color: white;}#sk-e0fe1ddb-b9a3-4451-8caa-c210ed491840 label.sk-toggleable__label {cursor: pointer;display: block;width: 100%;margin-bottom: 0;padding: 0.3em;box-sizing: border-box;text-align: center;}#sk-e0fe1ddb-b9a3-4451-8caa-c210ed491840 label.sk-toggleable__label-arrow:before {content: \"▸\";float: left;margin-right: 0.25em;color: #696969;}#sk-e0fe1ddb-b9a3-4451-8caa-c210ed491840 label.sk-toggleable__label-arrow:hover:before {color: black;}#sk-e0fe1ddb-b9a3-4451-8caa-c210ed491840 div.sk-estimator:hover label.sk-toggleable__label-arrow:before {color: black;}#sk-e0fe1ddb-b9a3-4451-8caa-c210ed491840 div.sk-toggleable__content {max-height: 0;max-width: 0;overflow: hidden;text-align: left;background-color: #f0f8ff;}#sk-e0fe1ddb-b9a3-4451-8caa-c210ed491840 div.sk-toggleable__content pre {margin: 0.2em;color: black;border-radius: 0.25em;background-color: #f0f8ff;}#sk-e0fe1ddb-b9a3-4451-8caa-c210ed491840 input.sk-toggleable__control:checked~div.sk-toggleable__content {max-height: 200px;max-width: 100%;overflow: auto;}#sk-e0fe1ddb-b9a3-4451-8caa-c210ed491840 input.sk-toggleable__control:checked~label.sk-toggleable__label-arrow:before {content: \"▾\";}#sk-e0fe1ddb-b9a3-4451-8caa-c210ed491840 div.sk-estimator input.sk-toggleable__control:checked~label.sk-toggleable__label {background-color: #d4ebff;}#sk-e0fe1ddb-b9a3-4451-8caa-c210ed491840 div.sk-label input.sk-toggleable__control:checked~label.sk-toggleable__label {background-color: #d4ebff;}#sk-e0fe1ddb-b9a3-4451-8caa-c210ed491840 input.sk-hidden--visually {border: 0;clip: rect(1px 1px 1px 1px);clip: rect(1px, 1px, 1px, 1px);height: 1px;margin: -1px;overflow: hidden;padding: 0;position: absolute;width: 1px;}#sk-e0fe1ddb-b9a3-4451-8caa-c210ed491840 div.sk-estimator {font-family: monospace;background-color: #f0f8ff;border: 1px dotted black;border-radius: 0.25em;box-sizing: border-box;margin-bottom: 0.5em;}#sk-e0fe1ddb-b9a3-4451-8caa-c210ed491840 div.sk-estimator:hover {background-color: #d4ebff;}#sk-e0fe1ddb-b9a3-4451-8caa-c210ed491840 div.sk-parallel-item::after {content: \"\";width: 100%;border-bottom: 1px solid gray;flex-grow: 1;}#sk-e0fe1ddb-b9a3-4451-8caa-c210ed491840 div.sk-label:hover label.sk-toggleable__label {background-color: #d4ebff;}#sk-e0fe1ddb-b9a3-4451-8caa-c210ed491840 div.sk-serial::before {content: \"\";position: absolute;border-left: 1px solid gray;box-sizing: border-box;top: 2em;bottom: 0;left: 50%;}#sk-e0fe1ddb-b9a3-4451-8caa-c210ed491840 div.sk-serial {display: flex;flex-direction: column;align-items: center;background-color: white;padding-right: 0.2em;padding-left: 0.2em;}#sk-e0fe1ddb-b9a3-4451-8caa-c210ed491840 div.sk-item {z-index: 1;}#sk-e0fe1ddb-b9a3-4451-8caa-c210ed491840 div.sk-parallel {display: flex;align-items: stretch;justify-content: center;background-color: white;}#sk-e0fe1ddb-b9a3-4451-8caa-c210ed491840 div.sk-parallel::before {content: \"\";position: absolute;border-left: 1px solid gray;box-sizing: border-box;top: 2em;bottom: 0;left: 50%;}#sk-e0fe1ddb-b9a3-4451-8caa-c210ed491840 div.sk-parallel-item {display: flex;flex-direction: column;position: relative;background-color: white;}#sk-e0fe1ddb-b9a3-4451-8caa-c210ed491840 div.sk-parallel-item:first-child::after {align-self: flex-end;width: 50%;}#sk-e0fe1ddb-b9a3-4451-8caa-c210ed491840 div.sk-parallel-item:last-child::after {align-self: flex-start;width: 50%;}#sk-e0fe1ddb-b9a3-4451-8caa-c210ed491840 div.sk-parallel-item:only-child::after {width: 0;}#sk-e0fe1ddb-b9a3-4451-8caa-c210ed491840 div.sk-dashed-wrapped {border: 1px dashed gray;margin: 0 0.4em 0.5em 0.4em;box-sizing: border-box;padding-bottom: 0.4em;background-color: white;position: relative;}#sk-e0fe1ddb-b9a3-4451-8caa-c210ed491840 div.sk-label label {font-family: monospace;font-weight: bold;background-color: white;display: inline-block;line-height: 1.2em;}#sk-e0fe1ddb-b9a3-4451-8caa-c210ed491840 div.sk-label-container {position: relative;z-index: 2;text-align: center;}#sk-e0fe1ddb-b9a3-4451-8caa-c210ed491840 div.sk-container {/* jupyter's `normalize.less` sets `[hidden] { display: none; }` but bootstrap.min.css set `[hidden] { display: none !important; }` so we also need the `!important` here to be able to override the default hidden behavior on the sphinx rendered scikit-learn.org. See: https://github.com/scikit-learn/scikit-learn/issues/21755 */display: inline-block !important;position: relative;}#sk-e0fe1ddb-b9a3-4451-8caa-c210ed491840 div.sk-text-repr-fallback {display: none;}</style><div id=\"sk-e0fe1ddb-b9a3-4451-8caa-c210ed491840\" class=\"sk-top-container\"><div class=\"sk-text-repr-fallback\"><pre>Pipeline(steps=[(&#x27;columntransformer&#x27;,\n",
       "                 ColumnTransformer(remainder=&#x27;passthrough&#x27;,\n",
       "                                   transformers=[(&#x27;pipeline-1&#x27;,\n",
       "                                                  Pipeline(steps=[(&#x27;simpleimputer&#x27;,\n",
       "                                                                   SimpleImputer(strategy=&#x27;most_frequent&#x27;)),\n",
       "                                                                  (&#x27;onehotencoder&#x27;,\n",
       "                                                                   OneHotEncoder(sparse=False))]),\n",
       "                                                  [&#x27;sex&#x27;, &#x27;smoker&#x27;, &#x27;region&#x27;]),\n",
       "                                                 (&#x27;pipeline-2&#x27;,\n",
       "                                                  Pipeline(steps=[(&#x27;simpleimputer&#x27;,\n",
       "                                                                   SimpleImputer()),\n",
       "                                                                  (&#x27;standardscaler&#x27;,\n",
       "                                                                   StandardScaler())]),\n",
       "                                                  [&#x27;age&#x27;, &#x27;bmi&#x27;,\n",
       "                                                   &#x27;children&#x27;])])),\n",
       "                (&#x27;elasticnet&#x27;, ElasticNet(alpha=0.1, random_state=0))])</pre><b>Please rerun this cell to show the HTML repr or trust the notebook.</b></div><div class=\"sk-container\" hidden><div class=\"sk-item sk-dashed-wrapped\"><div class=\"sk-label-container\"><div class=\"sk-label sk-toggleable\"><input class=\"sk-toggleable__control sk-hidden--visually\" id=\"e2965a0a-9c26-4df6-ad06-9cd81fc5d520\" type=\"checkbox\" ><label for=\"e2965a0a-9c26-4df6-ad06-9cd81fc5d520\" class=\"sk-toggleable__label sk-toggleable__label-arrow\">Pipeline</label><div class=\"sk-toggleable__content\"><pre>Pipeline(steps=[(&#x27;columntransformer&#x27;,\n",
       "                 ColumnTransformer(remainder=&#x27;passthrough&#x27;,\n",
       "                                   transformers=[(&#x27;pipeline-1&#x27;,\n",
       "                                                  Pipeline(steps=[(&#x27;simpleimputer&#x27;,\n",
       "                                                                   SimpleImputer(strategy=&#x27;most_frequent&#x27;)),\n",
       "                                                                  (&#x27;onehotencoder&#x27;,\n",
       "                                                                   OneHotEncoder(sparse=False))]),\n",
       "                                                  [&#x27;sex&#x27;, &#x27;smoker&#x27;, &#x27;region&#x27;]),\n",
       "                                                 (&#x27;pipeline-2&#x27;,\n",
       "                                                  Pipeline(steps=[(&#x27;simpleimputer&#x27;,\n",
       "                                                                   SimpleImputer()),\n",
       "                                                                  (&#x27;standardscaler&#x27;,\n",
       "                                                                   StandardScaler())]),\n",
       "                                                  [&#x27;age&#x27;, &#x27;bmi&#x27;,\n",
       "                                                   &#x27;children&#x27;])])),\n",
       "                (&#x27;elasticnet&#x27;, ElasticNet(alpha=0.1, random_state=0))])</pre></div></div></div><div class=\"sk-serial\"><div class=\"sk-item sk-dashed-wrapped\"><div class=\"sk-label-container\"><div class=\"sk-label sk-toggleable\"><input class=\"sk-toggleable__control sk-hidden--visually\" id=\"981d1b35-7212-4bad-b282-6bfeaf2b4a70\" type=\"checkbox\" ><label for=\"981d1b35-7212-4bad-b282-6bfeaf2b4a70\" class=\"sk-toggleable__label sk-toggleable__label-arrow\">columntransformer: ColumnTransformer</label><div class=\"sk-toggleable__content\"><pre>ColumnTransformer(remainder=&#x27;passthrough&#x27;,\n",
       "                  transformers=[(&#x27;pipeline-1&#x27;,\n",
       "                                 Pipeline(steps=[(&#x27;simpleimputer&#x27;,\n",
       "                                                  SimpleImputer(strategy=&#x27;most_frequent&#x27;)),\n",
       "                                                 (&#x27;onehotencoder&#x27;,\n",
       "                                                  OneHotEncoder(sparse=False))]),\n",
       "                                 [&#x27;sex&#x27;, &#x27;smoker&#x27;, &#x27;region&#x27;]),\n",
       "                                (&#x27;pipeline-2&#x27;,\n",
       "                                 Pipeline(steps=[(&#x27;simpleimputer&#x27;,\n",
       "                                                  SimpleImputer()),\n",
       "                                                 (&#x27;standardscaler&#x27;,\n",
       "                                                  StandardScaler())]),\n",
       "                                 [&#x27;age&#x27;, &#x27;bmi&#x27;, &#x27;children&#x27;])])</pre></div></div></div><div class=\"sk-parallel\"><div class=\"sk-parallel-item\"><div class=\"sk-item\"><div class=\"sk-label-container\"><div class=\"sk-label sk-toggleable\"><input class=\"sk-toggleable__control sk-hidden--visually\" id=\"5023fb64-aea8-44ad-8773-5a0732b3c0e4\" type=\"checkbox\" ><label for=\"5023fb64-aea8-44ad-8773-5a0732b3c0e4\" class=\"sk-toggleable__label sk-toggleable__label-arrow\">pipeline-1</label><div class=\"sk-toggleable__content\"><pre>[&#x27;sex&#x27;, &#x27;smoker&#x27;, &#x27;region&#x27;]</pre></div></div></div><div class=\"sk-serial\"><div class=\"sk-item\"><div class=\"sk-serial\"><div class=\"sk-item\"><div class=\"sk-estimator sk-toggleable\"><input class=\"sk-toggleable__control sk-hidden--visually\" id=\"b64a6b20-cca8-4b07-bf47-94cd9011c539\" type=\"checkbox\" ><label for=\"b64a6b20-cca8-4b07-bf47-94cd9011c539\" class=\"sk-toggleable__label sk-toggleable__label-arrow\">SimpleImputer</label><div class=\"sk-toggleable__content\"><pre>SimpleImputer(strategy=&#x27;most_frequent&#x27;)</pre></div></div></div><div class=\"sk-item\"><div class=\"sk-estimator sk-toggleable\"><input class=\"sk-toggleable__control sk-hidden--visually\" id=\"d988e1f9-0a5e-4f95-9fdf-d2b0e4a5561c\" type=\"checkbox\" ><label for=\"d988e1f9-0a5e-4f95-9fdf-d2b0e4a5561c\" class=\"sk-toggleable__label sk-toggleable__label-arrow\">OneHotEncoder</label><div class=\"sk-toggleable__content\"><pre>OneHotEncoder(sparse=False)</pre></div></div></div></div></div></div></div></div><div class=\"sk-parallel-item\"><div class=\"sk-item\"><div class=\"sk-label-container\"><div class=\"sk-label sk-toggleable\"><input class=\"sk-toggleable__control sk-hidden--visually\" id=\"5f6a9e14-ef9f-434d-938e-22403ccb35f4\" type=\"checkbox\" ><label for=\"5f6a9e14-ef9f-434d-938e-22403ccb35f4\" class=\"sk-toggleable__label sk-toggleable__label-arrow\">pipeline-2</label><div class=\"sk-toggleable__content\"><pre>[&#x27;age&#x27;, &#x27;bmi&#x27;, &#x27;children&#x27;]</pre></div></div></div><div class=\"sk-serial\"><div class=\"sk-item\"><div class=\"sk-serial\"><div class=\"sk-item\"><div class=\"sk-estimator sk-toggleable\"><input class=\"sk-toggleable__control sk-hidden--visually\" id=\"93c90a35-8fb8-499c-8be0-2ce0ada4b49e\" type=\"checkbox\" ><label for=\"93c90a35-8fb8-499c-8be0-2ce0ada4b49e\" class=\"sk-toggleable__label sk-toggleable__label-arrow\">SimpleImputer</label><div class=\"sk-toggleable__content\"><pre>SimpleImputer()</pre></div></div></div><div class=\"sk-item\"><div class=\"sk-estimator sk-toggleable\"><input class=\"sk-toggleable__control sk-hidden--visually\" id=\"68ea5a1d-aa60-4df3-a898-852c9f771f74\" type=\"checkbox\" ><label for=\"68ea5a1d-aa60-4df3-a898-852c9f771f74\" class=\"sk-toggleable__label sk-toggleable__label-arrow\">StandardScaler</label><div class=\"sk-toggleable__content\"><pre>StandardScaler()</pre></div></div></div></div></div></div></div></div><div class=\"sk-parallel-item\"><div class=\"sk-item\"><div class=\"sk-label-container\"><div class=\"sk-label sk-toggleable\"><input class=\"sk-toggleable__control sk-hidden--visually\" id=\"487bfc61-a53e-4a2c-bb0d-29094f7dd3b9\" type=\"checkbox\" ><label for=\"487bfc61-a53e-4a2c-bb0d-29094f7dd3b9\" class=\"sk-toggleable__label sk-toggleable__label-arrow\">remainder</label><div class=\"sk-toggleable__content\"><pre></pre></div></div></div><div class=\"sk-serial\"><div class=\"sk-item\"><div class=\"sk-estimator sk-toggleable\"><input class=\"sk-toggleable__control sk-hidden--visually\" id=\"abf07a6c-3fc0-40e8-b46e-99080c22813c\" type=\"checkbox\" ><label for=\"abf07a6c-3fc0-40e8-b46e-99080c22813c\" class=\"sk-toggleable__label sk-toggleable__label-arrow\">passthrough</label><div class=\"sk-toggleable__content\"><pre>passthrough</pre></div></div></div></div></div></div></div></div><div class=\"sk-item\"><div class=\"sk-estimator sk-toggleable\"><input class=\"sk-toggleable__control sk-hidden--visually\" id=\"fe34a010-f7ed-4d3d-a3b2-c8897e643ace\" type=\"checkbox\" ><label for=\"fe34a010-f7ed-4d3d-a3b2-c8897e643ace\" class=\"sk-toggleable__label sk-toggleable__label-arrow\">ElasticNet</label><div class=\"sk-toggleable__content\"><pre>ElasticNet(alpha=0.1, random_state=0)</pre></div></div></div></div></div></div></div>"
      ],
      "text/plain": [
       "Pipeline(steps=[('columntransformer',\n",
       "                 ColumnTransformer(remainder='passthrough',\n",
       "                                   transformers=[('pipeline-1',\n",
       "                                                  Pipeline(steps=[('simpleimputer',\n",
       "                                                                   SimpleImputer(strategy='most_frequent')),\n",
       "                                                                  ('onehotencoder',\n",
       "                                                                   OneHotEncoder(sparse=False))]),\n",
       "                                                  ['sex', 'smoker', 'region']),\n",
       "                                                 ('pipeline-2',\n",
       "                                                  Pipeline(steps=[('simpleimputer',\n",
       "                                                                   SimpleImputer()),\n",
       "                                                                  ('standardscaler',\n",
       "                                                                   StandardScaler())]),\n",
       "                                                  ['age', 'bmi',\n",
       "                                                   'children'])])),\n",
       "                ('elasticnet', ElasticNet(alpha=0.1, random_state=0))])"
      ]
     },
     "execution_count": 72,
     "metadata": {},
     "output_type": "execute_result"
    }
   ],
   "source": [
    "from sklearn import set_config\n",
    "set_config(display='diagram')\n",
    "\n",
    "pipe"
   ]
  },
  {
   "cell_type": "code",
   "execution_count": 27,
   "id": "2cead2ed",
   "metadata": {},
   "outputs": [
    {
     "data": {
      "text/html": [
       "<div>\n",
       "<style scoped>\n",
       "    .dataframe tbody tr th:only-of-type {\n",
       "        vertical-align: middle;\n",
       "    }\n",
       "\n",
       "    .dataframe tbody tr th {\n",
       "        vertical-align: top;\n",
       "    }\n",
       "\n",
       "    .dataframe thead th {\n",
       "        text-align: right;\n",
       "    }\n",
       "</style>\n",
       "<table border=\"1\" class=\"dataframe\">\n",
       "  <thead>\n",
       "    <tr style=\"text-align: right;\">\n",
       "      <th></th>\n",
       "      <th>age</th>\n",
       "      <th>bmi</th>\n",
       "      <th>children</th>\n",
       "    </tr>\n",
       "  </thead>\n",
       "  <tbody>\n",
       "    <tr>\n",
       "      <th>1075</th>\n",
       "      <td>32</td>\n",
       "      <td>29.59</td>\n",
       "      <td>1</td>\n",
       "    </tr>\n",
       "    <tr>\n",
       "      <th>131</th>\n",
       "      <td>61</td>\n",
       "      <td>22.04</td>\n",
       "      <td>0</td>\n",
       "    </tr>\n",
       "    <tr>\n",
       "      <th>15</th>\n",
       "      <td>19</td>\n",
       "      <td>24.60</td>\n",
       "      <td>1</td>\n",
       "    </tr>\n",
       "    <tr>\n",
       "      <th>1223</th>\n",
       "      <td>20</td>\n",
       "      <td>24.42</td>\n",
       "      <td>0</td>\n",
       "    </tr>\n",
       "    <tr>\n",
       "      <th>1137</th>\n",
       "      <td>26</td>\n",
       "      <td>22.23</td>\n",
       "      <td>0</td>\n",
       "    </tr>\n",
       "  </tbody>\n",
       "</table>\n",
       "</div>"
      ],
      "text/plain": [
       "      age    bmi  children\n",
       "1075   32  29.59         1\n",
       "131    61  22.04         0\n",
       "15     19  24.60         1\n",
       "1223   20  24.42         0\n",
       "1137   26  22.23         0"
      ]
     },
     "execution_count": 27,
     "metadata": {},
     "output_type": "execute_result"
    }
   ],
   "source": [
    "X_train.head()"
   ]
  },
  {
   "cell_type": "code",
   "execution_count": 28,
   "id": "8d490522",
   "metadata": {},
   "outputs": [
    {
     "data": {
      "text/plain": [
       "1075     4562.84210\n",
       "131     13616.35860\n",
       "15       1837.23700\n",
       "1223    26125.67477\n",
       "1137     3176.28770\n",
       "Name: charges, dtype: float64"
      ]
     },
     "execution_count": 28,
     "metadata": {},
     "output_type": "execute_result"
    }
   ],
   "source": [
    "X_train.dtypes\n",
    "y_train.head()"
   ]
  },
  {
   "cell_type": "code",
   "execution_count": 42,
   "id": "98e7e868",
   "metadata": {},
   "outputs": [
    {
     "data": {
      "text/plain": [
       "0.158"
      ]
     },
     "execution_count": 42,
     "metadata": {},
     "output_type": "execute_result"
    }
   ],
   "source": [
    "\n",
    "#R-square\n",
    "from sklearn.metrics import r2_score\n",
    "r2_score(y_test, y_pred).round(3)\n",
    "\n"
   ]
  },
  {
   "cell_type": "code",
   "execution_count": 77,
   "id": "84b14b2d",
   "metadata": {},
   "outputs": [
    {
     "data": {
      "text/plain": [
       "11516.411886639082"
      ]
     },
     "execution_count": 77,
     "metadata": {},
     "output_type": "execute_result"
    }
   ],
   "source": [
    "#MSE\n",
    "from sklearn.metrics import mean_squared_error\n",
    "mse = mean_squared_error(y_test, y_pred)\n",
    "(math.sqrt(mse))\n"
   ]
  },
  {
   "cell_type": "code",
   "execution_count": 79,
   "id": "93fce4ed",
   "metadata": {},
   "outputs": [
    {
     "data": {
      "text/plain": [
       "115.60373821367821"
      ]
     },
     "execution_count": 79,
     "metadata": {},
     "output_type": "execute_result"
    }
   ],
   "source": [
    "#MAPE \n",
    "(np.mean(np.abs((y_test - y_pred)/y_test))*100)\n"
   ]
  },
  {
   "cell_type": "code",
   "execution_count": 48,
   "id": "46c89e45",
   "metadata": {},
   "outputs": [
    {
     "data": {
      "text/plain": [
       "0.9804473931524404"
      ]
     },
     "execution_count": 48,
     "metadata": {},
     "output_type": "execute_result"
    }
   ],
   "source": [
    "#PR \n",
    "sum(y_pred)/sum(y_test)"
   ]
  }
 ],
 "metadata": {
  "kernelspec": {
   "display_name": "Python 3 (ipykernel)",
   "language": "python",
   "name": "python3"
  },
  "language_info": {
   "codemirror_mode": {
    "name": "ipython",
    "version": 3
   },
   "file_extension": ".py",
   "mimetype": "text/x-python",
   "name": "python",
   "nbconvert_exporter": "python",
   "pygments_lexer": "ipython3",
   "version": "3.9.12"
  }
 },
 "nbformat": 4,
 "nbformat_minor": 5
}
