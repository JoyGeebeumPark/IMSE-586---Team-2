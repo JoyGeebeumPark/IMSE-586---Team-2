{
 "cells": [
  {
   "cell_type": "code",
   "execution_count": 1,
   "id": "a8a6df31",
   "metadata": {},
   "outputs": [
    {
     "name": "stderr",
     "output_type": "stream",
     "text": [
      "C:\\Users\\Joy\\anaconda3\\lib\\site-packages\\pandas\\core\\computation\\expressions.py:20: UserWarning: Pandas requires version '2.7.3' or newer of 'numexpr' (version '2.7.1' currently installed).\n",
      "  from pandas.core.computation.check import NUMEXPR_INSTALLED\n"
     ]
    }
   ],
   "source": [
    "import numpy as np\n",
    "import pandas as pd\n",
    "import matplotlib.pyplot as plt\n",
    "import seaborn as sns\n",
    "import statsmodels.formula.api as smf"
   ]
  },
  {
   "cell_type": "code",
   "execution_count": 2,
   "id": "e7680f9e",
   "metadata": {},
   "outputs": [],
   "source": [
    "#pip install --upgrade pandas"
   ]
  },
  {
   "cell_type": "markdown",
   "id": "42380d5d",
   "metadata": {},
   "source": [
    "1. Normal Checking! "
   ]
  },
  {
   "cell_type": "code",
   "execution_count": 3,
   "id": "1a1a3951",
   "metadata": {},
   "outputs": [
    {
     "data": {
      "text/html": [
       "<div>\n",
       "<style scoped>\n",
       "    .dataframe tbody tr th:only-of-type {\n",
       "        vertical-align: middle;\n",
       "    }\n",
       "\n",
       "    .dataframe tbody tr th {\n",
       "        vertical-align: top;\n",
       "    }\n",
       "\n",
       "    .dataframe thead th {\n",
       "        text-align: right;\n",
       "    }\n",
       "</style>\n",
       "<table border=\"1\" class=\"dataframe\">\n",
       "  <thead>\n",
       "    <tr style=\"text-align: right;\">\n",
       "      <th></th>\n",
       "      <th>age</th>\n",
       "      <th>sex</th>\n",
       "      <th>bmi</th>\n",
       "      <th>children</th>\n",
       "      <th>smoker</th>\n",
       "      <th>region</th>\n",
       "      <th>charges</th>\n",
       "    </tr>\n",
       "  </thead>\n",
       "  <tbody>\n",
       "    <tr>\n",
       "      <th>0</th>\n",
       "      <td>19</td>\n",
       "      <td>female</td>\n",
       "      <td>27.900</td>\n",
       "      <td>0</td>\n",
       "      <td>yes</td>\n",
       "      <td>southwest</td>\n",
       "      <td>16884.92400</td>\n",
       "    </tr>\n",
       "    <tr>\n",
       "      <th>1</th>\n",
       "      <td>18</td>\n",
       "      <td>male</td>\n",
       "      <td>33.770</td>\n",
       "      <td>1</td>\n",
       "      <td>no</td>\n",
       "      <td>southeast</td>\n",
       "      <td>1725.55230</td>\n",
       "    </tr>\n",
       "    <tr>\n",
       "      <th>2</th>\n",
       "      <td>28</td>\n",
       "      <td>male</td>\n",
       "      <td>33.000</td>\n",
       "      <td>3</td>\n",
       "      <td>no</td>\n",
       "      <td>southeast</td>\n",
       "      <td>4449.46200</td>\n",
       "    </tr>\n",
       "    <tr>\n",
       "      <th>3</th>\n",
       "      <td>33</td>\n",
       "      <td>male</td>\n",
       "      <td>22.705</td>\n",
       "      <td>0</td>\n",
       "      <td>no</td>\n",
       "      <td>northwest</td>\n",
       "      <td>21984.47061</td>\n",
       "    </tr>\n",
       "    <tr>\n",
       "      <th>4</th>\n",
       "      <td>32</td>\n",
       "      <td>male</td>\n",
       "      <td>28.880</td>\n",
       "      <td>0</td>\n",
       "      <td>no</td>\n",
       "      <td>northwest</td>\n",
       "      <td>3866.85520</td>\n",
       "    </tr>\n",
       "  </tbody>\n",
       "</table>\n",
       "</div>"
      ],
      "text/plain": [
       "   age     sex     bmi  children smoker     region      charges\n",
       "0   19  female  27.900         0    yes  southwest  16884.92400\n",
       "1   18    male  33.770         1     no  southeast   1725.55230\n",
       "2   28    male  33.000         3     no  southeast   4449.46200\n",
       "3   33    male  22.705         0     no  northwest  21984.47061\n",
       "4   32    male  28.880         0     no  northwest   3866.85520"
      ]
     },
     "execution_count": 3,
     "metadata": {},
     "output_type": "execute_result"
    }
   ],
   "source": [
    "insurance = pd.read_csv('./expenses.csv')\n",
    "insurance.head()\n",
    "#Age, BMI, Childern - std \n",
    "#sex, smoker region - onehot encoding & dummy variable"
   ]
  },
  {
   "cell_type": "code",
   "execution_count": 4,
   "id": "1ebc42d0",
   "metadata": {},
   "outputs": [
    {
     "data": {
      "text/plain": [
       "age           int64\n",
       "sex          object\n",
       "bmi         float64\n",
       "children      int64\n",
       "smoker       object\n",
       "region       object\n",
       "charges     float64\n",
       "dtype: object"
      ]
     },
     "execution_count": 4,
     "metadata": {},
     "output_type": "execute_result"
    }
   ],
   "source": [
    "insurance.dtypes"
   ]
  },
  {
   "cell_type": "code",
   "execution_count": 5,
   "id": "483fd93f",
   "metadata": {},
   "outputs": [
    {
     "data": {
      "text/plain": [
       "age         0\n",
       "sex         0\n",
       "bmi         0\n",
       "children    0\n",
       "smoker      0\n",
       "region      0\n",
       "charges     0\n",
       "dtype: int64"
      ]
     },
     "execution_count": 5,
     "metadata": {},
     "output_type": "execute_result"
    }
   ],
   "source": [
    "insurance.isna().sum()"
   ]
  },
  {
   "cell_type": "code",
   "execution_count": 6,
   "id": "27dfb25d",
   "metadata": {},
   "outputs": [
    {
     "data": {
      "text/html": [
       "<div>\n",
       "<style scoped>\n",
       "    .dataframe tbody tr th:only-of-type {\n",
       "        vertical-align: middle;\n",
       "    }\n",
       "\n",
       "    .dataframe tbody tr th {\n",
       "        vertical-align: top;\n",
       "    }\n",
       "\n",
       "    .dataframe thead th {\n",
       "        text-align: right;\n",
       "    }\n",
       "</style>\n",
       "<table border=\"1\" class=\"dataframe\">\n",
       "  <thead>\n",
       "    <tr style=\"text-align: right;\">\n",
       "      <th></th>\n",
       "      <th>age</th>\n",
       "      <th>bmi</th>\n",
       "      <th>children</th>\n",
       "      <th>charges</th>\n",
       "    </tr>\n",
       "  </thead>\n",
       "  <tbody>\n",
       "    <tr>\n",
       "      <th>count</th>\n",
       "      <td>1338.000000</td>\n",
       "      <td>1338.000000</td>\n",
       "      <td>1338.000000</td>\n",
       "      <td>1338.000000</td>\n",
       "    </tr>\n",
       "    <tr>\n",
       "      <th>mean</th>\n",
       "      <td>39.207025</td>\n",
       "      <td>30.663397</td>\n",
       "      <td>1.094918</td>\n",
       "      <td>13270.422265</td>\n",
       "    </tr>\n",
       "    <tr>\n",
       "      <th>std</th>\n",
       "      <td>14.049960</td>\n",
       "      <td>6.098187</td>\n",
       "      <td>1.205493</td>\n",
       "      <td>12110.011237</td>\n",
       "    </tr>\n",
       "    <tr>\n",
       "      <th>min</th>\n",
       "      <td>18.000000</td>\n",
       "      <td>15.960000</td>\n",
       "      <td>0.000000</td>\n",
       "      <td>1121.873900</td>\n",
       "    </tr>\n",
       "    <tr>\n",
       "      <th>25%</th>\n",
       "      <td>27.000000</td>\n",
       "      <td>26.296250</td>\n",
       "      <td>0.000000</td>\n",
       "      <td>4740.287150</td>\n",
       "    </tr>\n",
       "    <tr>\n",
       "      <th>50%</th>\n",
       "      <td>39.000000</td>\n",
       "      <td>30.400000</td>\n",
       "      <td>1.000000</td>\n",
       "      <td>9382.033000</td>\n",
       "    </tr>\n",
       "    <tr>\n",
       "      <th>75%</th>\n",
       "      <td>51.000000</td>\n",
       "      <td>34.693750</td>\n",
       "      <td>2.000000</td>\n",
       "      <td>16639.912515</td>\n",
       "    </tr>\n",
       "    <tr>\n",
       "      <th>max</th>\n",
       "      <td>64.000000</td>\n",
       "      <td>53.130000</td>\n",
       "      <td>5.000000</td>\n",
       "      <td>63770.428010</td>\n",
       "    </tr>\n",
       "  </tbody>\n",
       "</table>\n",
       "</div>"
      ],
      "text/plain": [
       "               age          bmi     children       charges\n",
       "count  1338.000000  1338.000000  1338.000000   1338.000000\n",
       "mean     39.207025    30.663397     1.094918  13270.422265\n",
       "std      14.049960     6.098187     1.205493  12110.011237\n",
       "min      18.000000    15.960000     0.000000   1121.873900\n",
       "25%      27.000000    26.296250     0.000000   4740.287150\n",
       "50%      39.000000    30.400000     1.000000   9382.033000\n",
       "75%      51.000000    34.693750     2.000000  16639.912515\n",
       "max      64.000000    53.130000     5.000000  63770.428010"
      ]
     },
     "execution_count": 6,
     "metadata": {},
     "output_type": "execute_result"
    }
   ],
   "source": [
    "insurance.describe()"
   ]
  },
  {
   "cell_type": "code",
   "execution_count": 7,
   "id": "af8a0879",
   "metadata": {},
   "outputs": [
    {
     "data": {
      "text/plain": [
       "18"
      ]
     },
     "execution_count": 7,
     "metadata": {},
     "output_type": "execute_result"
    }
   ],
   "source": [
    "insurance['age'].max() #64 \n",
    "insurance['age'].min() #18 "
   ]
  },
  {
   "cell_type": "markdown",
   "id": "5b3ac454",
   "metadata": {},
   "source": [
    "2. Change Age and BMI into Categorical Value"
   ]
  },
  {
   "cell_type": "code",
   "execution_count": 8,
   "id": "217a77fb",
   "metadata": {},
   "outputs": [],
   "source": [
    "insurance['age_group'] = pd.cut(insurance['age'], bins=[10, 20, 30, 40, 50, 60, float('Inf')], labels=['10s', '20s', '30s', '40s', '50s', '60s'])"
   ]
  },
  {
   "cell_type": "code",
   "execution_count": 9,
   "id": "cf23d389",
   "metadata": {},
   "outputs": [
    {
     "data": {
      "text/plain": [
       "40s    0.210015\n",
       "20s    0.207773\n",
       "50s    0.198057\n",
       "30s    0.192078\n",
       "10s    0.124066\n",
       "60s    0.068012\n",
       "Name: age_group, dtype: float64"
      ]
     },
     "execution_count": 9,
     "metadata": {},
     "output_type": "execute_result"
    }
   ],
   "source": [
    "insurance['age_group'].value_counts(normalize = True)"
   ]
  },
  {
   "cell_type": "code",
   "execution_count": 10,
   "id": "2c0b5788",
   "metadata": {},
   "outputs": [
    {
     "data": {
      "text/plain": [
       "15.96"
      ]
     },
     "execution_count": 10,
     "metadata": {},
     "output_type": "execute_result"
    }
   ],
   "source": [
    "insurance['bmi'].max() #53.13 \n",
    "insurance['bmi'].min() #15.96 "
   ]
  },
  {
   "cell_type": "code",
   "execution_count": 11,
   "id": "03f42296",
   "metadata": {},
   "outputs": [],
   "source": [
    "insurance['bmi_group'] = pd.cut(insurance['bmi'], bins=[0, 18.5, 25, 30, 35, float('Inf')], \n",
    "                                labels=['Underweight', 'Normal', 'Overweight', 'Obese', 'Extremly Obese'])"
   ]
  },
  {
   "cell_type": "code",
   "execution_count": 12,
   "id": "2562e144",
   "metadata": {},
   "outputs": [
    {
     "data": {
      "text/html": [
       "<div>\n",
       "<style scoped>\n",
       "    .dataframe tbody tr th:only-of-type {\n",
       "        vertical-align: middle;\n",
       "    }\n",
       "\n",
       "    .dataframe tbody tr th {\n",
       "        vertical-align: top;\n",
       "    }\n",
       "\n",
       "    .dataframe thead th {\n",
       "        text-align: right;\n",
       "    }\n",
       "</style>\n",
       "<table border=\"1\" class=\"dataframe\">\n",
       "  <thead>\n",
       "    <tr style=\"text-align: right;\">\n",
       "      <th></th>\n",
       "      <th>age</th>\n",
       "      <th>sex</th>\n",
       "      <th>bmi</th>\n",
       "      <th>children</th>\n",
       "      <th>smoker</th>\n",
       "      <th>region</th>\n",
       "      <th>charges</th>\n",
       "      <th>age_group</th>\n",
       "      <th>bmi_group</th>\n",
       "    </tr>\n",
       "  </thead>\n",
       "  <tbody>\n",
       "    <tr>\n",
       "      <th>0</th>\n",
       "      <td>19</td>\n",
       "      <td>female</td>\n",
       "      <td>27.900</td>\n",
       "      <td>0</td>\n",
       "      <td>yes</td>\n",
       "      <td>southwest</td>\n",
       "      <td>16884.92400</td>\n",
       "      <td>10s</td>\n",
       "      <td>Overweight</td>\n",
       "    </tr>\n",
       "    <tr>\n",
       "      <th>1</th>\n",
       "      <td>18</td>\n",
       "      <td>male</td>\n",
       "      <td>33.770</td>\n",
       "      <td>1</td>\n",
       "      <td>no</td>\n",
       "      <td>southeast</td>\n",
       "      <td>1725.55230</td>\n",
       "      <td>10s</td>\n",
       "      <td>Obese</td>\n",
       "    </tr>\n",
       "    <tr>\n",
       "      <th>2</th>\n",
       "      <td>28</td>\n",
       "      <td>male</td>\n",
       "      <td>33.000</td>\n",
       "      <td>3</td>\n",
       "      <td>no</td>\n",
       "      <td>southeast</td>\n",
       "      <td>4449.46200</td>\n",
       "      <td>20s</td>\n",
       "      <td>Obese</td>\n",
       "    </tr>\n",
       "    <tr>\n",
       "      <th>3</th>\n",
       "      <td>33</td>\n",
       "      <td>male</td>\n",
       "      <td>22.705</td>\n",
       "      <td>0</td>\n",
       "      <td>no</td>\n",
       "      <td>northwest</td>\n",
       "      <td>21984.47061</td>\n",
       "      <td>30s</td>\n",
       "      <td>Normal</td>\n",
       "    </tr>\n",
       "    <tr>\n",
       "      <th>4</th>\n",
       "      <td>32</td>\n",
       "      <td>male</td>\n",
       "      <td>28.880</td>\n",
       "      <td>0</td>\n",
       "      <td>no</td>\n",
       "      <td>northwest</td>\n",
       "      <td>3866.85520</td>\n",
       "      <td>30s</td>\n",
       "      <td>Overweight</td>\n",
       "    </tr>\n",
       "  </tbody>\n",
       "</table>\n",
       "</div>"
      ],
      "text/plain": [
       "   age     sex     bmi  children smoker     region      charges age_group  \\\n",
       "0   19  female  27.900         0    yes  southwest  16884.92400       10s   \n",
       "1   18    male  33.770         1     no  southeast   1725.55230       10s   \n",
       "2   28    male  33.000         3     no  southeast   4449.46200       20s   \n",
       "3   33    male  22.705         0     no  northwest  21984.47061       30s   \n",
       "4   32    male  28.880         0     no  northwest   3866.85520       30s   \n",
       "\n",
       "    bmi_group  \n",
       "0  Overweight  \n",
       "1       Obese  \n",
       "2       Obese  \n",
       "3      Normal  \n",
       "4  Overweight  "
      ]
     },
     "execution_count": 12,
     "metadata": {},
     "output_type": "execute_result"
    }
   ],
   "source": [
    "insurance.head()"
   ]
  },
  {
   "cell_type": "code",
   "execution_count": 13,
   "id": "c8b1cb98",
   "metadata": {},
   "outputs": [
    {
     "data": {
      "text/plain": [
       "Obese             0.290732\n",
       "Overweight        0.288490\n",
       "Extremly Obese    0.236173\n",
       "Normal            0.168909\n",
       "Underweight       0.015695\n",
       "Name: bmi_group, dtype: float64"
      ]
     },
     "execution_count": 13,
     "metadata": {},
     "output_type": "execute_result"
    }
   ],
   "source": [
    "insurance['bmi_group'].value_counts(normalize = True)"
   ]
  },
  {
   "cell_type": "code",
   "execution_count": 14,
   "id": "4b44e9ed",
   "metadata": {},
   "outputs": [],
   "source": [
    "insurance['childern_categorical'] = pd.Categorical(insurance.children)"
   ]
  },
  {
   "cell_type": "code",
   "execution_count": 15,
   "id": "759ccb33",
   "metadata": {},
   "outputs": [
    {
     "data": {
      "text/plain": [
       "0    0.428999\n",
       "1    0.242152\n",
       "2    0.179372\n",
       "3    0.117339\n",
       "4    0.018685\n",
       "5    0.013453\n",
       "Name: childern_categorical, dtype: float64"
      ]
     },
     "execution_count": 15,
     "metadata": {},
     "output_type": "execute_result"
    }
   ],
   "source": [
    "insurance['childern_categorical'].value_counts(normalize = True)"
   ]
  },
  {
   "cell_type": "code",
   "execution_count": 16,
   "id": "19473387",
   "metadata": {},
   "outputs": [
    {
     "data": {
      "text/plain": [
       "age                        int64\n",
       "sex                       object\n",
       "bmi                      float64\n",
       "children                   int64\n",
       "smoker                    object\n",
       "region                    object\n",
       "charges                  float64\n",
       "age_group               category\n",
       "bmi_group               category\n",
       "childern_categorical    category\n",
       "dtype: object"
      ]
     },
     "execution_count": 16,
     "metadata": {},
     "output_type": "execute_result"
    }
   ],
   "source": [
    "insurance.dtypes"
   ]
  },
  {
   "cell_type": "code",
   "execution_count": 17,
   "id": "32a7f5b0",
   "metadata": {},
   "outputs": [],
   "source": [
    "#save csv file \n",
    "#insurance.to_csv('insurance.csv', encoding = 'utf-8', index = False)"
   ]
  },
  {
   "cell_type": "markdown",
   "id": "564df883",
   "metadata": {},
   "source": [
    "3. Conduct ANOVA test (Age range, Sex, BMI range, Childern categorical, Smoker, Region --- Charges)  "
   ]
  },
  {
   "cell_type": "code",
   "execution_count": 18,
   "id": "52e7ec3b",
   "metadata": {},
   "outputs": [
    {
     "name": "stderr",
     "output_type": "stream",
     "text": [
      "C:\\Users\\Joy\\anaconda3\\lib\\site-packages\\statsmodels\\tsa\\base\\tsa_model.py:7: FutureWarning: pandas.Int64Index is deprecated and will be removed from pandas in a future version. Use pandas.Index with the appropriate dtype instead.\n",
      "  from pandas import (to_datetime, Int64Index, DatetimeIndex, Period,\n",
      "C:\\Users\\Joy\\anaconda3\\lib\\site-packages\\statsmodels\\tsa\\base\\tsa_model.py:7: FutureWarning: pandas.Float64Index is deprecated and will be removed from pandas in a future version. Use pandas.Index with the appropriate dtype instead.\n",
      "  from pandas import (to_datetime, Int64Index, DatetimeIndex, Period,\n"
     ]
    }
   ],
   "source": [
    "from scipy.stats import f_oneway\n",
    "from statsmodels.formula.api import ols\n",
    "import statsmodels.api as sm\n",
    "from statsmodels.stats.multicomp import pairwise_tukeyhsd"
   ]
  },
  {
   "cell_type": "markdown",
   "id": "538a2869",
   "metadata": {},
   "source": [
    "* ANOVA test between Age range and Charges"
   ]
  },
  {
   "cell_type": "code",
   "execution_count": 19,
   "id": "b517edc8",
   "metadata": {},
   "outputs": [
    {
     "data": {
      "text/plain": [
       "<AxesSubplot:title={'center':'charges'}, xlabel='age_group'>"
      ]
     },
     "execution_count": 19,
     "metadata": {},
     "output_type": "execute_result"
    },
    {
     "data": {
      "image/png": "[encoded data removed]",
      "text/plain": [
       "<Figure size 864x576 with 1 Axes>"
      ]
     },
     "metadata": {
      "needs_background": "light"
     },
     "output_type": "display_data"
    }
   ],
   "source": [
    "insurance.boxplot('charges', by='age_group', figsize=(12, 8))"
   ]
  },
  {
   "cell_type": "code",
   "execution_count": 20,
   "id": "492c1c75",
   "metadata": {},
   "outputs": [],
   "source": [
    "pd.set_option('display.float_format', lambda x: '%.3f' % x)"
   ]
  },
  {
   "cell_type": "code",
   "execution_count": 21,
   "id": "bbdd80e4",
   "metadata": {},
   "outputs": [
    {
     "data": {
      "text/html": [
       "<div>\n",
       "<style scoped>\n",
       "    .dataframe tbody tr th:only-of-type {\n",
       "        vertical-align: middle;\n",
       "    }\n",
       "\n",
       "    .dataframe tbody tr th {\n",
       "        vertical-align: top;\n",
       "    }\n",
       "\n",
       "    .dataframe thead th {\n",
       "        text-align: right;\n",
       "    }\n",
       "</style>\n",
       "<table border=\"1\" class=\"dataframe\">\n",
       "  <thead>\n",
       "    <tr style=\"text-align: right;\">\n",
       "      <th></th>\n",
       "      <th>sum_sq</th>\n",
       "      <th>df</th>\n",
       "      <th>F</th>\n",
       "      <th>PR(&gt;F)</th>\n",
       "    </tr>\n",
       "  </thead>\n",
       "  <tbody>\n",
       "    <tr>\n",
       "      <th>age_group</th>\n",
       "      <td>17445900957.101</td>\n",
       "      <td>5.000</td>\n",
       "      <td>26.018</td>\n",
       "      <td>0.000</td>\n",
       "    </tr>\n",
       "    <tr>\n",
       "      <th>Residual</th>\n",
       "      <td>178628320611.267</td>\n",
       "      <td>1332.000</td>\n",
       "      <td>NaN</td>\n",
       "      <td>NaN</td>\n",
       "    </tr>\n",
       "  </tbody>\n",
       "</table>\n",
       "</div>"
      ],
      "text/plain": [
       "                    sum_sq       df      F  PR(>F)\n",
       "age_group  17445900957.101    5.000 26.018   0.000\n",
       "Residual  178628320611.267 1332.000    NaN     NaN"
      ]
     },
     "execution_count": 21,
     "metadata": {},
     "output_type": "execute_result"
    }
   ],
   "source": [
    "aov = ols('charges ~ age_group', data = insurance).fit()\n",
    "aov_table = sm.stats.anova_lm(aov, typ = 2 )\n",
    "aov_table"
   ]
  },
  {
   "cell_type": "code",
   "execution_count": 22,
   "id": "6479aec2",
   "metadata": {},
   "outputs": [
    {
     "data": {
      "text/html": [
       "<div>\n",
       "<style scoped>\n",
       "    .dataframe tbody tr th:only-of-type {\n",
       "        vertical-align: middle;\n",
       "    }\n",
       "\n",
       "    .dataframe tbody tr th {\n",
       "        vertical-align: top;\n",
       "    }\n",
       "\n",
       "    .dataframe thead th {\n",
       "        text-align: right;\n",
       "    }\n",
       "</style>\n",
       "<table border=\"1\" class=\"dataframe\">\n",
       "  <thead>\n",
       "    <tr style=\"text-align: right;\">\n",
       "      <th></th>\n",
       "      <th>coef</th>\n",
       "      <th>std err</th>\n",
       "      <th>t</th>\n",
       "      <th>P&gt;|t|</th>\n",
       "      <th>Conf. Int. Low</th>\n",
       "      <th>Conf. Int. Upp.</th>\n",
       "      <th>pvalue-hs</th>\n",
       "      <th>reject-hs</th>\n",
       "    </tr>\n",
       "  </thead>\n",
       "  <tbody>\n",
       "    <tr>\n",
       "      <th>20s-10s</th>\n",
       "      <td>1092.543</td>\n",
       "      <td>1135.895</td>\n",
       "      <td>0.962</td>\n",
       "      <td>0.336</td>\n",
       "      <td>-1135.795</td>\n",
       "      <td>3320.880</td>\n",
       "      <td>0.336</td>\n",
       "      <td>False</td>\n",
       "    </tr>\n",
       "    <tr>\n",
       "      <th>30s-10s</th>\n",
       "      <td>2925.826</td>\n",
       "      <td>1153.115</td>\n",
       "      <td>2.537</td>\n",
       "      <td>0.011</td>\n",
       "      <td>663.707</td>\n",
       "      <td>5187.946</td>\n",
       "      <td>0.044</td>\n",
       "      <td>True</td>\n",
       "    </tr>\n",
       "    <tr>\n",
       "      <th>40s-10s</th>\n",
       "      <td>6068.561</td>\n",
       "      <td>1133.625</td>\n",
       "      <td>5.353</td>\n",
       "      <td>0.000</td>\n",
       "      <td>3844.675</td>\n",
       "      <td>8292.447</td>\n",
       "      <td>0.000</td>\n",
       "      <td>True</td>\n",
       "    </tr>\n",
       "    <tr>\n",
       "      <th>50s-10s</th>\n",
       "      <td>8348.810</td>\n",
       "      <td>1146.264</td>\n",
       "      <td>7.283</td>\n",
       "      <td>0.000</td>\n",
       "      <td>6100.131</td>\n",
       "      <td>10597.490</td>\n",
       "      <td>0.000</td>\n",
       "      <td>True</td>\n",
       "    </tr>\n",
       "    <tr>\n",
       "      <th>60s-10s</th>\n",
       "      <td>12349.681</td>\n",
       "      <td>1510.480</td>\n",
       "      <td>8.176</td>\n",
       "      <td>0.000</td>\n",
       "      <td>9386.503</td>\n",
       "      <td>15312.859</td>\n",
       "      <td>0.000</td>\n",
       "      <td>True</td>\n",
       "    </tr>\n",
       "    <tr>\n",
       "      <th>30s-20s</th>\n",
       "      <td>1833.283</td>\n",
       "      <td>1002.100</td>\n",
       "      <td>1.829</td>\n",
       "      <td>0.068</td>\n",
       "      <td>-132.582</td>\n",
       "      <td>3799.149</td>\n",
       "      <td>0.131</td>\n",
       "      <td>False</td>\n",
       "    </tr>\n",
       "    <tr>\n",
       "      <th>40s-20s</th>\n",
       "      <td>4976.018</td>\n",
       "      <td>979.610</td>\n",
       "      <td>5.080</td>\n",
       "      <td>0.000</td>\n",
       "      <td>3054.270</td>\n",
       "      <td>6897.765</td>\n",
       "      <td>0.000</td>\n",
       "      <td>True</td>\n",
       "    </tr>\n",
       "    <tr>\n",
       "      <th>50s-20s</th>\n",
       "      <td>7256.267</td>\n",
       "      <td>994.209</td>\n",
       "      <td>7.299</td>\n",
       "      <td>0.000</td>\n",
       "      <td>5305.882</td>\n",
       "      <td>9206.653</td>\n",
       "      <td>0.000</td>\n",
       "      <td>True</td>\n",
       "    </tr>\n",
       "    <tr>\n",
       "      <th>60s-20s</th>\n",
       "      <td>11257.138</td>\n",
       "      <td>1398.599</td>\n",
       "      <td>8.049</td>\n",
       "      <td>0.000</td>\n",
       "      <td>8513.442</td>\n",
       "      <td>14000.834</td>\n",
       "      <td>0.000</td>\n",
       "      <td>True</td>\n",
       "    </tr>\n",
       "    <tr>\n",
       "      <th>40s-30s</th>\n",
       "      <td>3142.734</td>\n",
       "      <td>999.527</td>\n",
       "      <td>3.144</td>\n",
       "      <td>0.002</td>\n",
       "      <td>1181.916</td>\n",
       "      <td>5103.553</td>\n",
       "      <td>0.010</td>\n",
       "      <td>True</td>\n",
       "    </tr>\n",
       "    <tr>\n",
       "      <th>50s-30s</th>\n",
       "      <td>5422.984</td>\n",
       "      <td>1013.839</td>\n",
       "      <td>5.349</td>\n",
       "      <td>0.000</td>\n",
       "      <td>3434.090</td>\n",
       "      <td>7411.878</td>\n",
       "      <td>0.000</td>\n",
       "      <td>True</td>\n",
       "    </tr>\n",
       "    <tr>\n",
       "      <th>60s-30s</th>\n",
       "      <td>9423.855</td>\n",
       "      <td>1412.620</td>\n",
       "      <td>6.671</td>\n",
       "      <td>0.000</td>\n",
       "      <td>6652.652</td>\n",
       "      <td>12195.058</td>\n",
       "      <td>0.000</td>\n",
       "      <td>True</td>\n",
       "    </tr>\n",
       "    <tr>\n",
       "      <th>50s-40s</th>\n",
       "      <td>2280.250</td>\n",
       "      <td>991.615</td>\n",
       "      <td>2.300</td>\n",
       "      <td>0.022</td>\n",
       "      <td>334.952</td>\n",
       "      <td>4225.548</td>\n",
       "      <td>0.063</td>\n",
       "      <td>False</td>\n",
       "    </tr>\n",
       "    <tr>\n",
       "      <th>60s-40s</th>\n",
       "      <td>6281.120</td>\n",
       "      <td>1396.756</td>\n",
       "      <td>4.497</td>\n",
       "      <td>0.000</td>\n",
       "      <td>3541.038</td>\n",
       "      <td>9021.202</td>\n",
       "      <td>0.000</td>\n",
       "      <td>True</td>\n",
       "    </tr>\n",
       "    <tr>\n",
       "      <th>60s-50s</th>\n",
       "      <td>4000.871</td>\n",
       "      <td>1407.033</td>\n",
       "      <td>2.843</td>\n",
       "      <td>0.005</td>\n",
       "      <td>1240.628</td>\n",
       "      <td>6761.114</td>\n",
       "      <td>0.022</td>\n",
       "      <td>True</td>\n",
       "    </tr>\n",
       "  </tbody>\n",
       "</table>\n",
       "</div>"
      ],
      "text/plain": [
       "             coef  std err     t  P>|t|  Conf. Int. Low  Conf. Int. Upp.  \\\n",
       "20s-10s  1092.543 1135.895 0.962  0.336       -1135.795         3320.880   \n",
       "30s-10s  2925.826 1153.115 2.537  0.011         663.707         5187.946   \n",
       "40s-10s  6068.561 1133.625 5.353  0.000        3844.675         8292.447   \n",
       "50s-10s  8348.810 1146.264 7.283  0.000        6100.131        10597.490   \n",
       "60s-10s 12349.681 1510.480 8.176  0.000        9386.503        15312.859   \n",
       "30s-20s  1833.283 1002.100 1.829  0.068        -132.582         3799.149   \n",
       "40s-20s  4976.018  979.610 5.080  0.000        3054.270         6897.765   \n",
       "50s-20s  7256.267  994.209 7.299  0.000        5305.882         9206.653   \n",
       "60s-20s 11257.138 1398.599 8.049  0.000        8513.442        14000.834   \n",
       "40s-30s  3142.734  999.527 3.144  0.002        1181.916         5103.553   \n",
       "50s-30s  5422.984 1013.839 5.349  0.000        3434.090         7411.878   \n",
       "60s-30s  9423.855 1412.620 6.671  0.000        6652.652        12195.058   \n",
       "50s-40s  2280.250  991.615 2.300  0.022         334.952         4225.548   \n",
       "60s-40s  6281.120 1396.756 4.497  0.000        3541.038         9021.202   \n",
       "60s-50s  4000.871 1407.033 2.843  0.005        1240.628         6761.114   \n",
       "\n",
       "         pvalue-hs  reject-hs  \n",
       "20s-10s      0.336      False  \n",
       "30s-10s      0.044       True  \n",
       "40s-10s      0.000       True  \n",
       "50s-10s      0.000       True  \n",
       "60s-10s      0.000       True  \n",
       "30s-20s      0.131      False  \n",
       "40s-20s      0.000       True  \n",
       "50s-20s      0.000       True  \n",
       "60s-20s      0.000       True  \n",
       "40s-30s      0.010       True  \n",
       "50s-30s      0.000       True  \n",
       "60s-30s      0.000       True  \n",
       "50s-40s      0.063      False  \n",
       "60s-40s      0.000       True  \n",
       "60s-50s      0.022       True  "
      ]
     },
     "execution_count": 22,
     "metadata": {},
     "output_type": "execute_result"
    }
   ],
   "source": [
    "pair_t = aov.t_test_pairwise('age_group')\n",
    "pair_t.result_frame"
   ]
  },
  {
   "cell_type": "code",
   "execution_count": 23,
   "id": "2c8fa019",
   "metadata": {},
   "outputs": [
    {
     "name": "stdout",
     "output_type": "stream",
     "text": [
      "    Multiple Comparison of Means - Tukey HSD, FWER=0.05     \n",
      "============================================================\n",
      "group1 group2  meandiff  p-adj    lower      upper    reject\n",
      "------------------------------------------------------------\n",
      "   10s    20s  1092.5429    0.9 -2149.1151  4334.2009  False\n",
      "   10s    30s  2925.8262 0.1143  -364.9756   6216.628  False\n",
      "   10s    40s  6068.5607  0.001  2833.3787  9303.7426   True\n",
      "   10s    50s  8348.8104  0.001  5077.5598 11620.0609   True\n",
      "   10s    60s  12349.681  0.001   8039.019  16660.343   True\n",
      "   20s    30s  1833.2834 0.4489 -1026.5457  4693.1125  False\n",
      "   20s    40s  4976.0178  0.001  2180.3697  7771.6658   True\n",
      "   20s    50s  7256.2675  0.001  4418.9579 10093.5771   True\n",
      "   20s    60s 11257.1381  0.001  7265.7658 15248.5104   True\n",
      "   30s    40s  3142.7344  0.021   290.2481  5995.2207   True\n",
      "   30s    50s  5422.9841  0.001  2529.6546  8316.3137   True\n",
      "   30s    60s  9423.8547  0.001  5392.4675 13455.2419   True\n",
      "   40s    50s  2280.2497 0.1947  -549.6587  5110.1581  False\n",
      "   40s    60s  6281.1203  0.001  2295.0059 10267.2348   True\n",
      "   50s    60s  4000.8706 0.0515   -14.5728  8016.3141  False\n",
      "------------------------------------------------------------\n"
     ]
    }
   ],
   "source": [
    "tukey = pairwise_tukeyhsd(endog=insurance['charges'],\n",
    "                          groups=insurance['age_group'],\n",
    "                          alpha=0.05)\n",
    "print(tukey)"
   ]
  },
  {
   "attachments": {},
   "cell_type": "markdown",
   "id": "40cdf846",
   "metadata": {},
   "source": [
    "<img src=\"images/tukey_age & charges.png\" width=600 />"
   ]
  },
  {
   "attachments": {
    "interval%20plot%20between%20age%20group%20and%20charges.png": {
     "image/png": "[encoded data removed]"
    }
   },
   "cell_type": "markdown",
   "id": "c0953e19",
   "metadata": {},
   "source": [
    "![interval%20plot%20between%20age%20group%20and%20charges.png](attachment:interval%20plot%20between%20age%20group%20and%20charges.png)"
   ]
  },
  {
   "cell_type": "markdown",
   "id": "d78b829a",
   "metadata": {},
   "source": [
    "It show that there are **strong** significant difference between the levels of the age group since the p-value is 0 (<0.05)  \n",
    "\n",
    "Age 10s-30s, 40s-50s, over 60 are in the different group."
   ]
  },
  {
   "cell_type": "markdown",
   "id": "7bc45e27",
   "metadata": {},
   "source": [
    "* ANOVA test between Sex and Charges"
   ]
  },
  {
   "cell_type": "code",
   "execution_count": 24,
   "id": "45b90278",
   "metadata": {},
   "outputs": [
    {
     "data": {
      "text/plain": [
       "<AxesSubplot:title={'center':'charges'}, xlabel='sex'>"
      ]
     },
     "execution_count": 24,
     "metadata": {},
     "output_type": "execute_result"
    },
    {
     "data": {
      "image/png": "[encoded data removed]",
      "text/plain": [
       "<Figure size 864x576 with 1 Axes>"
      ]
     },
     "metadata": {
      "needs_background": "light"
     },
     "output_type": "display_data"
    }
   ],
   "source": [
    "insurance.boxplot('charges', by='sex', figsize=(12, 8))"
   ]
  },
  {
   "cell_type": "code",
   "execution_count": 25,
   "id": "ddc7f74e",
   "metadata": {},
   "outputs": [
    {
     "data": {
      "text/html": [
       "<div>\n",
       "<style scoped>\n",
       "    .dataframe tbody tr th:only-of-type {\n",
       "        vertical-align: middle;\n",
       "    }\n",
       "\n",
       "    .dataframe tbody tr th {\n",
       "        vertical-align: top;\n",
       "    }\n",
       "\n",
       "    .dataframe thead th {\n",
       "        text-align: right;\n",
       "    }\n",
       "</style>\n",
       "<table border=\"1\" class=\"dataframe\">\n",
       "  <thead>\n",
       "    <tr style=\"text-align: right;\">\n",
       "      <th></th>\n",
       "      <th>sum_sq</th>\n",
       "      <th>df</th>\n",
       "      <th>F</th>\n",
       "      <th>PR(&gt;F)</th>\n",
       "    </tr>\n",
       "  </thead>\n",
       "  <tbody>\n",
       "    <tr>\n",
       "      <th>sex</th>\n",
       "      <td>643590180.127</td>\n",
       "      <td>1.000</td>\n",
       "      <td>4.400</td>\n",
       "      <td>0.036</td>\n",
       "    </tr>\n",
       "    <tr>\n",
       "      <th>Residual</th>\n",
       "      <td>195430631388.240</td>\n",
       "      <td>1336.000</td>\n",
       "      <td>NaN</td>\n",
       "      <td>NaN</td>\n",
       "    </tr>\n",
       "  </tbody>\n",
       "</table>\n",
       "</div>"
      ],
      "text/plain": [
       "                   sum_sq       df     F  PR(>F)\n",
       "sex         643590180.127    1.000 4.400   0.036\n",
       "Residual 195430631388.240 1336.000   NaN     NaN"
      ]
     },
     "execution_count": 25,
     "metadata": {},
     "output_type": "execute_result"
    }
   ],
   "source": [
    "aov = ols('charges ~ sex', data = insurance).fit()\n",
    "aov_table = sm.stats.anova_lm(aov, typ = 2 )\n",
    "aov_table"
   ]
  },
  {
   "cell_type": "code",
   "execution_count": 26,
   "id": "bfa076c5",
   "metadata": {},
   "outputs": [
    {
     "data": {
      "text/html": [
       "<div>\n",
       "<style scoped>\n",
       "    .dataframe tbody tr th:only-of-type {\n",
       "        vertical-align: middle;\n",
       "    }\n",
       "\n",
       "    .dataframe tbody tr th {\n",
       "        vertical-align: top;\n",
       "    }\n",
       "\n",
       "    .dataframe thead th {\n",
       "        text-align: right;\n",
       "    }\n",
       "</style>\n",
       "<table border=\"1\" class=\"dataframe\">\n",
       "  <thead>\n",
       "    <tr style=\"text-align: right;\">\n",
       "      <th></th>\n",
       "      <th>coef</th>\n",
       "      <th>std err</th>\n",
       "      <th>t</th>\n",
       "      <th>P&gt;|t|</th>\n",
       "      <th>Conf. Int. Low</th>\n",
       "      <th>Conf. Int. Upp.</th>\n",
       "      <th>pvalue-hs</th>\n",
       "      <th>reject-hs</th>\n",
       "    </tr>\n",
       "  </thead>\n",
       "  <tbody>\n",
       "    <tr>\n",
       "      <th>male-female</th>\n",
       "      <td>1387.172</td>\n",
       "      <td>661.331</td>\n",
       "      <td>2.098</td>\n",
       "      <td>0.036</td>\n",
       "      <td>89.812</td>\n",
       "      <td>2684.532</td>\n",
       "      <td>0.036</td>\n",
       "      <td>True</td>\n",
       "    </tr>\n",
       "  </tbody>\n",
       "</table>\n",
       "</div>"
      ],
      "text/plain": [
       "                coef  std err     t  P>|t|  Conf. Int. Low  Conf. Int. Upp.  \\\n",
       "male-female 1387.172  661.331 2.098  0.036          89.812         2684.532   \n",
       "\n",
       "             pvalue-hs  reject-hs  \n",
       "male-female      0.036       True  "
      ]
     },
     "execution_count": 26,
     "metadata": {},
     "output_type": "execute_result"
    }
   ],
   "source": [
    "pair_t = aov.t_test_pairwise('sex')\n",
    "pair_t.result_frame"
   ]
  },
  {
   "cell_type": "code",
   "execution_count": 27,
   "id": "47b6114d",
   "metadata": {},
   "outputs": [
    {
     "name": "stdout",
     "output_type": "stream",
     "text": [
      "  Multiple Comparison of Means - Tukey HSD, FWER=0.05  \n",
      "=======================================================\n",
      "group1 group2  meandiff p-adj   lower    upper   reject\n",
      "-------------------------------------------------------\n",
      "female   male 1387.1723 0.0361 89.8123 2684.5324   True\n",
      "-------------------------------------------------------\n"
     ]
    }
   ],
   "source": [
    "tukey = pairwise_tukeyhsd(endog=insurance['charges'],\n",
    "                          groups=insurance['sex'],\n",
    "                          alpha=0.05)\n",
    "print(tukey)"
   ]
  },
  {
   "attachments": {},
   "cell_type": "markdown",
   "id": "dd44ee64",
   "metadata": {},
   "source": [
    "<img src=\"tukey_sex & charges.png\" width=600 />"
   ]
  },
  {
   "attachments": {},
   "cell_type": "markdown",
   "id": "1cf9dd7d",
   "metadata": {},
   "source": [
    "<img src=\"images/interval plot between sex and charges.png\" width=600 />"
   ]
  },
  {
   "cell_type": "markdown",
   "id": "5fd27e4e",
   "metadata": {},
   "source": [
    "It seems that there are **marginally** significant difference between the female and male sine the p-value is 0.036 (<0.05)."
   ]
  },
  {
   "cell_type": "markdown",
   "id": "a550eaa5",
   "metadata": {},
   "source": [
    "* ANOVA test between BMI range and Charges"
   ]
  },
  {
   "cell_type": "code",
   "execution_count": 28,
   "id": "b0bd19f4",
   "metadata": {},
   "outputs": [
    {
     "data": {
      "text/plain": [
       "<AxesSubplot:title={'center':'charges'}, xlabel='bmi_group'>"
      ]
     },
     "execution_count": 28,
     "metadata": {},
     "output_type": "execute_result"
    },
    {
     "data": {
      "image/png": "[encoded data removed]",
      "text/plain": [
       "<Figure size 864x576 with 1 Axes>"
      ]
     },
     "metadata": {
      "needs_background": "light"
     },
     "output_type": "display_data"
    }
   ],
   "source": [
    "insurance.boxplot('charges', by='bmi_group', figsize=(12, 8))"
   ]
  },
  {
   "cell_type": "code",
   "execution_count": 29,
   "id": "0058fb68",
   "metadata": {},
   "outputs": [
    {
     "data": {
      "text/html": [
       "<div>\n",
       "<style scoped>\n",
       "    .dataframe tbody tr th:only-of-type {\n",
       "        vertical-align: middle;\n",
       "    }\n",
       "\n",
       "    .dataframe tbody tr th {\n",
       "        vertical-align: top;\n",
       "    }\n",
       "\n",
       "    .dataframe thead th {\n",
       "        text-align: right;\n",
       "    }\n",
       "</style>\n",
       "<table border=\"1\" class=\"dataframe\">\n",
       "  <thead>\n",
       "    <tr style=\"text-align: right;\">\n",
       "      <th></th>\n",
       "      <th>sum_sq</th>\n",
       "      <th>df</th>\n",
       "      <th>F</th>\n",
       "      <th>PR(&gt;F)</th>\n",
       "    </tr>\n",
       "  </thead>\n",
       "  <tbody>\n",
       "    <tr>\n",
       "      <th>bmi_group</th>\n",
       "      <td>9066684534.326</td>\n",
       "      <td>4.000</td>\n",
       "      <td>16.157</td>\n",
       "      <td>0.000</td>\n",
       "    </tr>\n",
       "    <tr>\n",
       "      <th>Residual</th>\n",
       "      <td>187007537034.041</td>\n",
       "      <td>1333.000</td>\n",
       "      <td>NaN</td>\n",
       "      <td>NaN</td>\n",
       "    </tr>\n",
       "  </tbody>\n",
       "</table>\n",
       "</div>"
      ],
      "text/plain": [
       "                    sum_sq       df      F  PR(>F)\n",
       "bmi_group   9066684534.326    4.000 16.157   0.000\n",
       "Residual  187007537034.041 1333.000    NaN     NaN"
      ]
     },
     "execution_count": 29,
     "metadata": {},
     "output_type": "execute_result"
    }
   ],
   "source": [
    "aov = ols('charges ~ bmi_group', data = insurance).fit()\n",
    "aov_table = sm.stats.anova_lm(aov, typ = 2 )\n",
    "aov_table"
   ]
  },
  {
   "cell_type": "code",
   "execution_count": 30,
   "id": "d0c2d54c",
   "metadata": {},
   "outputs": [
    {
     "data": {
      "text/html": [
       "<div>\n",
       "<style scoped>\n",
       "    .dataframe tbody tr th:only-of-type {\n",
       "        vertical-align: middle;\n",
       "    }\n",
       "\n",
       "    .dataframe tbody tr th {\n",
       "        vertical-align: top;\n",
       "    }\n",
       "\n",
       "    .dataframe thead th {\n",
       "        text-align: right;\n",
       "    }\n",
       "</style>\n",
       "<table border=\"1\" class=\"dataframe\">\n",
       "  <thead>\n",
       "    <tr style=\"text-align: right;\">\n",
       "      <th></th>\n",
       "      <th>coef</th>\n",
       "      <th>std err</th>\n",
       "      <th>t</th>\n",
       "      <th>P&gt;|t|</th>\n",
       "      <th>Conf. Int. Low</th>\n",
       "      <th>Conf. Int. Upp.</th>\n",
       "      <th>pvalue-hs</th>\n",
       "      <th>reject-hs</th>\n",
       "    </tr>\n",
       "  </thead>\n",
       "  <tbody>\n",
       "    <tr>\n",
       "      <th>Normal-Underweight</th>\n",
       "      <td>1777.820</td>\n",
       "      <td>2702.086</td>\n",
       "      <td>0.658</td>\n",
       "      <td>0.511</td>\n",
       "      <td>-3522.983</td>\n",
       "      <td>7078.623</td>\n",
       "      <td>0.761</td>\n",
       "      <td>False</td>\n",
       "    </tr>\n",
       "    <tr>\n",
       "      <th>Overweight-Underweight</th>\n",
       "      <td>2340.183</td>\n",
       "      <td>2654.046</td>\n",
       "      <td>0.882</td>\n",
       "      <td>0.378</td>\n",
       "      <td>-2866.378</td>\n",
       "      <td>7546.745</td>\n",
       "      <td>0.759</td>\n",
       "      <td>False</td>\n",
       "    </tr>\n",
       "    <tr>\n",
       "      <th>Obese-Underweight</th>\n",
       "      <td>5771.800</td>\n",
       "      <td>2653.518</td>\n",
       "      <td>2.175</td>\n",
       "      <td>0.030</td>\n",
       "      <td>566.275</td>\n",
       "      <td>10977.326</td>\n",
       "      <td>0.114</td>\n",
       "      <td>False</td>\n",
       "    </tr>\n",
       "    <tr>\n",
       "      <th>Extremly Obese-Underweight</th>\n",
       "      <td>8296.203</td>\n",
       "      <td>2669.170</td>\n",
       "      <td>3.108</td>\n",
       "      <td>0.002</td>\n",
       "      <td>3059.971</td>\n",
       "      <td>13532.435</td>\n",
       "      <td>0.011</td>\n",
       "      <td>True</td>\n",
       "    </tr>\n",
       "    <tr>\n",
       "      <th>Overweight-Normal</th>\n",
       "      <td>562.363</td>\n",
       "      <td>992.070</td>\n",
       "      <td>0.567</td>\n",
       "      <td>0.571</td>\n",
       "      <td>-1383.825</td>\n",
       "      <td>2508.552</td>\n",
       "      <td>0.761</td>\n",
       "      <td>False</td>\n",
       "    </tr>\n",
       "    <tr>\n",
       "      <th>Obese-Normal</th>\n",
       "      <td>3993.980</td>\n",
       "      <td>990.656</td>\n",
       "      <td>4.032</td>\n",
       "      <td>0.000</td>\n",
       "      <td>2050.565</td>\n",
       "      <td>5937.396</td>\n",
       "      <td>0.000</td>\n",
       "      <td>True</td>\n",
       "    </tr>\n",
       "    <tr>\n",
       "      <th>Extremly Obese-Normal</th>\n",
       "      <td>6518.383</td>\n",
       "      <td>1031.850</td>\n",
       "      <td>6.317</td>\n",
       "      <td>0.000</td>\n",
       "      <td>4494.157</td>\n",
       "      <td>8542.609</td>\n",
       "      <td>0.000</td>\n",
       "      <td>True</td>\n",
       "    </tr>\n",
       "    <tr>\n",
       "      <th>Obese-Overweight</th>\n",
       "      <td>3431.617</td>\n",
       "      <td>850.936</td>\n",
       "      <td>4.033</td>\n",
       "      <td>0.000</td>\n",
       "      <td>1762.298</td>\n",
       "      <td>5100.937</td>\n",
       "      <td>0.000</td>\n",
       "      <td>True</td>\n",
       "    </tr>\n",
       "    <tr>\n",
       "      <th>Extremly Obese-Overweight</th>\n",
       "      <td>5956.020</td>\n",
       "      <td>898.557</td>\n",
       "      <td>6.628</td>\n",
       "      <td>0.000</td>\n",
       "      <td>4193.279</td>\n",
       "      <td>7718.760</td>\n",
       "      <td>0.000</td>\n",
       "      <td>True</td>\n",
       "    </tr>\n",
       "    <tr>\n",
       "      <th>Extremly Obese-Obese</th>\n",
       "      <td>2524.403</td>\n",
       "      <td>896.996</td>\n",
       "      <td>2.814</td>\n",
       "      <td>0.005</td>\n",
       "      <td>764.724</td>\n",
       "      <td>4284.081</td>\n",
       "      <td>0.025</td>\n",
       "      <td>True</td>\n",
       "    </tr>\n",
       "  </tbody>\n",
       "</table>\n",
       "</div>"
      ],
      "text/plain": [
       "                               coef  std err     t  P>|t|  Conf. Int. Low  \\\n",
       "Normal-Underweight         1777.820 2702.086 0.658  0.511       -3522.983   \n",
       "Overweight-Underweight     2340.183 2654.046 0.882  0.378       -2866.378   \n",
       "Obese-Underweight          5771.800 2653.518 2.175  0.030         566.275   \n",
       "Extremly Obese-Underweight 8296.203 2669.170 3.108  0.002        3059.971   \n",
       "Overweight-Normal           562.363  992.070 0.567  0.571       -1383.825   \n",
       "Obese-Normal               3993.980  990.656 4.032  0.000        2050.565   \n",
       "Extremly Obese-Normal      6518.383 1031.850 6.317  0.000        4494.157   \n",
       "Obese-Overweight           3431.617  850.936 4.033  0.000        1762.298   \n",
       "Extremly Obese-Overweight  5956.020  898.557 6.628  0.000        4193.279   \n",
       "Extremly Obese-Obese       2524.403  896.996 2.814  0.005         764.724   \n",
       "\n",
       "                            Conf. Int. Upp.  pvalue-hs  reject-hs  \n",
       "Normal-Underweight                 7078.623      0.761      False  \n",
       "Overweight-Underweight             7546.745      0.759      False  \n",
       "Obese-Underweight                 10977.326      0.114      False  \n",
       "Extremly Obese-Underweight        13532.435      0.011       True  \n",
       "Overweight-Normal                  2508.552      0.761      False  \n",
       "Obese-Normal                       5937.396      0.000       True  \n",
       "Extremly Obese-Normal              8542.609      0.000       True  \n",
       "Obese-Overweight                   5100.937      0.000       True  \n",
       "Extremly Obese-Overweight          7718.760      0.000       True  \n",
       "Extremly Obese-Obese               4284.081      0.025       True  "
      ]
     },
     "execution_count": 30,
     "metadata": {},
     "output_type": "execute_result"
    }
   ],
   "source": [
    "pair_t = aov.t_test_pairwise('bmi_group')\n",
    "pair_t.result_frame"
   ]
  },
  {
   "cell_type": "code",
   "execution_count": 31,
   "id": "e0cd3d7a",
   "metadata": {},
   "outputs": [
    {
     "name": "stdout",
     "output_type": "stream",
     "text": [
      "           Multiple Comparison of Means - Tukey HSD, FWER=0.05            \n",
      "==========================================================================\n",
      "    group1        group2    meandiff  p-adj     lower      upper    reject\n",
      "--------------------------------------------------------------------------\n",
      "Extremly Obese      Normal -6518.3829  0.001  -9336.8874 -3699.8784   True\n",
      "Extremly Obese       Obese -2524.4026 0.0397  -4974.5547   -74.2504   True\n",
      "Extremly Obese  Overweight -5956.0197  0.001  -8410.4359 -3501.6036   True\n",
      "Extremly Obese Underweight  -8296.203 0.0165 -15587.0604 -1005.3455   True\n",
      "        Normal       Obese  3993.9803  0.001   1287.9954  6699.9653   True\n",
      "        Normal  Overweight   562.3632    0.9  -2147.4833  3272.2096  False\n",
      "        Normal Underweight -1777.8201    0.9  -9158.5864  5602.9462  False\n",
      "         Obese  Overweight -3431.6172  0.001   -5755.955 -1107.2794   True\n",
      "         Obese Underweight -5771.8004 0.1897 -13019.9029  1476.3021  False\n",
      "    Overweight Underweight -2340.1832    0.9  -9589.7282  4909.3617  False\n",
      "--------------------------------------------------------------------------\n"
     ]
    }
   ],
   "source": [
    "tukey = pairwise_tukeyhsd(endog=insurance['charges'],\n",
    "                          groups=insurance['bmi_group'],\n",
    "                          alpha=0.05)\n",
    "print(tukey)"
   ]
  },
  {
   "attachments": {},
   "cell_type": "markdown",
   "id": "29f2c87b",
   "metadata": {},
   "source": [
    "<img src=\"images/tukey bmi & charges.png\" width=600 />"
   ]
  },
  {
   "attachments": {},
   "cell_type": "markdown",
   "id": "e83c52d7",
   "metadata": {},
   "source": [
    "<img src=\"images/interval plot between bmi group and charges.png\" width=600 />"
   ]
  },
  {
   "cell_type": "markdown",
   "id": "36e3aa67",
   "metadata": {},
   "source": [
    "It show that there are **strong** significant difference between the levels of the bmi group since the p-value is 0 (<0.05)  \n",
    "\n",
    "BMI group Underweight to Overweight, Obese, Extremly Obese are in the different group."
   ]
  },
  {
   "cell_type": "markdown",
   "id": "15f06c52",
   "metadata": {},
   "source": [
    "* ANOVA test between Childern categorical and Charges"
   ]
  },
  {
   "cell_type": "code",
   "execution_count": 32,
   "id": "914c1f60",
   "metadata": {},
   "outputs": [
    {
     "data": {
      "text/plain": [
       "<AxesSubplot:title={'center':'charges'}, xlabel='childern_categorical'>"
      ]
     },
     "execution_count": 32,
     "metadata": {},
     "output_type": "execute_result"
    },
    {
     "data": {
      "image/png": "[encoded data removed]",
      "text/plain": [
       "<Figure size 864x576 with 1 Axes>"
      ]
     },
     "metadata": {
      "needs_background": "light"
     },
     "output_type": "display_data"
    }
   ],
   "source": [
    "insurance.boxplot('charges', by='childern_categorical', figsize=(12, 8))"
   ]
  },
  {
   "cell_type": "code",
   "execution_count": 33,
   "id": "317c9284",
   "metadata": {},
   "outputs": [
    {
     "data": {
      "text/html": [
       "<div>\n",
       "<style scoped>\n",
       "    .dataframe tbody tr th:only-of-type {\n",
       "        vertical-align: middle;\n",
       "    }\n",
       "\n",
       "    .dataframe tbody tr th {\n",
       "        vertical-align: top;\n",
       "    }\n",
       "\n",
       "    .dataframe thead th {\n",
       "        text-align: right;\n",
       "    }\n",
       "</style>\n",
       "<table border=\"1\" class=\"dataframe\">\n",
       "  <thead>\n",
       "    <tr style=\"text-align: right;\">\n",
       "      <th></th>\n",
       "      <th>sum_sq</th>\n",
       "      <th>df</th>\n",
       "      <th>F</th>\n",
       "      <th>PR(&gt;F)</th>\n",
       "    </tr>\n",
       "  </thead>\n",
       "  <tbody>\n",
       "    <tr>\n",
       "      <th>childern_categorical</th>\n",
       "      <td>2396916712.520</td>\n",
       "      <td>5.000</td>\n",
       "      <td>3.297</td>\n",
       "      <td>0.006</td>\n",
       "    </tr>\n",
       "    <tr>\n",
       "      <th>Residual</th>\n",
       "      <td>193677304855.847</td>\n",
       "      <td>1332.000</td>\n",
       "      <td>NaN</td>\n",
       "      <td>NaN</td>\n",
       "    </tr>\n",
       "  </tbody>\n",
       "</table>\n",
       "</div>"
      ],
      "text/plain": [
       "                               sum_sq       df     F  PR(>F)\n",
       "childern_categorical   2396916712.520    5.000 3.297   0.006\n",
       "Residual             193677304855.847 1332.000   NaN     NaN"
      ]
     },
     "execution_count": 33,
     "metadata": {},
     "output_type": "execute_result"
    }
   ],
   "source": [
    "aov = ols('charges ~ childern_categorical', data = insurance).fit()\n",
    "aov_table = sm.stats.anova_lm(aov, typ = 2 )\n",
    "aov_table"
   ]
  },
  {
   "cell_type": "code",
   "execution_count": 34,
   "id": "294577ca",
   "metadata": {},
   "outputs": [
    {
     "data": {
      "text/html": [
       "<div>\n",
       "<style scoped>\n",
       "    .dataframe tbody tr th:only-of-type {\n",
       "        vertical-align: middle;\n",
       "    }\n",
       "\n",
       "    .dataframe tbody tr th {\n",
       "        vertical-align: top;\n",
       "    }\n",
       "\n",
       "    .dataframe thead th {\n",
       "        text-align: right;\n",
       "    }\n",
       "</style>\n",
       "<table border=\"1\" class=\"dataframe\">\n",
       "  <thead>\n",
       "    <tr style=\"text-align: right;\">\n",
       "      <th></th>\n",
       "      <th>coef</th>\n",
       "      <th>std err</th>\n",
       "      <th>t</th>\n",
       "      <th>P&gt;|t|</th>\n",
       "      <th>Conf. Int. Low</th>\n",
       "      <th>Conf. Int. Upp.</th>\n",
       "      <th>pvalue-hs</th>\n",
       "      <th>reject-hs</th>\n",
       "    </tr>\n",
       "  </thead>\n",
       "  <tbody>\n",
       "    <tr>\n",
       "      <th>1-0</th>\n",
       "      <td>365.196</td>\n",
       "      <td>837.909</td>\n",
       "      <td>0.436</td>\n",
       "      <td>0.663</td>\n",
       "      <td>-1278.569</td>\n",
       "      <td>2008.962</td>\n",
       "      <td>0.991</td>\n",
       "      <td>False</td>\n",
       "    </tr>\n",
       "    <tr>\n",
       "      <th>2-0</th>\n",
       "      <td>2707.588</td>\n",
       "      <td>926.911</td>\n",
       "      <td>2.921</td>\n",
       "      <td>0.004</td>\n",
       "      <td>889.224</td>\n",
       "      <td>4525.952</td>\n",
       "      <td>0.052</td>\n",
       "      <td>False</td>\n",
       "    </tr>\n",
       "    <tr>\n",
       "      <th>3-0</th>\n",
       "      <td>2989.343</td>\n",
       "      <td>1086.026</td>\n",
       "      <td>2.753</td>\n",
       "      <td>0.006</td>\n",
       "      <td>858.835</td>\n",
       "      <td>5119.850</td>\n",
       "      <td>0.081</td>\n",
       "      <td>False</td>\n",
       "    </tr>\n",
       "    <tr>\n",
       "      <th>4-0</th>\n",
       "      <td>1484.681</td>\n",
       "      <td>2463.626</td>\n",
       "      <td>0.603</td>\n",
       "      <td>0.547</td>\n",
       "      <td>-3348.328</td>\n",
       "      <td>6317.690</td>\n",
       "      <td>0.991</td>\n",
       "      <td>False</td>\n",
       "    </tr>\n",
       "    <tr>\n",
       "      <th>5-0</th>\n",
       "      <td>-3579.940</td>\n",
       "      <td>2886.396</td>\n",
       "      <td>-1.240</td>\n",
       "      <td>0.215</td>\n",
       "      <td>-9242.318</td>\n",
       "      <td>2082.437</td>\n",
       "      <td>0.822</td>\n",
       "      <td>False</td>\n",
       "    </tr>\n",
       "    <tr>\n",
       "      <th>2-1</th>\n",
       "      <td>2342.392</td>\n",
       "      <td>1026.949</td>\n",
       "      <td>2.281</td>\n",
       "      <td>0.023</td>\n",
       "      <td>327.779</td>\n",
       "      <td>4357.005</td>\n",
       "      <td>0.258</td>\n",
       "      <td>False</td>\n",
       "    </tr>\n",
       "    <tr>\n",
       "      <th>3-1</th>\n",
       "      <td>2624.147</td>\n",
       "      <td>1172.566</td>\n",
       "      <td>2.238</td>\n",
       "      <td>0.025</td>\n",
       "      <td>323.868</td>\n",
       "      <td>4924.425</td>\n",
       "      <td>0.266</td>\n",
       "      <td>False</td>\n",
       "    </tr>\n",
       "    <tr>\n",
       "      <th>4-1</th>\n",
       "      <td>1119.484</td>\n",
       "      <td>2502.980</td>\n",
       "      <td>0.447</td>\n",
       "      <td>0.655</td>\n",
       "      <td>-3790.729</td>\n",
       "      <td>6029.698</td>\n",
       "      <td>0.991</td>\n",
       "      <td>False</td>\n",
       "    </tr>\n",
       "    <tr>\n",
       "      <th>5-1</th>\n",
       "      <td>-3945.137</td>\n",
       "      <td>2920.058</td>\n",
       "      <td>-1.351</td>\n",
       "      <td>0.177</td>\n",
       "      <td>-9673.551</td>\n",
       "      <td>1783.278</td>\n",
       "      <td>0.822</td>\n",
       "      <td>False</td>\n",
       "    </tr>\n",
       "    <tr>\n",
       "      <th>3-2</th>\n",
       "      <td>281.755</td>\n",
       "      <td>1237.733</td>\n",
       "      <td>0.228</td>\n",
       "      <td>0.820</td>\n",
       "      <td>-2146.364</td>\n",
       "      <td>2709.874</td>\n",
       "      <td>0.991</td>\n",
       "      <td>False</td>\n",
       "    </tr>\n",
       "    <tr>\n",
       "      <th>4-2</th>\n",
       "      <td>-1222.907</td>\n",
       "      <td>2534.163</td>\n",
       "      <td>-0.483</td>\n",
       "      <td>0.629</td>\n",
       "      <td>-6194.293</td>\n",
       "      <td>3748.478</td>\n",
       "      <td>0.991</td>\n",
       "      <td>False</td>\n",
       "    </tr>\n",
       "    <tr>\n",
       "      <th>5-2</th>\n",
       "      <td>-6287.528</td>\n",
       "      <td>2946.831</td>\n",
       "      <td>-2.134</td>\n",
       "      <td>0.033</td>\n",
       "      <td>-12068.464</td>\n",
       "      <td>-506.593</td>\n",
       "      <td>0.285</td>\n",
       "      <td>False</td>\n",
       "    </tr>\n",
       "    <tr>\n",
       "      <th>4-3</th>\n",
       "      <td>-1504.662</td>\n",
       "      <td>2596.588</td>\n",
       "      <td>-0.579</td>\n",
       "      <td>0.562</td>\n",
       "      <td>-6598.510</td>\n",
       "      <td>3589.186</td>\n",
       "      <td>0.991</td>\n",
       "      <td>False</td>\n",
       "    </tr>\n",
       "    <tr>\n",
       "      <th>5-3</th>\n",
       "      <td>-6569.283</td>\n",
       "      <td>3000.684</td>\n",
       "      <td>-2.189</td>\n",
       "      <td>0.029</td>\n",
       "      <td>-12455.864</td>\n",
       "      <td>-682.702</td>\n",
       "      <td>0.275</td>\n",
       "      <td>False</td>\n",
       "    </tr>\n",
       "    <tr>\n",
       "      <th>5-4</th>\n",
       "      <td>-5064.621</td>\n",
       "      <td>3727.479</td>\n",
       "      <td>-1.359</td>\n",
       "      <td>0.174</td>\n",
       "      <td>-12376.991</td>\n",
       "      <td>2247.748</td>\n",
       "      <td>0.822</td>\n",
       "      <td>False</td>\n",
       "    </tr>\n",
       "  </tbody>\n",
       "</table>\n",
       "</div>"
      ],
      "text/plain": [
       "         coef  std err      t  P>|t|  Conf. Int. Low  Conf. Int. Upp.  \\\n",
       "1-0   365.196  837.909  0.436  0.663       -1278.569         2008.962   \n",
       "2-0  2707.588  926.911  2.921  0.004         889.224         4525.952   \n",
       "3-0  2989.343 1086.026  2.753  0.006         858.835         5119.850   \n",
       "4-0  1484.681 2463.626  0.603  0.547       -3348.328         6317.690   \n",
       "5-0 -3579.940 2886.396 -1.240  0.215       -9242.318         2082.437   \n",
       "2-1  2342.392 1026.949  2.281  0.023         327.779         4357.005   \n",
       "3-1  2624.147 1172.566  2.238  0.025         323.868         4924.425   \n",
       "4-1  1119.484 2502.980  0.447  0.655       -3790.729         6029.698   \n",
       "5-1 -3945.137 2920.058 -1.351  0.177       -9673.551         1783.278   \n",
       "3-2   281.755 1237.733  0.228  0.820       -2146.364         2709.874   \n",
       "4-2 -1222.907 2534.163 -0.483  0.629       -6194.293         3748.478   \n",
       "5-2 -6287.528 2946.831 -2.134  0.033      -12068.464         -506.593   \n",
       "4-3 -1504.662 2596.588 -0.579  0.562       -6598.510         3589.186   \n",
       "5-3 -6569.283 3000.684 -2.189  0.029      -12455.864         -682.702   \n",
       "5-4 -5064.621 3727.479 -1.359  0.174      -12376.991         2247.748   \n",
       "\n",
       "     pvalue-hs  reject-hs  \n",
       "1-0      0.991      False  \n",
       "2-0      0.052      False  \n",
       "3-0      0.081      False  \n",
       "4-0      0.991      False  \n",
       "5-0      0.822      False  \n",
       "2-1      0.258      False  \n",
       "3-1      0.266      False  \n",
       "4-1      0.991      False  \n",
       "5-1      0.822      False  \n",
       "3-2      0.991      False  \n",
       "4-2      0.991      False  \n",
       "5-2      0.285      False  \n",
       "4-3      0.991      False  \n",
       "5-3      0.275      False  \n",
       "5-4      0.822      False  "
      ]
     },
     "execution_count": 34,
     "metadata": {},
     "output_type": "execute_result"
    }
   ],
   "source": [
    "pair_t = aov.t_test_pairwise('childern_categorical')\n",
    "pair_t.result_frame"
   ]
  },
  {
   "cell_type": "code",
   "execution_count": 35,
   "id": "267ba374",
   "metadata": {},
   "outputs": [
    {
     "name": "stdout",
     "output_type": "stream",
     "text": [
      "    Multiple Comparison of Means - Tukey HSD, FWER=0.05     \n",
      "============================================================\n",
      "group1 group2  meandiff  p-adj     lower      upper   reject\n",
      "------------------------------------------------------------\n",
      "     0      1   365.1962    0.9  -2026.0598 2756.4522  False\n",
      "     0      2  2707.5881 0.0413     62.3365 5352.8398   True\n",
      "     0      3  2989.3428 0.0662   -109.9976 6088.6831  False\n",
      "     0      4  1484.6807    0.9  -5546.1043 8515.4657  False\n",
      "     0      5 -3579.9404 0.7925 -11817.2428 4657.3621  False\n",
      "     1      2  2342.3919 0.2025   -588.3514 5273.1352  False\n",
      "     1      3  2624.1465 0.2211   -722.1665 5970.4596  False\n",
      "     1      4  1119.4845    0.9  -6023.6128 8262.5817  False\n",
      "     1      5 -3945.1366 0.7286 -12278.5064 4388.2332  False\n",
      "     2      3   281.7546    0.9  -3250.5338 3814.0431  False\n",
      "     2      4 -1222.9074    0.9  -8454.9949   6009.18  False\n",
      "     2      5 -6287.5285 0.2705 -14697.3027 2122.2458  False\n",
      "     3      4 -1504.6621    0.9  -8914.9012  5905.577  False\n",
      "     3      5 -6569.2831 0.2432 -15132.7437 1994.1775  False\n",
      "     4      5 -5064.6211 0.7242 -15702.2375 5572.9954  False\n",
      "------------------------------------------------------------\n"
     ]
    }
   ],
   "source": [
    "tukey = pairwise_tukeyhsd(endog=insurance['charges'],\n",
    "                          groups=insurance['childern_categorical'],\n",
    "                          alpha=0.05)\n",
    "print(tukey)"
   ]
  },
  {
   "attachments": {},
   "cell_type": "markdown",
   "id": "8a14281b",
   "metadata": {},
   "source": [
    "<img src=\"images/tukey childern & charges.png\" width=600 />"
   ]
  },
  {
   "attachments": {},
   "cell_type": "markdown",
   "id": "16935e88",
   "metadata": {},
   "source": [
    "<img src=\"images/interval plot between childern and charges.png\" width=600 />"
   ]
  },
  {
   "cell_type": "markdown",
   "id": "cbfddbfd",
   "metadata": {},
   "source": [
    "It show that there are significant difference between the levels of the bmi group since the p-value is 0.006 (<0.05)\n",
    "It seems that the beneficiary with no childern and the one with two childern has significant difference. "
   ]
  },
  {
   "cell_type": "markdown",
   "id": "f3dfe3c4",
   "metadata": {},
   "source": [
    "* ANOVA test between Smoker and Charges"
   ]
  },
  {
   "cell_type": "code",
   "execution_count": 36,
   "id": "29e89798",
   "metadata": {},
   "outputs": [
    {
     "data": {
      "text/plain": [
       "<AxesSubplot:title={'center':'charges'}, xlabel='smoker'>"
      ]
     },
     "execution_count": 36,
     "metadata": {},
     "output_type": "execute_result"
    },
    {
     "data": {
      "image/png": "[encoded data removed]",
      "text/plain": [
       "<Figure size 864x576 with 1 Axes>"
      ]
     },
     "metadata": {
      "needs_background": "light"
     },
     "output_type": "display_data"
    }
   ],
   "source": [
    "insurance.boxplot('charges', by='smoker', figsize=(12, 8))"
   ]
  },
  {
   "cell_type": "code",
   "execution_count": 37,
   "id": "dce0160e",
   "metadata": {},
   "outputs": [
    {
     "data": {
      "text/html": [
       "<div>\n",
       "<style scoped>\n",
       "    .dataframe tbody tr th:only-of-type {\n",
       "        vertical-align: middle;\n",
       "    }\n",
       "\n",
       "    .dataframe tbody tr th {\n",
       "        vertical-align: top;\n",
       "    }\n",
       "\n",
       "    .dataframe thead th {\n",
       "        text-align: right;\n",
       "    }\n",
       "</style>\n",
       "<table border=\"1\" class=\"dataframe\">\n",
       "  <thead>\n",
       "    <tr style=\"text-align: right;\">\n",
       "      <th></th>\n",
       "      <th>sum_sq</th>\n",
       "      <th>df</th>\n",
       "      <th>F</th>\n",
       "      <th>PR(&gt;F)</th>\n",
       "    </tr>\n",
       "  </thead>\n",
       "  <tbody>\n",
       "    <tr>\n",
       "      <th>smoker</th>\n",
       "      <td>121519903621.667</td>\n",
       "      <td>1.000</td>\n",
       "      <td>2177.615</td>\n",
       "      <td>0.000</td>\n",
       "    </tr>\n",
       "    <tr>\n",
       "      <th>Residual</th>\n",
       "      <td>74554317946.700</td>\n",
       "      <td>1336.000</td>\n",
       "      <td>NaN</td>\n",
       "      <td>NaN</td>\n",
       "    </tr>\n",
       "  </tbody>\n",
       "</table>\n",
       "</div>"
      ],
      "text/plain": [
       "                   sum_sq       df        F  PR(>F)\n",
       "smoker   121519903621.667    1.000 2177.615   0.000\n",
       "Residual  74554317946.700 1336.000      NaN     NaN"
      ]
     },
     "execution_count": 37,
     "metadata": {},
     "output_type": "execute_result"
    }
   ],
   "source": [
    "aov = ols('charges ~ smoker', data = insurance).fit()\n",
    "aov_table = sm.stats.anova_lm(aov, typ = 2 )\n",
    "aov_table"
   ]
  },
  {
   "cell_type": "code",
   "execution_count": 38,
   "id": "ea28e448",
   "metadata": {},
   "outputs": [
    {
     "data": {
      "text/html": [
       "<div>\n",
       "<style scoped>\n",
       "    .dataframe tbody tr th:only-of-type {\n",
       "        vertical-align: middle;\n",
       "    }\n",
       "\n",
       "    .dataframe tbody tr th {\n",
       "        vertical-align: top;\n",
       "    }\n",
       "\n",
       "    .dataframe thead th {\n",
       "        text-align: right;\n",
       "    }\n",
       "</style>\n",
       "<table border=\"1\" class=\"dataframe\">\n",
       "  <thead>\n",
       "    <tr style=\"text-align: right;\">\n",
       "      <th></th>\n",
       "      <th>coef</th>\n",
       "      <th>std err</th>\n",
       "      <th>t</th>\n",
       "      <th>P&gt;|t|</th>\n",
       "      <th>Conf. Int. Low</th>\n",
       "      <th>Conf. Int. Upp.</th>\n",
       "      <th>pvalue-hs</th>\n",
       "      <th>reject-hs</th>\n",
       "    </tr>\n",
       "  </thead>\n",
       "  <tbody>\n",
       "    <tr>\n",
       "      <th>yes-no</th>\n",
       "      <td>23615.964</td>\n",
       "      <td>506.075</td>\n",
       "      <td>46.665</td>\n",
       "      <td>0.000</td>\n",
       "      <td>22623.175</td>\n",
       "      <td>24608.752</td>\n",
       "      <td>0.000</td>\n",
       "      <td>True</td>\n",
       "    </tr>\n",
       "  </tbody>\n",
       "</table>\n",
       "</div>"
      ],
      "text/plain": [
       "            coef  std err      t  P>|t|  Conf. Int. Low  Conf. Int. Upp.  \\\n",
       "yes-no 23615.964  506.075 46.665  0.000       22623.175        24608.752   \n",
       "\n",
       "        pvalue-hs  reject-hs  \n",
       "yes-no      0.000       True  "
      ]
     },
     "execution_count": 38,
     "metadata": {},
     "output_type": "execute_result"
    }
   ],
   "source": [
    "pair_t = aov.t_test_pairwise('smoker')\n",
    "pair_t.result_frame"
   ]
  },
  {
   "cell_type": "code",
   "execution_count": 39,
   "id": "a70657f3",
   "metadata": {},
   "outputs": [
    {
     "name": "stdout",
     "output_type": "stream",
     "text": [
      "    Multiple Comparison of Means - Tukey HSD, FWER=0.05    \n",
      "===========================================================\n",
      "group1 group2  meandiff  p-adj   lower      upper    reject\n",
      "-----------------------------------------------------------\n",
      "    no    yes 23615.9635 0.001 22623.1748 24608.7523   True\n",
      "-----------------------------------------------------------\n"
     ]
    }
   ],
   "source": [
    "tukey = pairwise_tukeyhsd(endog=insurance['charges'],\n",
    "                          groups=insurance['smoker'],\n",
    "                          alpha=0.05)\n",
    "print(tukey)"
   ]
  },
  {
   "attachments": {},
   "cell_type": "markdown",
   "id": "12586c33",
   "metadata": {},
   "source": [
    "<img src=\"images/tukey_smoker & charges.png\" width=600 />"
   ]
  },
  {
   "attachments": {},
   "cell_type": "markdown",
   "id": "bb6618cb",
   "metadata": {},
   "source": [
    "<img src=\"images/interval plot between smoker and charges.png\" width=600 />"
   ]
  },
  {
   "cell_type": "markdown",
   "id": "28f3af84",
   "metadata": {},
   "source": [
    "It show that there are **strong** significant difference between smoker and non-smoker group since the p-value is 0 (<0.05)"
   ]
  },
  {
   "cell_type": "markdown",
   "id": "5e19af8e",
   "metadata": {},
   "source": [
    "* ANOVA test between Region and Charges"
   ]
  },
  {
   "cell_type": "code",
   "execution_count": 40,
   "id": "59678981",
   "metadata": {},
   "outputs": [
    {
     "data": {
      "text/plain": [
       "<AxesSubplot:title={'center':'charges'}, xlabel='region'>"
      ]
     },
     "execution_count": 40,
     "metadata": {},
     "output_type": "execute_result"
    },
    {
     "data": {
      "image/png": "[encoded data removed]",
      "text/plain": [
       "<Figure size 864x576 with 1 Axes>"
      ]
     },
     "metadata": {
      "needs_background": "light"
     },
     "output_type": "display_data"
    }
   ],
   "source": [
    "insurance.boxplot('charges', by='region', figsize=(12, 8))"
   ]
  },
  {
   "cell_type": "code",
   "execution_count": 41,
   "id": "9e571b54",
   "metadata": {},
   "outputs": [
    {
     "data": {
      "text/html": [
       "<div>\n",
       "<style scoped>\n",
       "    .dataframe tbody tr th:only-of-type {\n",
       "        vertical-align: middle;\n",
       "    }\n",
       "\n",
       "    .dataframe tbody tr th {\n",
       "        vertical-align: top;\n",
       "    }\n",
       "\n",
       "    .dataframe thead th {\n",
       "        text-align: right;\n",
       "    }\n",
       "</style>\n",
       "<table border=\"1\" class=\"dataframe\">\n",
       "  <thead>\n",
       "    <tr style=\"text-align: right;\">\n",
       "      <th></th>\n",
       "      <th>sum_sq</th>\n",
       "      <th>df</th>\n",
       "      <th>F</th>\n",
       "      <th>PR(&gt;F)</th>\n",
       "    </tr>\n",
       "  </thead>\n",
       "  <tbody>\n",
       "    <tr>\n",
       "      <th>region</th>\n",
       "      <td>1300759681.310</td>\n",
       "      <td>3.000</td>\n",
       "      <td>2.970</td>\n",
       "      <td>0.031</td>\n",
       "    </tr>\n",
       "    <tr>\n",
       "      <th>Residual</th>\n",
       "      <td>194773461887.057</td>\n",
       "      <td>1334.000</td>\n",
       "      <td>NaN</td>\n",
       "      <td>NaN</td>\n",
       "    </tr>\n",
       "  </tbody>\n",
       "</table>\n",
       "</div>"
      ],
      "text/plain": [
       "                   sum_sq       df     F  PR(>F)\n",
       "region     1300759681.310    3.000 2.970   0.031\n",
       "Residual 194773461887.057 1334.000   NaN     NaN"
      ]
     },
     "execution_count": 41,
     "metadata": {},
     "output_type": "execute_result"
    }
   ],
   "source": [
    "aov = ols('charges ~ region', data = insurance).fit()\n",
    "aov_table = sm.stats.anova_lm(aov, typ = 2 )\n",
    "aov_table"
   ]
  },
  {
   "cell_type": "code",
   "execution_count": 42,
   "id": "ab5f4588",
   "metadata": {},
   "outputs": [
    {
     "data": {
      "text/html": [
       "<div>\n",
       "<style scoped>\n",
       "    .dataframe tbody tr th:only-of-type {\n",
       "        vertical-align: middle;\n",
       "    }\n",
       "\n",
       "    .dataframe tbody tr th {\n",
       "        vertical-align: top;\n",
       "    }\n",
       "\n",
       "    .dataframe thead th {\n",
       "        text-align: right;\n",
       "    }\n",
       "</style>\n",
       "<table border=\"1\" class=\"dataframe\">\n",
       "  <thead>\n",
       "    <tr style=\"text-align: right;\">\n",
       "      <th></th>\n",
       "      <th>coef</th>\n",
       "      <th>std err</th>\n",
       "      <th>t</th>\n",
       "      <th>P&gt;|t|</th>\n",
       "      <th>Conf. Int. Low</th>\n",
       "      <th>Conf. Int. Upp.</th>\n",
       "      <th>pvalue-hs</th>\n",
       "      <th>reject-hs</th>\n",
       "    </tr>\n",
       "  </thead>\n",
       "  <tbody>\n",
       "    <tr>\n",
       "      <th>northwest-northeast</th>\n",
       "      <td>-988.809</td>\n",
       "      <td>948.626</td>\n",
       "      <td>-1.042</td>\n",
       "      <td>0.297</td>\n",
       "      <td>-2849.771</td>\n",
       "      <td>872.153</td>\n",
       "      <td>0.602</td>\n",
       "      <td>False</td>\n",
       "    </tr>\n",
       "    <tr>\n",
       "      <th>southeast-northeast</th>\n",
       "      <td>1329.027</td>\n",
       "      <td>922.907</td>\n",
       "      <td>1.440</td>\n",
       "      <td>0.150</td>\n",
       "      <td>-481.480</td>\n",
       "      <td>3139.534</td>\n",
       "      <td>0.478</td>\n",
       "      <td>False</td>\n",
       "    </tr>\n",
       "    <tr>\n",
       "      <th>southwest-northeast</th>\n",
       "      <td>-1059.447</td>\n",
       "      <td>948.626</td>\n",
       "      <td>-1.117</td>\n",
       "      <td>0.264</td>\n",
       "      <td>-2920.409</td>\n",
       "      <td>801.515</td>\n",
       "      <td>0.602</td>\n",
       "      <td>False</td>\n",
       "    </tr>\n",
       "    <tr>\n",
       "      <th>southeast-northwest</th>\n",
       "      <td>2317.836</td>\n",
       "      <td>922.156</td>\n",
       "      <td>2.513</td>\n",
       "      <td>0.012</td>\n",
       "      <td>508.803</td>\n",
       "      <td>4126.869</td>\n",
       "      <td>0.059</td>\n",
       "      <td>False</td>\n",
       "    </tr>\n",
       "    <tr>\n",
       "      <th>southwest-northwest</th>\n",
       "      <td>-70.638</td>\n",
       "      <td>947.895</td>\n",
       "      <td>-0.075</td>\n",
       "      <td>0.941</td>\n",
       "      <td>-1930.165</td>\n",
       "      <td>1788.889</td>\n",
       "      <td>0.941</td>\n",
       "      <td>False</td>\n",
       "    </tr>\n",
       "    <tr>\n",
       "      <th>southwest-southeast</th>\n",
       "      <td>-2388.474</td>\n",
       "      <td>922.156</td>\n",
       "      <td>-2.590</td>\n",
       "      <td>0.010</td>\n",
       "      <td>-4197.507</td>\n",
       "      <td>-579.441</td>\n",
       "      <td>0.057</td>\n",
       "      <td>False</td>\n",
       "    </tr>\n",
       "  </tbody>\n",
       "</table>\n",
       "</div>"
      ],
      "text/plain": [
       "                         coef  std err      t  P>|t|  Conf. Int. Low  \\\n",
       "northwest-northeast  -988.809  948.626 -1.042  0.297       -2849.771   \n",
       "southeast-northeast  1329.027  922.907  1.440  0.150        -481.480   \n",
       "southwest-northeast -1059.447  948.626 -1.117  0.264       -2920.409   \n",
       "southeast-northwest  2317.836  922.156  2.513  0.012         508.803   \n",
       "southwest-northwest   -70.638  947.895 -0.075  0.941       -1930.165   \n",
       "southwest-southeast -2388.474  922.156 -2.590  0.010       -4197.507   \n",
       "\n",
       "                     Conf. Int. Upp.  pvalue-hs  reject-hs  \n",
       "northwest-northeast          872.153      0.602      False  \n",
       "southeast-northeast         3139.534      0.478      False  \n",
       "southwest-northeast          801.515      0.602      False  \n",
       "southeast-northwest         4126.869      0.059      False  \n",
       "southwest-northwest         1788.889      0.941      False  \n",
       "southwest-southeast         -579.441      0.057      False  "
      ]
     },
     "execution_count": 42,
     "metadata": {},
     "output_type": "execute_result"
    }
   ],
   "source": [
    "pair_t = aov.t_test_pairwise('region')\n",
    "pair_t.result_frame"
   ]
  },
  {
   "cell_type": "code",
   "execution_count": 43,
   "id": "675a0cbd",
   "metadata": {},
   "outputs": [
    {
     "name": "stdout",
     "output_type": "stream",
     "text": [
      "       Multiple Comparison of Means - Tukey HSD, FWER=0.05       \n",
      "=================================================================\n",
      "  group1    group2   meandiff  p-adj    lower      upper   reject\n",
      "-----------------------------------------------------------------\n",
      "northeast northwest  -988.8091 0.7002 -3428.9473  1451.329  False\n",
      "northeast southeast  1329.0269 0.4754 -1044.9543 3703.0081  False\n",
      "northeast southwest -1059.4471 0.6584 -3499.5853  1380.691  False\n",
      "northwest southeast  2317.8361 0.0583    -54.212 4689.8842  False\n",
      "northwest southwest    -70.638    0.9 -2508.8955 2367.6195  False\n",
      "southeast southwest -2388.4741 0.0477 -4760.5221   -16.426   True\n",
      "-----------------------------------------------------------------\n"
     ]
    }
   ],
   "source": [
    "tukey = pairwise_tukeyhsd(endog=insurance['charges'],\n",
    "                          groups=insurance['region'],\n",
    "                          alpha=0.05)\n",
    "print(tukey)"
   ]
  },
  {
   "attachments": {},
   "cell_type": "markdown",
   "id": "c16bdb04",
   "metadata": {},
   "source": [
    "<img src=\"images/tukey_region & charges.png\" width=600 />"
   ]
  },
  {
   "attachments": {},
   "cell_type": "markdown",
   "id": "c61081a5",
   "metadata": {},
   "source": [
    "<img src=\"images/interval plot between region and charges.png\" width=600 />"
   ]
  },
  {
   "cell_type": "markdown",
   "id": "99c2c97a",
   "metadata": {},
   "source": [
    "It show that there are **marginaly** significant difference between the place of residence since the p-value is 0.031 (<0.05)\n",
    "It seems that the beneficiary residing at southeast and the one living at southwest has significant difference. "
   ]
  }
 ],
 "metadata": {
  "kernelspec": {
   "display_name": "Python 3",
   "language": "python",
   "name": "python3"
  },
  "language_info": {
   "codemirror_mode": {
    "name": "ipython",
    "version": 3
   },
   "file_extension": ".py",
   "mimetype": "text/x-python",
   "name": "python",
   "nbconvert_exporter": "python",
   "pygments_lexer": "ipython3",
   "version": "3.8.5"
  }
 },
 "nbformat": 4,
 "nbformat_minor": 5
}
