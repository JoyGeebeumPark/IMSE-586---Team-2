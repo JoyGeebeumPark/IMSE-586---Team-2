{
 "cells": [
  {
   "cell_type": "markdown",
   "id": "0b278dc1",
   "metadata": {},
   "source": [
    "## Model Training"
   ]
  },
  {
   "cell_type": "code",
   "execution_count": 1,
   "id": "a757c82a",
   "metadata": {},
   "outputs": [
    {
     "name": "stderr",
     "output_type": "stream",
     "text": [
      "C:\\Users\\Joy\\anaconda3\\lib\\site-packages\\pandas\\core\\computation\\expressions.py:20: UserWarning: Pandas requires version '2.7.3' or newer of 'numexpr' (version '2.7.1' currently installed).\n",
      "  from pandas.core.computation.check import NUMEXPR_INSTALLED\n"
     ]
    }
   ],
   "source": [
    "import numpy as np\n",
    "import pandas as pd\n",
    "import matplotlib.pyplot as plt\n",
    "import seaborn as sns\n",
    "import statsmodels.formula.api as smf"
   ]
  },
  {
   "cell_type": "code",
   "execution_count": 71,
   "id": "4a4e4353",
   "metadata": {},
   "outputs": [],
   "source": [
    "insurance = pd.read_csv('./expenses.csv')"
   ]
  },
  {
   "cell_type": "code",
   "execution_count": 72,
   "id": "24b30ae6",
   "metadata": {},
   "outputs": [
    {
     "data": {
      "text/html": [
       "<div>\n",
       "<style scoped>\n",
       "    .dataframe tbody tr th:only-of-type {\n",
       "        vertical-align: middle;\n",
       "    }\n",
       "\n",
       "    .dataframe tbody tr th {\n",
       "        vertical-align: top;\n",
       "    }\n",
       "\n",
       "    .dataframe thead th {\n",
       "        text-align: right;\n",
       "    }\n",
       "</style>\n",
       "<table border=\"1\" class=\"dataframe\">\n",
       "  <thead>\n",
       "    <tr style=\"text-align: right;\">\n",
       "      <th></th>\n",
       "      <th>age</th>\n",
       "      <th>sex</th>\n",
       "      <th>bmi</th>\n",
       "      <th>children</th>\n",
       "      <th>smoker</th>\n",
       "      <th>region</th>\n",
       "      <th>charges</th>\n",
       "    </tr>\n",
       "  </thead>\n",
       "  <tbody>\n",
       "    <tr>\n",
       "      <th>0</th>\n",
       "      <td>19</td>\n",
       "      <td>female</td>\n",
       "      <td>27.900</td>\n",
       "      <td>0</td>\n",
       "      <td>yes</td>\n",
       "      <td>southwest</td>\n",
       "      <td>16884.92400</td>\n",
       "    </tr>\n",
       "    <tr>\n",
       "      <th>1</th>\n",
       "      <td>18</td>\n",
       "      <td>male</td>\n",
       "      <td>33.770</td>\n",
       "      <td>1</td>\n",
       "      <td>no</td>\n",
       "      <td>southeast</td>\n",
       "      <td>1725.55230</td>\n",
       "    </tr>\n",
       "    <tr>\n",
       "      <th>2</th>\n",
       "      <td>28</td>\n",
       "      <td>male</td>\n",
       "      <td>33.000</td>\n",
       "      <td>3</td>\n",
       "      <td>no</td>\n",
       "      <td>southeast</td>\n",
       "      <td>4449.46200</td>\n",
       "    </tr>\n",
       "    <tr>\n",
       "      <th>3</th>\n",
       "      <td>33</td>\n",
       "      <td>male</td>\n",
       "      <td>22.705</td>\n",
       "      <td>0</td>\n",
       "      <td>no</td>\n",
       "      <td>northwest</td>\n",
       "      <td>21984.47061</td>\n",
       "    </tr>\n",
       "    <tr>\n",
       "      <th>4</th>\n",
       "      <td>32</td>\n",
       "      <td>male</td>\n",
       "      <td>28.880</td>\n",
       "      <td>0</td>\n",
       "      <td>no</td>\n",
       "      <td>northwest</td>\n",
       "      <td>3866.85520</td>\n",
       "    </tr>\n",
       "  </tbody>\n",
       "</table>\n",
       "</div>"
      ],
      "text/plain": [
       "   age     sex     bmi  children smoker     region      charges\n",
       "0   19  female  27.900         0    yes  southwest  16884.92400\n",
       "1   18    male  33.770         1     no  southeast   1725.55230\n",
       "2   28    male  33.000         3     no  southeast   4449.46200\n",
       "3   33    male  22.705         0     no  northwest  21984.47061\n",
       "4   32    male  28.880         0     no  northwest   3866.85520"
      ]
     },
     "execution_count": 72,
     "metadata": {},
     "output_type": "execute_result"
    }
   ],
   "source": [
    "insurance.head()"
   ]
  },
  {
   "cell_type": "code",
   "execution_count": 73,
   "id": "3859b4a7",
   "metadata": {},
   "outputs": [],
   "source": [
    "features = ['age', 'sex', 'bmi', 'children', 'smoker', 'region']\n",
    "\n",
    "X = insurance[features]"
   ]
  },
  {
   "cell_type": "code",
   "execution_count": 74,
   "id": "64989dca",
   "metadata": {},
   "outputs": [
    {
     "data": {
      "text/plain": [
       "0       16884.92400\n",
       "1        1725.55230\n",
       "2        4449.46200\n",
       "3       21984.47061\n",
       "4        3866.85520\n",
       "           ...     \n",
       "1333    10600.54830\n",
       "1334     2205.98080\n",
       "1335     1629.83350\n",
       "1336     2007.94500\n",
       "1337    29141.36030\n",
       "Name: charges, Length: 1338, dtype: float64"
      ]
     },
     "execution_count": 74,
     "metadata": {},
     "output_type": "execute_result"
    }
   ],
   "source": [
    "y = insurance['charges']\n",
    "\n",
    "y"
   ]
  },
  {
   "cell_type": "code",
   "execution_count": 75,
   "id": "dc412304",
   "metadata": {},
   "outputs": [
    {
     "data": {
      "text/plain": [
       "4500314.176879"
      ]
     },
     "execution_count": 75,
     "metadata": {},
     "output_type": "execute_result"
    }
   ],
   "source": [
    "#split data 75/25, random state = 0 \n",
    "from sklearn.model_selection import train_test_split\n",
    "\n",
    "X_train, X_test, y_train, y_test = train_test_split(X, y, \n",
    "                                                    test_size=.25,\n",
    "                                                    random_state = 0\n",
    "                                                   )\n",
    "np.sum(y_test)"
   ]
  },
  {
   "cell_type": "code",
   "execution_count": null,
   "id": "034b74be",
   "metadata": {},
   "outputs": [],
   "source": []
  },
  {
   "cell_type": "code",
   "execution_count": 76,
   "id": "465f1186",
   "metadata": {},
   "outputs": [],
   "source": [
    "from sklearn.pipeline import make_pipeline\n",
    "from sklearn.compose import make_column_transformer \n",
    "from sklearn.impute import SimpleImputer\n",
    "from sklearn.preprocessing import OneHotEncoder\n",
    "from sklearn.preprocessing import StandardScaler"
   ]
  },
  {
   "cell_type": "code",
   "execution_count": 77,
   "id": "581db3df",
   "metadata": {},
   "outputs": [],
   "source": [
    "#Machine learning pipeline\n",
    "\n",
    "#Age, BMI, Childern - std \n",
    "#sex, smoker region - onehot encoding & dummy variable"
   ]
  },
  {
   "cell_type": "code",
   "execution_count": 78,
   "id": "c9e8c9e9",
   "metadata": {},
   "outputs": [],
   "source": [
    "#sex, smoker region\n",
    "imp_ohe = make_pipeline(SimpleImputer(strategy='most_frequent'), \n",
    "                       OneHotEncoder(sparse=False))\n",
    "#Age, BMI, Childern\n",
    "imp_std = make_pipeline(SimpleImputer(), \n",
    "                       StandardScaler())"
   ]
  },
  {
   "cell_type": "code",
   "execution_count": 79,
   "id": "99ab8f07",
   "metadata": {},
   "outputs": [],
   "source": [
    "preprocessor = make_column_transformer((imp_ohe, ['sex', 'smoker', 'region']), \n",
    "                       (imp_std, ['age', 'bmi', 'children']), \n",
    "                       remainder = 'passthrough')"
   ]
  },
  {
   "cell_type": "code",
   "execution_count": 80,
   "id": "86a16621",
   "metadata": {},
   "outputs": [
    {
     "data": {
      "text/plain": [
       "array([[ 1.   ,  0.   ,  1.   ,  0.   ,  0.   ,  0.   ,  1.   ,  0.   ,\n",
       "        -0.515, -0.181, -0.064],\n",
       "       [ 1.   ,  0.   ,  1.   ,  0.   ,  1.   ,  0.   ,  0.   ,  0.   ,\n",
       "         1.549, -1.393, -0.892],\n",
       "       [ 0.   ,  1.   ,  1.   ,  0.   ,  0.   ,  0.   ,  0.   ,  1.   ,\n",
       "        -1.44 , -0.982, -0.064],\n",
       "       [ 1.   ,  0.   ,  0.   ,  1.   ,  0.   ,  0.   ,  1.   ,  0.   ,\n",
       "        -1.369, -1.011, -0.892],\n",
       "       [ 1.   ,  0.   ,  1.   ,  0.   ,  0.   ,  1.   ,  0.   ,  0.   ,\n",
       "        -0.942, -1.363, -0.892],\n",
       "       [ 0.   ,  1.   ,  0.   ,  1.   ,  0.   ,  0.   ,  0.   ,  1.   ,\n",
       "         1.051, -0.902,  1.593],\n",
       "       ...,\n",
       "       [ 0.   ,  1.   ,  0.   ,  1.   ,  1.   ,  0.   ,  0.   ,  0.   ,\n",
       "        -1.511, -1.469, -0.892],\n",
       "       [ 0.   ,  1.   ,  1.   ,  0.   ,  1.   ,  0.   ,  0.   ,  0.   ,\n",
       "        -0.871, -0.753, -0.892],\n",
       "       [ 0.   ,  1.   ,  1.   ,  0.   ,  0.   ,  0.   ,  1.   ,  0.   ,\n",
       "         0.197,  0.843,  0.765],\n",
       "       [ 0.   ,  1.   ,  1.   ,  0.   ,  0.   ,  0.   ,  1.   ,  0.   ,\n",
       "         0.054, -0.905, -0.892],\n",
       "       [ 0.   ,  1.   ,  1.   ,  0.   ,  0.   ,  1.   ,  0.   ,  0.   ,\n",
       "        -1.44 ,  0.772, -0.892],\n",
       "       [ 1.   ,  0.   ,  1.   ,  0.   ,  0.   ,  0.   ,  0.   ,  1.   ,\n",
       "        -0.444, -1.961, -0.064]])"
      ]
     },
     "execution_count": 80,
     "metadata": {},
     "output_type": "execute_result"
    }
   ],
   "source": [
    "np.set_printoptions(edgeitems = 6, suppress = True) \n",
    "# onehot encoding ('sex', 'smoker', 'region') /standardization (age', 'bmi', 'children') \n",
    "\n",
    "preprocessor.fit_transform(X_train).round(3)"
   ]
  },
  {
   "cell_type": "code",
   "execution_count": 81,
   "id": "c2ce4c6b",
   "metadata": {},
   "outputs": [
    {
     "data": {
      "text/plain": [
       "array([[ 1.   ,  0.   ,  1.   ,  0.   ,  0.   ,  0.   ,  1.   ,  0.   ,\n",
       "        -0.515, -0.181, -0.064],\n",
       "       [ 1.   ,  0.   ,  1.   ,  0.   ,  1.   ,  0.   ,  0.   ,  0.   ,\n",
       "         1.549, -1.393, -0.892],\n",
       "       [ 0.   ,  1.   ,  1.   ,  0.   ,  0.   ,  0.   ,  0.   ,  1.   ,\n",
       "        -1.44 , -0.982, -0.064],\n",
       "       [ 1.   ,  0.   ,  0.   ,  1.   ,  0.   ,  0.   ,  1.   ,  0.   ,\n",
       "        -1.369, -1.011, -0.892],\n",
       "       [ 1.   ,  0.   ,  1.   ,  0.   ,  0.   ,  1.   ,  0.   ,  0.   ,\n",
       "        -0.942, -1.363, -0.892],\n",
       "       [ 0.   ,  1.   ,  0.   ,  1.   ,  0.   ,  0.   ,  0.   ,  1.   ,\n",
       "         1.051, -0.902,  1.593],\n",
       "       ...,\n",
       "       [ 0.   ,  1.   ,  0.   ,  1.   ,  1.   ,  0.   ,  0.   ,  0.   ,\n",
       "        -1.511, -1.469, -0.892],\n",
       "       [ 0.   ,  1.   ,  1.   ,  0.   ,  1.   ,  0.   ,  0.   ,  0.   ,\n",
       "        -0.871, -0.753, -0.892],\n",
       "       [ 0.   ,  1.   ,  1.   ,  0.   ,  0.   ,  0.   ,  1.   ,  0.   ,\n",
       "         0.197,  0.843,  0.765],\n",
       "       [ 0.   ,  1.   ,  1.   ,  0.   ,  0.   ,  0.   ,  1.   ,  0.   ,\n",
       "         0.054, -0.905, -0.892],\n",
       "       [ 0.   ,  1.   ,  1.   ,  0.   ,  0.   ,  1.   ,  0.   ,  0.   ,\n",
       "        -1.44 ,  0.772, -0.892],\n",
       "       [ 1.   ,  0.   ,  1.   ,  0.   ,  0.   ,  0.   ,  0.   ,  1.   ,\n",
       "        -0.444, -1.961, -0.064]])"
      ]
     },
     "execution_count": 81,
     "metadata": {},
     "output_type": "execute_result"
    }
   ],
   "source": [
    "preprocessor.fit_transform(X_train).round(3)"
   ]
  },
  {
   "cell_type": "code",
   "execution_count": null,
   "id": "027003d5",
   "metadata": {},
   "outputs": [],
   "source": []
  },
  {
   "cell_type": "code",
   "execution_count": 82,
   "id": "84fe4b1e",
   "metadata": {},
   "outputs": [],
   "source": [
    "from sklearn.linear_model import ElasticNet\n",
    "Elsnet = ElasticNet(alpha = 0.1, random_state = 0)"
   ]
  },
  {
   "cell_type": "code",
   "execution_count": 83,
   "id": "16e558d9",
   "metadata": {},
   "outputs": [
    {
     "name": "stderr",
     "output_type": "stream",
     "text": [
      "C:\\Users\\Joy\\anaconda3\\lib\\site-packages\\sklearn\\compose\\_column_transformer.py:611: FutureWarning: Support for multi-dimensional indexing (e.g. `obj[:, None]`) is deprecated and will be removed in a future version.  Convert to a numpy array before indexing instead.\n",
      "  self._df_columns[remainder_columns].tolist()\n"
     ]
    },
    {
     "data": {
      "text/html": [
       "<style>div.sk-top-container {color: black;background-color: white;}div.sk-toggleable {background-color: white;}label.sk-toggleable__label {cursor: pointer;display: block;width: 100%;margin-bottom: 0;padding: 0.2em 0.3em;box-sizing: border-box;text-align: center;}div.sk-toggleable__content {max-height: 0;max-width: 0;overflow: hidden;text-align: left;background-color: #f0f8ff;}div.sk-toggleable__content pre {margin: 0.2em;color: black;border-radius: 0.25em;background-color: #f0f8ff;}input.sk-toggleable__control:checked~div.sk-toggleable__content {max-height: 200px;max-width: 100%;overflow: auto;}div.sk-estimator input.sk-toggleable__control:checked~label.sk-toggleable__label {background-color: #d4ebff;}div.sk-label input.sk-toggleable__control:checked~label.sk-toggleable__label {background-color: #d4ebff;}input.sk-hidden--visually {border: 0;clip: rect(1px 1px 1px 1px);clip: rect(1px, 1px, 1px, 1px);height: 1px;margin: -1px;overflow: hidden;padding: 0;position: absolute;width: 1px;}div.sk-estimator {font-family: monospace;background-color: #f0f8ff;margin: 0.25em 0.25em;border: 1px dotted black;border-radius: 0.25em;box-sizing: border-box;}div.sk-estimator:hover {background-color: #d4ebff;}div.sk-parallel-item::after {content: \"\";width: 100%;border-bottom: 1px solid gray;flex-grow: 1;}div.sk-label:hover label.sk-toggleable__label {background-color: #d4ebff;}div.sk-serial::before {content: \"\";position: absolute;border-left: 1px solid gray;box-sizing: border-box;top: 2em;bottom: 0;left: 50%;}div.sk-serial {display: flex;flex-direction: column;align-items: center;background-color: white;}div.sk-item {z-index: 1;}div.sk-parallel {display: flex;align-items: stretch;justify-content: center;background-color: white;}div.sk-parallel-item {display: flex;flex-direction: column;position: relative;background-color: white;}div.sk-parallel-item:first-child::after {align-self: flex-end;width: 50%;}div.sk-parallel-item:last-child::after {align-self: flex-start;width: 50%;}div.sk-parallel-item:only-child::after {width: 0;}div.sk-dashed-wrapped {border: 1px dashed gray;margin: 0.2em;box-sizing: border-box;padding-bottom: 0.1em;background-color: white;position: relative;}div.sk-label label {font-family: monospace;font-weight: bold;background-color: white;display: inline-block;line-height: 1.2em;}div.sk-label-container {position: relative;z-index: 2;text-align: center;}div.sk-container {display: inline-block;position: relative;}</style><div class=\"sk-top-container\"><div class=\"sk-container\"><div class=\"sk-item sk-dashed-wrapped\"><div class=\"sk-label-container\"><div class=\"sk-label sk-toggleable\"><input class=\"sk-toggleable__control sk-hidden--visually\" id=\"45b7fab8-e2b4-48a8-b391-4180532a78bd\" type=\"checkbox\" ><label class=\"sk-toggleable__label\" for=\"45b7fab8-e2b4-48a8-b391-4180532a78bd\">Pipeline</label><div class=\"sk-toggleable__content\"><pre>Pipeline(steps=[('columntransformer',\n",
       "                 ColumnTransformer(remainder='passthrough',\n",
       "                                   transformers=[('pipeline-1',\n",
       "                                                  Pipeline(steps=[('simpleimputer',\n",
       "                                                                   SimpleImputer(strategy='most_frequent')),\n",
       "                                                                  ('onehotencoder',\n",
       "                                                                   OneHotEncoder(sparse=False))]),\n",
       "                                                  ['sex', 'smoker', 'region']),\n",
       "                                                 ('pipeline-2',\n",
       "                                                  Pipeline(steps=[('simpleimputer',\n",
       "                                                                   SimpleImputer()),\n",
       "                                                                  ('standardscaler',\n",
       "                                                                   StandardScaler())]),\n",
       "                                                  ['age', 'bmi',\n",
       "                                                   'children'])])),\n",
       "                ('elasticnet', ElasticNet(alpha=0.1, random_state=0))])</pre></div></div></div><div class=\"sk-serial\"><div class=\"sk-item sk-dashed-wrapped\"><div class=\"sk-label-container\"><div class=\"sk-label sk-toggleable\"><input class=\"sk-toggleable__control sk-hidden--visually\" id=\"9ec800fc-3380-4ee6-9553-f8b1ba435950\" type=\"checkbox\" ><label class=\"sk-toggleable__label\" for=\"9ec800fc-3380-4ee6-9553-f8b1ba435950\">columntransformer: ColumnTransformer</label><div class=\"sk-toggleable__content\"><pre>ColumnTransformer(remainder='passthrough',\n",
       "                  transformers=[('pipeline-1',\n",
       "                                 Pipeline(steps=[('simpleimputer',\n",
       "                                                  SimpleImputer(strategy='most_frequent')),\n",
       "                                                 ('onehotencoder',\n",
       "                                                  OneHotEncoder(sparse=False))]),\n",
       "                                 ['sex', 'smoker', 'region']),\n",
       "                                ('pipeline-2',\n",
       "                                 Pipeline(steps=[('simpleimputer',\n",
       "                                                  SimpleImputer()),\n",
       "                                                 ('standardscaler',\n",
       "                                                  StandardScaler())]),\n",
       "                                 ['age', 'bmi', 'children'])])</pre></div></div></div><div class=\"sk-parallel\"><div class=\"sk-parallel-item\"><div class=\"sk-item\"><div class=\"sk-label-container\"><div class=\"sk-label sk-toggleable\"><input class=\"sk-toggleable__control sk-hidden--visually\" id=\"736f2a4d-8ad9-48a9-b7f5-61c211de139b\" type=\"checkbox\" ><label class=\"sk-toggleable__label\" for=\"736f2a4d-8ad9-48a9-b7f5-61c211de139b\">pipeline-1</label><div class=\"sk-toggleable__content\"><pre>['sex', 'smoker', 'region']</pre></div></div></div><div class=\"sk-serial\"><div class=\"sk-item\"><div class=\"sk-serial\"><div class=\"sk-item\"><div class=\"sk-estimator sk-toggleable\"><input class=\"sk-toggleable__control sk-hidden--visually\" id=\"796d10f8-b343-494c-bcb8-795602b23267\" type=\"checkbox\" ><label class=\"sk-toggleable__label\" for=\"796d10f8-b343-494c-bcb8-795602b23267\">SimpleImputer</label><div class=\"sk-toggleable__content\"><pre>SimpleImputer(strategy='most_frequent')</pre></div></div></div><div class=\"sk-item\"><div class=\"sk-estimator sk-toggleable\"><input class=\"sk-toggleable__control sk-hidden--visually\" id=\"728780ba-398f-4ae0-a6cd-7ed0c447a0ff\" type=\"checkbox\" ><label class=\"sk-toggleable__label\" for=\"728780ba-398f-4ae0-a6cd-7ed0c447a0ff\">OneHotEncoder</label><div class=\"sk-toggleable__content\"><pre>OneHotEncoder(sparse=False)</pre></div></div></div></div></div></div></div></div><div class=\"sk-parallel-item\"><div class=\"sk-item\"><div class=\"sk-label-container\"><div class=\"sk-label sk-toggleable\"><input class=\"sk-toggleable__control sk-hidden--visually\" id=\"7ca08569-6b77-457a-88c3-361282b1b331\" type=\"checkbox\" ><label class=\"sk-toggleable__label\" for=\"7ca08569-6b77-457a-88c3-361282b1b331\">pipeline-2</label><div class=\"sk-toggleable__content\"><pre>['age', 'bmi', 'children']</pre></div></div></div><div class=\"sk-serial\"><div class=\"sk-item\"><div class=\"sk-serial\"><div class=\"sk-item\"><div class=\"sk-estimator sk-toggleable\"><input class=\"sk-toggleable__control sk-hidden--visually\" id=\"86db6e2a-3155-4749-8d32-6f30369bad0e\" type=\"checkbox\" ><label class=\"sk-toggleable__label\" for=\"86db6e2a-3155-4749-8d32-6f30369bad0e\">SimpleImputer</label><div class=\"sk-toggleable__content\"><pre>SimpleImputer()</pre></div></div></div><div class=\"sk-item\"><div class=\"sk-estimator sk-toggleable\"><input class=\"sk-toggleable__control sk-hidden--visually\" id=\"3563ed89-6ef7-49ae-855b-ddcd77e3f0f9\" type=\"checkbox\" ><label class=\"sk-toggleable__label\" for=\"3563ed89-6ef7-49ae-855b-ddcd77e3f0f9\">StandardScaler</label><div class=\"sk-toggleable__content\"><pre>StandardScaler()</pre></div></div></div></div></div></div></div></div><div class=\"sk-parallel-item\"><div class=\"sk-item\"><div class=\"sk-label-container\"><div class=\"sk-label sk-toggleable\"><input class=\"sk-toggleable__control sk-hidden--visually\" id=\"adbc903b-8410-4b50-bdac-5ebaed5d5dae\" type=\"checkbox\" ><label class=\"sk-toggleable__label\" for=\"adbc903b-8410-4b50-bdac-5ebaed5d5dae\">remainder</label><div class=\"sk-toggleable__content\"><pre>[['age', 'sex', 'bmi', 'children', 'smoker', 'region']]</pre></div></div></div><div class=\"sk-serial\"><div class=\"sk-item\"><div class=\"sk-estimator sk-toggleable\"><input class=\"sk-toggleable__control sk-hidden--visually\" id=\"9cceabe0-3bb3-4325-a7f8-708ee943539a\" type=\"checkbox\" ><label class=\"sk-toggleable__label\" for=\"9cceabe0-3bb3-4325-a7f8-708ee943539a\">passthrough</label><div class=\"sk-toggleable__content\"><pre>passthrough</pre></div></div></div></div></div></div></div></div><div class=\"sk-item\"><div class=\"sk-estimator sk-toggleable\"><input class=\"sk-toggleable__control sk-hidden--visually\" id=\"8423430e-1984-4a3a-87a4-8c92ef9ec8f4\" type=\"checkbox\" ><label class=\"sk-toggleable__label\" for=\"8423430e-1984-4a3a-87a4-8c92ef9ec8f4\">ElasticNet</label><div class=\"sk-toggleable__content\"><pre>ElasticNet(alpha=0.1, random_state=0)</pre></div></div></div></div></div></div></div>"
      ],
      "text/plain": [
       "Pipeline(steps=[('columntransformer',\n",
       "                 ColumnTransformer(remainder='passthrough',\n",
       "                                   transformers=[('pipeline-1',\n",
       "                                                  Pipeline(steps=[('simpleimputer',\n",
       "                                                                   SimpleImputer(strategy='most_frequent')),\n",
       "                                                                  ('onehotencoder',\n",
       "                                                                   OneHotEncoder(sparse=False))]),\n",
       "                                                  ['sex', 'smoker', 'region']),\n",
       "                                                 ('pipeline-2',\n",
       "                                                  Pipeline(steps=[('simpleimputer',\n",
       "                                                                   SimpleImputer()),\n",
       "                                                                  ('standardscaler',\n",
       "                                                                   StandardScaler())]),\n",
       "                                                  ['age', 'bmi',\n",
       "                                                   'children'])])),\n",
       "                ('elasticnet', ElasticNet(alpha=0.1, random_state=0))])"
      ]
     },
     "execution_count": 83,
     "metadata": {},
     "output_type": "execute_result"
    }
   ],
   "source": [
    "pipe = make_pipeline(preprocessor, Elsnet) \n",
    "pipe.fit(X_train, y_train)"
   ]
  },
  {
   "cell_type": "code",
   "execution_count": 85,
   "id": "0f24a69a",
   "metadata": {},
   "outputs": [],
   "source": [
    "y_pred = pipe.predict(X_test)"
   ]
  },
  {
   "cell_type": "code",
   "execution_count": 86,
   "id": "93892932",
   "metadata": {},
   "outputs": [
    {
     "name": "stderr",
     "output_type": "stream",
     "text": [
      "C:\\Users\\Joy\\anaconda3\\lib\\site-packages\\sklearn\\compose\\_column_transformer.py:611: FutureWarning: Support for multi-dimensional indexing (e.g. `obj[:, None]`) is deprecated and will be removed in a future version.  Convert to a numpy array before indexing instead.\n",
      "  self._df_columns[remainder_columns].tolist()\n"
     ]
    },
    {
     "data": {
      "text/html": [
       "<style>div.sk-top-container {color: black;background-color: white;}div.sk-toggleable {background-color: white;}label.sk-toggleable__label {cursor: pointer;display: block;width: 100%;margin-bottom: 0;padding: 0.2em 0.3em;box-sizing: border-box;text-align: center;}div.sk-toggleable__content {max-height: 0;max-width: 0;overflow: hidden;text-align: left;background-color: #f0f8ff;}div.sk-toggleable__content pre {margin: 0.2em;color: black;border-radius: 0.25em;background-color: #f0f8ff;}input.sk-toggleable__control:checked~div.sk-toggleable__content {max-height: 200px;max-width: 100%;overflow: auto;}div.sk-estimator input.sk-toggleable__control:checked~label.sk-toggleable__label {background-color: #d4ebff;}div.sk-label input.sk-toggleable__control:checked~label.sk-toggleable__label {background-color: #d4ebff;}input.sk-hidden--visually {border: 0;clip: rect(1px 1px 1px 1px);clip: rect(1px, 1px, 1px, 1px);height: 1px;margin: -1px;overflow: hidden;padding: 0;position: absolute;width: 1px;}div.sk-estimator {font-family: monospace;background-color: #f0f8ff;margin: 0.25em 0.25em;border: 1px dotted black;border-radius: 0.25em;box-sizing: border-box;}div.sk-estimator:hover {background-color: #d4ebff;}div.sk-parallel-item::after {content: \"\";width: 100%;border-bottom: 1px solid gray;flex-grow: 1;}div.sk-label:hover label.sk-toggleable__label {background-color: #d4ebff;}div.sk-serial::before {content: \"\";position: absolute;border-left: 1px solid gray;box-sizing: border-box;top: 2em;bottom: 0;left: 50%;}div.sk-serial {display: flex;flex-direction: column;align-items: center;background-color: white;}div.sk-item {z-index: 1;}div.sk-parallel {display: flex;align-items: stretch;justify-content: center;background-color: white;}div.sk-parallel-item {display: flex;flex-direction: column;position: relative;background-color: white;}div.sk-parallel-item:first-child::after {align-self: flex-end;width: 50%;}div.sk-parallel-item:last-child::after {align-self: flex-start;width: 50%;}div.sk-parallel-item:only-child::after {width: 0;}div.sk-dashed-wrapped {border: 1px dashed gray;margin: 0.2em;box-sizing: border-box;padding-bottom: 0.1em;background-color: white;position: relative;}div.sk-label label {font-family: monospace;font-weight: bold;background-color: white;display: inline-block;line-height: 1.2em;}div.sk-label-container {position: relative;z-index: 2;text-align: center;}div.sk-container {display: inline-block;position: relative;}</style><div class=\"sk-top-container\"><div class=\"sk-container\"><div class=\"sk-item sk-dashed-wrapped\"><div class=\"sk-label-container\"><div class=\"sk-label sk-toggleable\"><input class=\"sk-toggleable__control sk-hidden--visually\" id=\"a0af61aa-8099-4ed4-bd52-738eaec22104\" type=\"checkbox\" ><label class=\"sk-toggleable__label\" for=\"a0af61aa-8099-4ed4-bd52-738eaec22104\">Pipeline</label><div class=\"sk-toggleable__content\"><pre>Pipeline(steps=[('columntransformer',\n",
       "                 ColumnTransformer(remainder='passthrough',\n",
       "                                   transformers=[('pipeline-1',\n",
       "                                                  Pipeline(steps=[('simpleimputer',\n",
       "                                                                   SimpleImputer(strategy='most_frequent')),\n",
       "                                                                  ('onehotencoder',\n",
       "                                                                   OneHotEncoder(sparse=False))]),\n",
       "                                                  ['sex', 'smoker', 'region']),\n",
       "                                                 ('pipeline-2',\n",
       "                                                  Pipeline(steps=[('simpleimputer',\n",
       "                                                                   SimpleImputer()),\n",
       "                                                                  ('standardscaler',\n",
       "                                                                   StandardScaler())]),\n",
       "                                                  ['age', 'bmi',\n",
       "                                                   'children'])])),\n",
       "                ('elasticnet', ElasticNet(alpha=0.1, random_state=0))])</pre></div></div></div><div class=\"sk-serial\"><div class=\"sk-item sk-dashed-wrapped\"><div class=\"sk-label-container\"><div class=\"sk-label sk-toggleable\"><input class=\"sk-toggleable__control sk-hidden--visually\" id=\"e927cb27-ec25-489d-a2a8-45f06eb43ff5\" type=\"checkbox\" ><label class=\"sk-toggleable__label\" for=\"e927cb27-ec25-489d-a2a8-45f06eb43ff5\">columntransformer: ColumnTransformer</label><div class=\"sk-toggleable__content\"><pre>ColumnTransformer(remainder='passthrough',\n",
       "                  transformers=[('pipeline-1',\n",
       "                                 Pipeline(steps=[('simpleimputer',\n",
       "                                                  SimpleImputer(strategy='most_frequent')),\n",
       "                                                 ('onehotencoder',\n",
       "                                                  OneHotEncoder(sparse=False))]),\n",
       "                                 ['sex', 'smoker', 'region']),\n",
       "                                ('pipeline-2',\n",
       "                                 Pipeline(steps=[('simpleimputer',\n",
       "                                                  SimpleImputer()),\n",
       "                                                 ('standardscaler',\n",
       "                                                  StandardScaler())]),\n",
       "                                 ['age', 'bmi', 'children'])])</pre></div></div></div><div class=\"sk-parallel\"><div class=\"sk-parallel-item\"><div class=\"sk-item\"><div class=\"sk-label-container\"><div class=\"sk-label sk-toggleable\"><input class=\"sk-toggleable__control sk-hidden--visually\" id=\"79b507e8-ef6b-4dba-bab8-08b3306b16c9\" type=\"checkbox\" ><label class=\"sk-toggleable__label\" for=\"79b507e8-ef6b-4dba-bab8-08b3306b16c9\">pipeline-1</label><div class=\"sk-toggleable__content\"><pre>['sex', 'smoker', 'region']</pre></div></div></div><div class=\"sk-serial\"><div class=\"sk-item\"><div class=\"sk-serial\"><div class=\"sk-item\"><div class=\"sk-estimator sk-toggleable\"><input class=\"sk-toggleable__control sk-hidden--visually\" id=\"8118a0a3-897b-4343-a05b-6373fa26602b\" type=\"checkbox\" ><label class=\"sk-toggleable__label\" for=\"8118a0a3-897b-4343-a05b-6373fa26602b\">SimpleImputer</label><div class=\"sk-toggleable__content\"><pre>SimpleImputer(strategy='most_frequent')</pre></div></div></div><div class=\"sk-item\"><div class=\"sk-estimator sk-toggleable\"><input class=\"sk-toggleable__control sk-hidden--visually\" id=\"aab868ae-68cb-4305-9a53-5902d5663807\" type=\"checkbox\" ><label class=\"sk-toggleable__label\" for=\"aab868ae-68cb-4305-9a53-5902d5663807\">OneHotEncoder</label><div class=\"sk-toggleable__content\"><pre>OneHotEncoder(sparse=False)</pre></div></div></div></div></div></div></div></div><div class=\"sk-parallel-item\"><div class=\"sk-item\"><div class=\"sk-label-container\"><div class=\"sk-label sk-toggleable\"><input class=\"sk-toggleable__control sk-hidden--visually\" id=\"edc4eb62-920f-49aa-aa81-b4112d596c9a\" type=\"checkbox\" ><label class=\"sk-toggleable__label\" for=\"edc4eb62-920f-49aa-aa81-b4112d596c9a\">pipeline-2</label><div class=\"sk-toggleable__content\"><pre>['age', 'bmi', 'children']</pre></div></div></div><div class=\"sk-serial\"><div class=\"sk-item\"><div class=\"sk-serial\"><div class=\"sk-item\"><div class=\"sk-estimator sk-toggleable\"><input class=\"sk-toggleable__control sk-hidden--visually\" id=\"5048429c-81ab-43aa-96ec-1ac5b2a969fb\" type=\"checkbox\" ><label class=\"sk-toggleable__label\" for=\"5048429c-81ab-43aa-96ec-1ac5b2a969fb\">SimpleImputer</label><div class=\"sk-toggleable__content\"><pre>SimpleImputer()</pre></div></div></div><div class=\"sk-item\"><div class=\"sk-estimator sk-toggleable\"><input class=\"sk-toggleable__control sk-hidden--visually\" id=\"4087b197-ec7a-4c67-b3af-9fe2ff516ce1\" type=\"checkbox\" ><label class=\"sk-toggleable__label\" for=\"4087b197-ec7a-4c67-b3af-9fe2ff516ce1\">StandardScaler</label><div class=\"sk-toggleable__content\"><pre>StandardScaler()</pre></div></div></div></div></div></div></div></div><div class=\"sk-parallel-item\"><div class=\"sk-item\"><div class=\"sk-label-container\"><div class=\"sk-label sk-toggleable\"><input class=\"sk-toggleable__control sk-hidden--visually\" id=\"4127dcec-a8f1-4c93-9ec9-c7387d105c30\" type=\"checkbox\" ><label class=\"sk-toggleable__label\" for=\"4127dcec-a8f1-4c93-9ec9-c7387d105c30\">remainder</label><div class=\"sk-toggleable__content\"><pre>[['age', 'sex', 'bmi', 'children', 'smoker', 'region']]</pre></div></div></div><div class=\"sk-serial\"><div class=\"sk-item\"><div class=\"sk-estimator sk-toggleable\"><input class=\"sk-toggleable__control sk-hidden--visually\" id=\"d5bce32e-4042-4a69-b9c4-7f1d14b455f2\" type=\"checkbox\" ><label class=\"sk-toggleable__label\" for=\"d5bce32e-4042-4a69-b9c4-7f1d14b455f2\">passthrough</label><div class=\"sk-toggleable__content\"><pre>passthrough</pre></div></div></div></div></div></div></div></div><div class=\"sk-item\"><div class=\"sk-estimator sk-toggleable\"><input class=\"sk-toggleable__control sk-hidden--visually\" id=\"bf6d2e4a-2f91-461a-8d11-a7e70e5f1c85\" type=\"checkbox\" ><label class=\"sk-toggleable__label\" for=\"bf6d2e4a-2f91-461a-8d11-a7e70e5f1c85\">ElasticNet</label><div class=\"sk-toggleable__content\"><pre>ElasticNet(alpha=0.1, random_state=0)</pre></div></div></div></div></div></div></div>"
      ],
      "text/plain": [
       "Pipeline(steps=[('columntransformer',\n",
       "                 ColumnTransformer(remainder='passthrough',\n",
       "                                   transformers=[('pipeline-1',\n",
       "                                                  Pipeline(steps=[('simpleimputer',\n",
       "                                                                   SimpleImputer(strategy='most_frequent')),\n",
       "                                                                  ('onehotencoder',\n",
       "                                                                   OneHotEncoder(sparse=False))]),\n",
       "                                                  ['sex', 'smoker', 'region']),\n",
       "                                                 ('pipeline-2',\n",
       "                                                  Pipeline(steps=[('simpleimputer',\n",
       "                                                                   SimpleImputer()),\n",
       "                                                                  ('standardscaler',\n",
       "                                                                   StandardScaler())]),\n",
       "                                                  ['age', 'bmi',\n",
       "                                                   'children'])])),\n",
       "                ('elasticnet', ElasticNet(alpha=0.1, random_state=0))])"
      ]
     },
     "execution_count": 86,
     "metadata": {},
     "output_type": "execute_result"
    }
   ],
   "source": [
    "from sklearn import set_config\n",
    "set_config(display='diagram')\n",
    "\n",
    "pipe"
   ]
  },
  {
   "cell_type": "code",
   "execution_count": null,
   "id": "386ded28",
   "metadata": {},
   "outputs": [],
   "source": []
  },
  {
   "cell_type": "markdown",
   "id": "023a3c42",
   "metadata": {},
   "source": [
    "## Performance when alpha = 0.1 without Cross-Validation"
   ]
  },
  {
   "cell_type": "code",
   "execution_count": 87,
   "id": "eea030af",
   "metadata": {},
   "outputs": [
    {
     "data": {
      "text/plain": [
       "0.778"
      ]
     },
     "execution_count": 87,
     "metadata": {},
     "output_type": "execute_result"
    }
   ],
   "source": [
    "#R-square\n",
    "from sklearn.metrics import r2_score\n",
    "r2_score(y_test, y_pred).round(3)"
   ]
  },
  {
   "cell_type": "code",
   "execution_count": 88,
   "id": "23cce211",
   "metadata": {},
   "outputs": [],
   "source": [
    "import math"
   ]
  },
  {
   "cell_type": "code",
   "execution_count": 93,
   "id": "713977bd",
   "metadata": {},
   "outputs": [
    {
     "ename": "AttributeError",
     "evalue": "'float' object has no attribute 'round'",
     "output_type": "error",
     "traceback": [
      "\u001b[1;31m---------------------------------------------------------------------------\u001b[0m",
      "\u001b[1;31mAttributeError\u001b[0m                            Traceback (most recent call last)",
      "\u001b[1;32m<ipython-input-93-036145138dd2>\u001b[0m in \u001b[0;36m<module>\u001b[1;34m\u001b[0m\n\u001b[0;32m      2\u001b[0m \u001b[1;32mfrom\u001b[0m \u001b[0msklearn\u001b[0m\u001b[1;33m.\u001b[0m\u001b[0mmetrics\u001b[0m \u001b[1;32mimport\u001b[0m \u001b[0mmean_squared_error\u001b[0m\u001b[1;33m\u001b[0m\u001b[1;33m\u001b[0m\u001b[0m\n\u001b[0;32m      3\u001b[0m \u001b[0mmse\u001b[0m \u001b[1;33m=\u001b[0m \u001b[0mmean_squared_error\u001b[0m\u001b[1;33m(\u001b[0m\u001b[0my_test\u001b[0m\u001b[1;33m,\u001b[0m \u001b[0my_pred\u001b[0m\u001b[1;33m)\u001b[0m\u001b[1;33m\u001b[0m\u001b[1;33m\u001b[0m\u001b[0m\n\u001b[1;32m----> 4\u001b[1;33m \u001b[1;33m(\u001b[0m\u001b[0mmath\u001b[0m\u001b[1;33m.\u001b[0m\u001b[0msqrt\u001b[0m\u001b[1;33m(\u001b[0m\u001b[0mmse\u001b[0m\u001b[1;33m)\u001b[0m\u001b[1;33m)\u001b[0m\u001b[1;33m.\u001b[0m\u001b[0mround\u001b[0m\u001b[1;33m(\u001b[0m\u001b[1;36m2\u001b[0m\u001b[1;33m)\u001b[0m\u001b[1;33m\u001b[0m\u001b[1;33m\u001b[0m\u001b[0m\n\u001b[0m",
      "\u001b[1;31mAttributeError\u001b[0m: 'float' object has no attribute 'round'"
     ]
    }
   ],
   "source": [
    "#RMSE\n",
    "from sklearn.metrics import mean_squared_error\n",
    "mse = mean_squared_error(y_test, y_pred)\n",
    "(math.sqrt(mse)).round(2)"
   ]
  },
  {
   "cell_type": "code",
   "execution_count": 19,
   "id": "5f8cd6ec",
   "metadata": {},
   "outputs": [
    {
     "data": {
      "text/plain": [
       "48.574"
      ]
     },
     "execution_count": 19,
     "metadata": {},
     "output_type": "execute_result"
    }
   ],
   "source": [
    "#MAPE \n",
    "(np.mean(np.abs((y_test - y_pred)/y_test))*100).round(3)"
   ]
  },
  {
   "cell_type": "code",
   "execution_count": 20,
   "id": "0794b0c6",
   "metadata": {},
   "outputs": [
    {
     "data": {
      "text/plain": [
       "0.9988838507351012"
      ]
     },
     "execution_count": 20,
     "metadata": {},
     "output_type": "execute_result"
    }
   ],
   "source": [
    "#PR \n",
    "sum(y_pred)/sum(y_test)"
   ]
  },
  {
   "cell_type": "code",
   "execution_count": null,
   "id": "8033ca04",
   "metadata": {},
   "outputs": [],
   "source": []
  },
  {
   "cell_type": "markdown",
   "id": "191bc03c",
   "metadata": {},
   "source": [
    "## Performance when alpha changes, without Cross-Validation"
   ]
  },
  {
   "cell_type": "code",
   "execution_count": 21,
   "id": "a8034837",
   "metadata": {},
   "outputs": [],
   "source": [
    "#Change alpha from 0 to 1 (0, 0.1, 0.2, 0.3, ... 1.0)\n",
    "from sklearn.model_selection import cross_val_score"
   ]
  },
  {
   "cell_type": "code",
   "execution_count": 22,
   "id": "35b72e24",
   "metadata": {},
   "outputs": [
    {
     "name": "stdout",
     "output_type": "stream",
     "text": [
      "alpha = 0.0 ; R-square: 0.778 ; RMSE: 34976507.497 ; MAPE: 48.574 ; Prediction ratio: 0.999\n",
      "alpha = 0.1 ; R-square: 0.778 ; RMSE: 34976507.497 ; MAPE: 48.574 ; Prediction ratio: 0.999\n",
      "alpha = 0.2 ; R-square: 0.778 ; RMSE: 34976507.497 ; MAPE: 48.574 ; Prediction ratio: 0.999\n",
      "alpha = 0.3 ; R-square: 0.778 ; RMSE: 34976507.497 ; MAPE: 48.574 ; Prediction ratio: 0.999\n",
      "alpha = 0.4 ; R-square: 0.778 ; RMSE: 34976507.497 ; MAPE: 48.574 ; Prediction ratio: 0.999\n",
      "alpha = 0.5 ; R-square: 0.778 ; RMSE: 34976507.497 ; MAPE: 48.574 ; Prediction ratio: 0.999\n",
      "alpha = 0.6 ; R-square: 0.778 ; RMSE: 34976507.497 ; MAPE: 48.574 ; Prediction ratio: 0.999\n",
      "alpha = 0.7 ; R-square: 0.778 ; RMSE: 34976507.497 ; MAPE: 48.574 ; Prediction ratio: 0.999\n",
      "alpha = 0.8 ; R-square: 0.778 ; RMSE: 34976507.497 ; MAPE: 48.574 ; Prediction ratio: 0.999\n",
      "alpha = 0.9 ; R-square: 0.778 ; RMSE: 34976507.497 ; MAPE: 48.574 ; Prediction ratio: 0.999\n",
      "alpha = 1.0 ; R-square: 0.778 ; RMSE: 34976507.497 ; MAPE: 48.574 ; Prediction ratio: 0.999\n"
     ]
    }
   ],
   "source": [
    "for k in np.arange(0, 1.01, 0.1): \n",
    "    Elsnet = ElasticNet(alpha = k, random_state = 0)\n",
    "    y_pred = pipe.predict(X_test)\n",
    "    rsquare = r2_score(y_test, y_pred).round(3)\n",
    "    rmse = mean_squared_error(y_test, y_pred).round(3)\n",
    "    mape = (np.mean(np.abs((y_test - y_pred)/y_test))*100).round(3)\n",
    "    pr = (sum(y_pred)/sum(y_test)).round(3)\n",
    "    \n",
    "    \n",
    "    print('alpha =',k.round(2) , '; R-square:', rsquare, '; RMSE:', rmse, '; MAPE:', mape, '; Prediction ratio:', pr)"
   ]
  },
  {
   "cell_type": "code",
   "execution_count": null,
   "id": "a1804bd7",
   "metadata": {},
   "outputs": [],
   "source": []
  },
  {
   "cell_type": "markdown",
   "id": "485aa688",
   "metadata": {},
   "source": [
    "## Performance when alpha changes and Cross-Validation = 10"
   ]
  },
  {
   "cell_type": "code",
   "execution_count": 23,
   "id": "8aa330ab",
   "metadata": {},
   "outputs": [],
   "source": [
    "from sklearn.model_selection import KFold\n",
    "\n",
    "cv = KFold(n_splits=10, shuffle=True, random_state = 0)\n"
   ]
  },
  {
   "cell_type": "code",
   "execution_count": 24,
   "id": "1f5aceb0",
   "metadata": {},
   "outputs": [
    {
     "name": "stdout",
     "output_type": "stream",
     "text": [
      "k= 0.1 ;mean R-squared: 0.727\n",
      "k= 0.2 ;mean R-squared: 0.704\n",
      "k= 0.3 ;mean R-squared: 0.676\n",
      "k= 0.4 ;mean R-squared: 0.647\n",
      "k= 0.5 ;mean R-squared: 0.618\n",
      "k= 0.6 ;mean R-squared: 0.59\n",
      "k= 0.7 ;mean R-squared: 0.565\n",
      "k= 0.8 ;mean R-squared: 0.541\n",
      "k= 0.9 ;mean R-squared: 0.518\n",
      "k= 1.0 ;mean R-squared: 0.498\n"
     ]
    }
   ],
   "source": [
    "for k in np.arange(0.1, 1.01, 0.1): \n",
    "    Elsnet = ElasticNet(alpha = k,l1_ratio = ,  random_state = 0)\n",
    "    pipe = make_pipeline(preprocessor, Elsnet) \n",
    "    score = cross_val_score(pipe, X, y, cv=cv, scoring='r2').mean().round(3)\n",
    "    \n",
    "    print('k=',k.round(3), ';mean R-squared:', score.mean().round(3))"
   ]
  },
  {
   "cell_type": "code",
   "execution_count": 64,
   "id": "41f9e070",
   "metadata": {},
   "outputs": [
    {
     "name": "stdout",
     "output_type": "stream",
     "text": [
      "k= 0.1 ;mean RMSE: -6213.312\n",
      "k= 0.2 ;mean RMSE: -6490.413\n",
      "k= 0.3 ;mean RMSE: -6804.749\n",
      "k= 0.4 ;mean RMSE: -7113.987\n",
      "k= 0.5 ;mean RMSE: -7402.698\n",
      "k= 0.6 ;mean RMSE: -7666.514\n",
      "k= 0.7 ;mean RMSE: -7905.596\n",
      "k= 0.8 ;mean RMSE: -8121.765\n",
      "k= 0.9 ;mean RMSE: -8317.377\n",
      "k= 1.0 ;mean RMSE: -8494.789\n"
     ]
    }
   ],
   "source": [
    "for k in np.arange(0.1, 1.01, 0.1): \n",
    "    Elsnet = ElasticNet(alpha = k, random_state = 0)\n",
    "    pipe = make_pipeline(preprocessor, Elsnet) \n",
    "    score = cross_val_score(pipe, X, y, cv=cv, scoring='neg_root_mean_squared_error').mean().round(3)\n",
    "    \n",
    "    print('k=',k.round(3), ';mean RMSE:', score.mean().round(3))"
   ]
  },
  {
   "cell_type": "code",
   "execution_count": 51,
   "id": "1439cb7e",
   "metadata": {},
   "outputs": [
    {
     "name": "stdout",
     "output_type": "stream",
     "text": [
      "k= 0.1 ;MAPE: 47.412\n",
      "k= 0.2 ;MAPE: 54.549\n",
      "k= 0.3 ;MAPE: 61.471\n",
      "k= 0.4 ;MAPE: 67.571\n",
      "k= 0.5 ;MAPE: 72.771\n",
      "k= 0.6 ;MAPE: 77.29\n",
      "k= 0.7 ;MAPE: 81.307\n",
      "k= 0.8 ;MAPE: 84.896\n",
      "k= 0.9 ;MAPE: 88.136\n",
      "k= 1.0 ;MAPE: 91.064\n"
     ]
    }
   ],
   "source": [
    "#MAPE\n",
    "from sklearn.model_selection import cross_val_predict\n",
    "\n",
    "for k in np.arange(0.1, 1.01, 0.1): \n",
    "    Elsnet = ElasticNet(alpha = k, random_state = 0)\n",
    "    pipe = make_pipeline(preprocessor, Elsnet) \n",
    "    y_pred = cross_val_predict(pipe, X, y, cv=cv)\n",
    "\n",
    "    MAPE = (np.mean(np.abs((y - y_pred)/y_test))*100).round(3)\n",
    "    #print(y_pred)\n",
    "    #print(y)\n",
    "    print('k=',k.round(3), ';MAPE:', MAPE.round(3))"
   ]
  },
  {
   "cell_type": "code",
   "execution_count": 45,
   "id": "74d7a2e6",
   "metadata": {},
   "outputs": [
    {
     "name": "stdout",
     "output_type": "stream",
     "text": [
      "k= 0.1 ;PR: 1.0\n",
      "k= 0.2 ;PR: 1.0\n",
      "k= 0.3 ;PR: 1.0\n",
      "k= 0.4 ;PR: 1.0\n",
      "k= 0.5 ;PR: 1.0\n",
      "k= 0.6 ;PR: 1.0\n",
      "k= 0.7 ;PR: 1.0\n",
      "k= 0.8 ;PR: 1.0\n",
      "k= 0.9 ;PR: 1.0\n",
      "k= 1.0 ;PR: 1.0\n"
     ]
    }
   ],
   "source": [
    "#PR \n",
    "\n",
    "for k in np.arange(0.1, 1.01, 0.1): \n",
    "    Elsnet = ElasticNet(alpha = k, random_state = 0)\n",
    "    pipe = make_pipeline(preprocessor, Elsnet) \n",
    "    y_pred = cross_val_predict(pipe, X, y, cv=cv)\n",
    "    PR = (sum(y_pred)/sum(y)).round(3)\n",
    "  \n",
    "    print('k=',k.round(3), ';PR:', PR.round(3))"
   ]
  },
  {
   "cell_type": "code",
   "execution_count": null,
   "id": "09e86bf2",
   "metadata": {},
   "outputs": [],
   "source": []
  },
  {
   "cell_type": "markdown",
   "id": "a316e7ad",
   "metadata": {},
   "source": [
    "## Performance when alpha, lambda changes and Cross-Validation = 10"
   ]
  },
  {
   "cell_type": "code",
   "execution_count": 57,
   "id": "9e068d79",
   "metadata": {},
   "outputs": [],
   "source": [
    "#selecting the best model \n",
    "from sklearn.model_selection import GridSearchCV "
   ]
  },
  {
   "cell_type": "code",
   "execution_count": 58,
   "id": "eb204468",
   "metadata": {},
   "outputs": [
    {
     "data": {
      "text/plain": [
       "{'memory': None,\n",
       " 'steps': [('columntransformer',\n",
       "   ColumnTransformer(remainder='passthrough',\n",
       "                     transformers=[('pipeline-1',\n",
       "                                    Pipeline(steps=[('simpleimputer',\n",
       "                                                     SimpleImputer(strategy='most_frequent')),\n",
       "                                                    ('onehotencoder',\n",
       "                                                     OneHotEncoder(sparse=False))]),\n",
       "                                    ['sex', 'smoker', 'region']),\n",
       "                                   ('pipeline-2',\n",
       "                                    Pipeline(steps=[('simpleimputer',\n",
       "                                                     SimpleImputer()),\n",
       "                                                    ('standardscaler',\n",
       "                                                     StandardScaler())]),\n",
       "                                    ['age', 'bmi', 'children'])])),\n",
       "  ('elasticnet', ElasticNet(random_state=0))],\n",
       " 'verbose': False,\n",
       " 'columntransformer': ColumnTransformer(remainder='passthrough',\n",
       "                   transformers=[('pipeline-1',\n",
       "                                  Pipeline(steps=[('simpleimputer',\n",
       "                                                   SimpleImputer(strategy='most_frequent')),\n",
       "                                                  ('onehotencoder',\n",
       "                                                   OneHotEncoder(sparse=False))]),\n",
       "                                  ['sex', 'smoker', 'region']),\n",
       "                                 ('pipeline-2',\n",
       "                                  Pipeline(steps=[('simpleimputer',\n",
       "                                                   SimpleImputer()),\n",
       "                                                  ('standardscaler',\n",
       "                                                   StandardScaler())]),\n",
       "                                  ['age', 'bmi', 'children'])]),\n",
       " 'elasticnet': ElasticNet(random_state=0),\n",
       " 'columntransformer__n_jobs': None,\n",
       " 'columntransformer__remainder': 'passthrough',\n",
       " 'columntransformer__sparse_threshold': 0.3,\n",
       " 'columntransformer__transformer_weights': None,\n",
       " 'columntransformer__transformers': [('pipeline-1',\n",
       "   Pipeline(steps=[('simpleimputer', SimpleImputer(strategy='most_frequent')),\n",
       "                   ('onehotencoder', OneHotEncoder(sparse=False))]),\n",
       "   ['sex', 'smoker', 'region']),\n",
       "  ('pipeline-2',\n",
       "   Pipeline(steps=[('simpleimputer', SimpleImputer()),\n",
       "                   ('standardscaler', StandardScaler())]),\n",
       "   ['age', 'bmi', 'children'])],\n",
       " 'columntransformer__verbose': False,\n",
       " 'columntransformer__pipeline-1': Pipeline(steps=[('simpleimputer', SimpleImputer(strategy='most_frequent')),\n",
       "                 ('onehotencoder', OneHotEncoder(sparse=False))]),\n",
       " 'columntransformer__pipeline-2': Pipeline(steps=[('simpleimputer', SimpleImputer()),\n",
       "                 ('standardscaler', StandardScaler())]),\n",
       " 'columntransformer__pipeline-1__memory': None,\n",
       " 'columntransformer__pipeline-1__steps': [('simpleimputer',\n",
       "   SimpleImputer(strategy='most_frequent')),\n",
       "  ('onehotencoder', OneHotEncoder(sparse=False))],\n",
       " 'columntransformer__pipeline-1__verbose': False,\n",
       " 'columntransformer__pipeline-1__simpleimputer': SimpleImputer(strategy='most_frequent'),\n",
       " 'columntransformer__pipeline-1__onehotencoder': OneHotEncoder(sparse=False),\n",
       " 'columntransformer__pipeline-1__simpleimputer__add_indicator': False,\n",
       " 'columntransformer__pipeline-1__simpleimputer__copy': True,\n",
       " 'columntransformer__pipeline-1__simpleimputer__fill_value': None,\n",
       " 'columntransformer__pipeline-1__simpleimputer__missing_values': nan,\n",
       " 'columntransformer__pipeline-1__simpleimputer__strategy': 'most_frequent',\n",
       " 'columntransformer__pipeline-1__simpleimputer__verbose': 0,\n",
       " 'columntransformer__pipeline-1__onehotencoder__categories': 'auto',\n",
       " 'columntransformer__pipeline-1__onehotencoder__drop': None,\n",
       " 'columntransformer__pipeline-1__onehotencoder__dtype': numpy.float64,\n",
       " 'columntransformer__pipeline-1__onehotencoder__handle_unknown': 'error',\n",
       " 'columntransformer__pipeline-1__onehotencoder__sparse': False,\n",
       " 'columntransformer__pipeline-2__memory': None,\n",
       " 'columntransformer__pipeline-2__steps': [('simpleimputer', SimpleImputer()),\n",
       "  ('standardscaler', StandardScaler())],\n",
       " 'columntransformer__pipeline-2__verbose': False,\n",
       " 'columntransformer__pipeline-2__simpleimputer': SimpleImputer(),\n",
       " 'columntransformer__pipeline-2__standardscaler': StandardScaler(),\n",
       " 'columntransformer__pipeline-2__simpleimputer__add_indicator': False,\n",
       " 'columntransformer__pipeline-2__simpleimputer__copy': True,\n",
       " 'columntransformer__pipeline-2__simpleimputer__fill_value': None,\n",
       " 'columntransformer__pipeline-2__simpleimputer__missing_values': nan,\n",
       " 'columntransformer__pipeline-2__simpleimputer__strategy': 'mean',\n",
       " 'columntransformer__pipeline-2__simpleimputer__verbose': 0,\n",
       " 'columntransformer__pipeline-2__standardscaler__copy': True,\n",
       " 'columntransformer__pipeline-2__standardscaler__with_mean': True,\n",
       " 'columntransformer__pipeline-2__standardscaler__with_std': True,\n",
       " 'elasticnet__alpha': 1.0,\n",
       " 'elasticnet__copy_X': True,\n",
       " 'elasticnet__fit_intercept': True,\n",
       " 'elasticnet__l1_ratio': 0.5,\n",
       " 'elasticnet__max_iter': 1000,\n",
       " 'elasticnet__normalize': False,\n",
       " 'elasticnet__positive': False,\n",
       " 'elasticnet__precompute': False,\n",
       " 'elasticnet__random_state': 0,\n",
       " 'elasticnet__selection': 'cyclic',\n",
       " 'elasticnet__tol': 0.0001,\n",
       " 'elasticnet__warm_start': False}"
      ]
     },
     "execution_count": 58,
     "metadata": {},
     "output_type": "execute_result"
    }
   ],
   "source": [
    "pipe.get_params()"
   ]
  },
  {
   "cell_type": "code",
   "execution_count": 60,
   "id": "63e5eef1",
   "metadata": {},
   "outputs": [],
   "source": [
    "param_grid = { 'elasticnet__alpha': arange(0, 1, 0.1),\n",
    "              'elasticnet__l1_ratio': arange(0, 1, 0.01)\n",
    "}"
   ]
  },
  {
   "cell_type": "code",
   "execution_count": 59,
   "id": "c066ebca",
   "metadata": {},
   "outputs": [
    {
     "data": {
      "text/plain": [
       "array([0.  , 0.01, 0.02, 0.03, 0.04, 0.05, 0.06, 0.07, 0.08, 0.09, 0.1 ,\n",
       "       0.11, 0.12, 0.13, 0.14, 0.15, 0.16, 0.17, 0.18, 0.19, 0.2 , 0.21,\n",
       "       0.22, 0.23, 0.24, 0.25, 0.26, 0.27, 0.28, 0.29, 0.3 , 0.31, 0.32,\n",
       "       0.33, 0.34, 0.35, 0.36, 0.37, 0.38, 0.39, 0.4 , 0.41, 0.42, 0.43,\n",
       "       0.44, 0.45, 0.46, 0.47, 0.48, 0.49, 0.5 , 0.51, 0.52, 0.53, 0.54,\n",
       "       0.55, 0.56, 0.57, 0.58, 0.59, 0.6 , 0.61, 0.62, 0.63, 0.64, 0.65,\n",
       "       0.66, 0.67, 0.68, 0.69, 0.7 , 0.71, 0.72, 0.73, 0.74, 0.75, 0.76,\n",
       "       0.77, 0.78, 0.79, 0.8 , 0.81, 0.82, 0.83, 0.84, 0.85, 0.86, 0.87,\n",
       "       0.88, 0.89, 0.9 , 0.91, 0.92, 0.93, 0.94, 0.95, 0.96, 0.97, 0.98,\n",
       "       0.99])"
      ]
     },
     "execution_count": 59,
     "metadata": {},
     "output_type": "execute_result"
    }
   ],
   "source": []
  },
  {
   "cell_type": "code",
   "execution_count": 65,
   "id": "39c8f263",
   "metadata": {},
   "outputs": [
    {
     "name": "stdout",
     "output_type": "stream",
     "text": [
      "{'elasticnet__alpha': 0.0, 'elasticnet__l1_ratio': 0.0}\n",
      "-6202.206619992716\n"
     ]
    },
    {
     "name": "stderr",
     "output_type": "stream",
     "text": [
      "C:\\Users\\Joy\\anaconda3\\lib\\site-packages\\sklearn\\pipeline.py:346: UserWarning: With alpha=0, this algorithm does not converge well. You are advised to use the LinearRegression estimator\n",
      "  self._final_estimator.fit(Xt, y, **fit_params_last_step)\n",
      "C:\\Users\\Joy\\anaconda3\\lib\\site-packages\\sklearn\\linear_model\\_coordinate_descent.py:530: UserWarning: Coordinate descent with no regularization may lead to unexpected results and is discouraged.\n",
      "  model = cd_fast.enet_coordinate_descent(\n",
      "C:\\Users\\Joy\\anaconda3\\lib\\site-packages\\sklearn\\linear_model\\_coordinate_descent.py:530: ConvergenceWarning: Objective did not converge. You might want to increase the number of iterations. Duality gap: 19057531616.84561, tolerance: 14332173.513203098\n",
      "  model = cd_fast.enet_coordinate_descent(\n"
     ]
    }
   ],
   "source": [
    "#RMSE\n",
    "gs = GridSearchCV(pipe, param_grid = param_grid, cv = cv, scoring='neg_root_mean_squared_error', n_jobs=-1)\n",
    "gs.fit(X_train, y_train)\n",
    "print(gs.best_params_)\n",
    "print(gs.best_score_)"
   ]
  },
  {
   "cell_type": "code",
   "execution_count": 70,
   "id": "dc9f306e",
   "metadata": {},
   "outputs": [
    {
     "name": "stdout",
     "output_type": "stream",
     "text": [
      "{'elasticnet__alpha': 0.30000000000000004, 'elasticnet__l1_ratio': 0.99}\n",
      "0.7186805826249072\n"
     ]
    }
   ],
   "source": [
    "#R2\n",
    "gs = GridSearchCV(pipe, param_grid = param_grid, cv = cv, scoring='r2', n_jobs=-1)\n",
    "gs.fit(X_train, y_train)\n",
    "print(gs.best_params_)\n",
    "print(gs.best_score_)"
   ]
  },
  {
   "cell_type": "code",
   "execution_count": null,
   "id": "ddf7655a",
   "metadata": {},
   "outputs": [],
   "source": [
    "#MAPE\n",
    "gs = GridSearchCV(pipe, param_grid = param_grid, cv = cv, scoring='r2', n_jobs=-1)\n",
    "gs.fit(X_train, y_train)\n",
    "print(gs.best_params_)\n",
    "print(gs.best_score_)"
   ]
  },
  {
   "cell_type": "code",
   "execution_count": null,
   "id": "644e2dc2",
   "metadata": {},
   "outputs": [],
   "source": [
    "#PR\n",
    "gs = GridSearchCV(pipe, param_grid = param_grid, cv = cv, scoring='r2', n_jobs=-1)\n",
    "gs.fit(X_train, y_train)\n",
    "print(gs.best_params_)\n",
    "print(gs.best_score_)"
   ]
  }
 ],
 "metadata": {
  "kernelspec": {
   "display_name": "Python 3",
   "language": "python",
   "name": "python3"
  },
  "language_info": {
   "codemirror_mode": {
    "name": "ipython",
    "version": 3
   },
   "file_extension": ".py",
   "mimetype": "text/x-python",
   "name": "python",
   "nbconvert_exporter": "python",
   "pygments_lexer": "ipython3",
   "version": "3.8.5"
  }
 },
 "nbformat": 4,
 "nbformat_minor": 5
}
